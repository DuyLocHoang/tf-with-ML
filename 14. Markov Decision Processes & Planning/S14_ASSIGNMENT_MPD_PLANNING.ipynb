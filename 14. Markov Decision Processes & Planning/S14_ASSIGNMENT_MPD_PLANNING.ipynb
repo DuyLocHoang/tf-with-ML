{
  "nbformat": 4,
  "nbformat_minor": 0,
  "metadata": {
    "colab": {
      "name": "S14_ASSIGNMENT_MPD_PLANNING.ipynb",
      "provenance": [],
      "collapsed_sections": []
    },
    "kernelspec": {
      "name": "python3",
      "display_name": "Python 3"
    }
  },
  "cells": [
    {
      "cell_type": "markdown",
      "metadata": {
        "id": "uVU__5ENeaHz"
      },
      "source": [
        "<h1><center>\n",
        "\n",
        "![](https://i.imgur.com/jrRGMfx.png)\n",
        "\n",
        "AI PRACTITIONER COURSE \n",
        "\n",
        "ASSIGNMENT - SESSION 14 - Markov Decision Processes & Planning \n",
        "\n",
        "**&copy; 2020 VTCA-COTAI. Internal Use Only.**\n",
        "\n",
        "</center></h1>"
      ]
    },
    {
      "cell_type": "markdown",
      "metadata": {
        "id": "x7NGiNLvebc5"
      },
      "source": [
        "# 14.1 Theory Review\n",
        "\n",
        "## 14.1.1 [1 Point] MDPs\n",
        "\n",
        "- The simplest formulation of sequential decision making problems is called Markov Decision Processes (MDPs), denoted as a 5-tuple $\\langle S,A,P,R,\\gamma\\rangle$. Explain very briefly each element.\n",
        "\n",
        "- Mô hình ra quyết định đơn giản nhất gọi là mô hình Markov (MDPs), gồm 5 thành phần $\\langle S,A,P,R,\\gamma\\rangle$. Giải thích ngắn gọn từng thành phần.\n",
        "\n",
        "\n",
        "## 14.1.2 [1 Point] MDP objective function\n",
        "\n",
        "- Explain in detail: What is the objective function of an MDP? That is, what does the RL agent/controller try to maximize?\n",
        "\n",
        "- Giải thích chi tiết: Hàm mục tiêu trong MDP là gì? Tức là, giải thuật RL đi tối ưu cái gì?\n",
        "\n",
        "## 14.1.3 [1 Point] Planning in MDP\n",
        "\n",
        "- What are the differences between planning and learning in MDPs? How to solve MDP planning using Dynamic Programming (DP)?\n",
        "\n",
        "- Lên kế hoạch khác với học điều khiển trong MDPs ra sao? Phương pháp quy hoạch động (DP) giải quyết bài toán lên kế hoạch trong MDPs ra sao?\n"
      ]
    },
    {
      "cell_type": "markdown",
      "metadata": {
        "id": "Q3zbHExLJb_1"
      },
      "source": [
        "**14.1.1.**\n",
        "\n",
        "S : Trạng thái hiện tại của agent là gì\n",
        "\n",
        "A : Agent sẽ thực hiện hành động gì \n",
        "\n",
        "P : Xác xuất để thực hiện hành động đó \n",
        "\n",
        "R : Sau khi thực hiện hành động đó ta sẽ được phần thưởng gì \n",
        "\n",
        "$\\gamma$ : Hệ số discount. Để đảm bảo cho cái value của action càng xa đích thì càng nhỏ."
      ]
    },
    {
      "cell_type": "markdown",
      "metadata": {
        "id": "SaDasftsLizv"
      },
      "source": [
        "**14.1.2**\n",
        "\n",
        "Hàm mục tiêu trong MDP\n",
        "\n",
        "![image.png](data:image/png;base64,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)"
      ]
    },
    {
      "cell_type": "markdown",
      "metadata": {
        "id": "ILFqKvuyYiX4"
      },
      "source": [
        "Giải thuật sẽ cố gắng chọn ra các actions tối ưu nhất tức là chọn ra những cái có Q_action lớn nhất để tối đa hoá R nhận được. Nghĩa là nó sẽ đi tìm ra những policy tốt nhất "
      ]
    },
    {
      "cell_type": "markdown",
      "metadata": {
        "id": "wz00q_qEOSXw"
      },
      "source": [
        "**14.1.3**\n",
        "Planning khác Learning : Không có hệ số P máy sẽ phải tự học để đưa ra hành động tiếp theo nào là tốt nhất\n",
        "\n",
        "Phương pháp : Chia bài lớn thành nhiều bài nhỏ xong giải quyết bài nhỏ là sẽ giải quyết được bài lớn. Sau khi vừa chia xong là ta sẽ lập tức giải"
      ]
    },
    {
      "cell_type": "markdown",
      "metadata": {
        "id": "LTDPbnSJerhE"
      },
      "source": [
        "# 14.2 [5 Points] Coding Practice"
      ]
    },
    {
      "cell_type": "markdown",
      "metadata": {
        "id": "pq8bxr5Oe76z"
      },
      "source": [
        "Trong Assignment này, ta sẽ thực hiện Planning cho game Hồ Băng (Frozen Lake). Khác với bài lab, môi trường game sẽ được tạo tự động bởi thư viện Gym của OpenAI và game sẽ có tính năng trượt (thực hiện action **`A`** nhưng sẽ không đến state **`s'`** mong muốn mà sẽ trượt sang state khác)\n",
        "\n",
        "![frozen-lake-map](https://i.imgur.com/1WS7wFJ.png)"
      ]
    },
    {
      "cell_type": "code",
      "metadata": {
        "id": "IsJQ91zBfvdt"
      },
      "source": [
        "import gym\n",
        "import numpy as np\n",
        "import matplotlib.pyplot as plt\n",
        "from matplotlib.table import Table"
      ],
      "execution_count": null,
      "outputs": []
    },
    {
      "cell_type": "markdown",
      "metadata": {
        "id": "QQf7Fcwae4Rd"
      },
      "source": [
        "## 14.2.1 Khởi tạo môi trường game hồ băng"
      ]
    },
    {
      "cell_type": "markdown",
      "metadata": {
        "id": "OzC9bQzlf2J2"
      },
      "source": [
        "Ở đây ta dùng lệnh render để hiển thị bản đồ game, cũng như vị trí hiện tại, các hố băng và Goal."
      ]
    },
    {
      "cell_type": "code",
      "metadata": {
        "id": "dx0T8cNleVIE",
        "colab": {
          "base_uri": "https://localhost:8080/"
        },
        "outputId": "9a6cd5f8-2638-412c-9646-2a4458ef2da0"
      },
      "source": [
        "env = gym.make('FrozenLake-v0', is_slippery=True)\n",
        "env.seed(42)\n",
        "env.render()"
      ],
      "execution_count": null,
      "outputs": [
        {
          "output_type": "stream",
          "text": [
            "\n",
            "\u001b[41mS\u001b[0mFFF\n",
            "FHFH\n",
            "FFFH\n",
            "HFFG\n"
          ],
          "name": "stdout"
        }
      ]
    },
    {
      "cell_type": "markdown",
      "metadata": {
        "id": "QbjWmgGogGi0"
      },
      "source": [
        "Môi trường được Gym tạo ra cũng có 4 action (left, down, right, up)"
      ]
    },
    {
      "cell_type": "code",
      "metadata": {
        "id": "I03avYrzfqpW",
        "colab": {
          "base_uri": "https://localhost:8080/"
        },
        "outputId": "fdb0f8e1-7674-4768-df46-91c67662f059"
      },
      "source": [
        "print(env.action_space)\n",
        "# or\n",
        "print(env.env.nA)"
      ],
      "execution_count": null,
      "outputs": [
        {
          "output_type": "stream",
          "text": [
            "Discrete(4)\n",
            "4\n"
          ],
          "name": "stdout"
        }
      ]
    },
    {
      "cell_type": "markdown",
      "metadata": {
        "id": "P_EmSuZZgVbm"
      },
      "source": [
        "Và 16 state"
      ]
    },
    {
      "cell_type": "code",
      "metadata": {
        "id": "U0BJl2LfgRcJ",
        "colab": {
          "base_uri": "https://localhost:8080/"
        },
        "outputId": "1e446cdb-bf24-4f3d-da7b-fbf852705d49"
      },
      "source": [
        "print(env.observation_space)\n",
        "# or \n",
        "print(env.env.nS)\n"
      ],
      "execution_count": null,
      "outputs": [
        {
          "output_type": "stream",
          "text": [
            "Discrete(16)\n",
            "16\n"
          ],
          "name": "stdout"
        }
      ]
    },
    {
      "cell_type": "markdown",
      "metadata": {
        "id": "ipnn-wd1tyGg"
      },
      "source": [
        "Hệ thống reward của game (0 cho mọi nơi và 1 cho goal)"
      ]
    },
    {
      "cell_type": "code",
      "metadata": {
        "id": "nS4bz_Aytz0R",
        "colab": {
          "base_uri": "https://localhost:8080/"
        },
        "outputId": "164adb11-ad51-4ec0-bacb-7a5c597af3d5"
      },
      "source": [
        "env.reward_range"
      ],
      "execution_count": null,
      "outputs": [
        {
          "output_type": "execute_result",
          "data": {
            "text/plain": [
              "(0, 1)"
            ]
          },
          "metadata": {
            "tags": []
          },
          "execution_count": 10
        }
      ]
    },
    {
      "cell_type": "markdown",
      "metadata": {
        "id": "H9EGeOxHgfOj"
      },
      "source": [
        "Test thử tính năng trượt của game, ở vị trí hiện tại (current_state = 0) ta sẽ thử thực hiện di chuyển sang bên phải (action số 2) với hy vọng là next_state sẽ bằng 1"
      ]
    },
    {
      "cell_type": "code",
      "metadata": {
        "id": "b6sOY8CCgUEa",
        "colab": {
          "base_uri": "https://localhost:8080/"
        },
        "outputId": "8114cd8d-1fe9-47f4-c659-0580a257144b"
      },
      "source": [
        "env.reset()\n",
        "env.step(2)\n",
        "env.render()"
      ],
      "execution_count": null,
      "outputs": [
        {
          "output_type": "stream",
          "text": [
            "  (Right)\n",
            "S\u001b[41mF\u001b[0mFF\n",
            "FHFH\n",
            "FFFH\n",
            "HFFG\n"
          ],
          "name": "stdout"
        }
      ]
    },
    {
      "cell_type": "markdown",
      "metadata": {
        "id": "WUfvFpxqhD70"
      },
      "source": [
        "Chạy cell bên trên, ta quan sát được mặc dù đã thực hiện Action=Right nhưng vị trí hiện tại của player vẫn không thay đổi. Hãy thử chạy cell trên nhiều lần xem player sẽ bị **trượt** đến ô nào.\n",
        "\n",
        "Ở đây, ta thực hiện kiểm tra **Khi thực hiện 1 action bất kỳ, xác suất cũng như state bị dịch chuyển đến là bao nhiêu**"
      ]
    },
    {
      "cell_type": "code",
      "metadata": {
        "id": "ZUNAfbvng7z9",
        "colab": {
          "base_uri": "https://localhost:8080/"
        },
        "outputId": "d0bc00c1-7b17-4177-e534-6cc86e90dc9e"
      },
      "source": [
        "current_state = env.reset()\n",
        "action = 0 # Right\n",
        "env.P[current_state][action]"
      ],
      "execution_count": null,
      "outputs": [
        {
          "output_type": "execute_result",
          "data": {
            "text/plain": [
              "[(0.3333333333333333, 0, 0.0, False),\n",
              " (0.3333333333333333, 0, 0.0, False),\n",
              " (0.3333333333333333, 4, 0.0, False)]"
            ]
          },
          "metadata": {
            "tags": []
          },
          "execution_count": 12
        }
      ]
    },
    {
      "cell_type": "markdown",
      "metadata": {
        "id": "7bmfwyZ4h7aN"
      },
      "source": [
        "4 con số được trả ra tương ứng với **`(xác suất, new state, reward, biến boolean thể hiện game có kết thúc hay không)`**\n",
        "\n",
        "Thử Test tính năng Trượt 1 lần nữa, ở đây ta giả lập rằng current_state=10 và đi sang trái (Học viên tự thay đổi current_state và action để quan sát xem player sẽ bị trượt đến những ô nào)"
      ]
    },
    {
      "cell_type": "code",
      "metadata": {
        "id": "3w_lZlUAhn7Q",
        "colab": {
          "base_uri": "https://localhost:8080/"
        },
        "outputId": "a58aa819-6c6f-40cf-b102-a2c474a6f88e"
      },
      "source": [
        "env.reset()\n",
        "current_state=10\n",
        "action = 0# left\n",
        "env.P[current_state][action]"
      ],
      "execution_count": null,
      "outputs": [
        {
          "output_type": "execute_result",
          "data": {
            "text/plain": [
              "[(0.3333333333333333, 6, 0.0, False),\n",
              " (0.3333333333333333, 9, 0.0, False),\n",
              " (0.3333333333333333, 14, 0.0, False)]"
            ]
          },
          "metadata": {
            "tags": []
          },
          "execution_count": 13
        }
      ]
    },
    {
      "cell_type": "markdown",
      "metadata": {
        "id": "noRtWLvuixVd"
      },
      "source": [
        "## 14.2.2 [1 Point] Question: Từ những lần test trên, kết luận xem tính năng trượt của game hoạt động như thế nào?\n",
        "\n"
      ]
    },
    {
      "cell_type": "markdown",
      "metadata": {
        "id": "wjDAtdwrju6K"
      },
      "source": [
        "**Your answer here**\n",
        "\n",
        "Phụ thuộc vào xác xuất P có thể action = 'Right' tuy nhiên vẫn có thể dịch chuyển theo hướng khác"
      ]
    },
    {
      "cell_type": "markdown",
      "metadata": {
        "id": "lcaNZ6I1OV-p"
      },
      "source": [
        "Sau khi đã hiểu được tính năng trượt của game hoạt động như thế nào, học viên hãy tự chơi trước để có thể so sánh cách chơi của mình với cách chơi của máy sau khi học."
      ]
    },
    {
      "cell_type": "markdown",
      "metadata": {
        "id": "H_6KVhAyjtuf"
      },
      "source": [
        "## 14.2.3 [2 Points] Planning"
      ]
    },
    {
      "cell_type": "markdown",
      "metadata": {
        "id": "0-hrVdqHPtDB"
      },
      "source": [
        "Các hàm hỗ trợ \n",
        "\n",
        "*   ``play_one_game()``: để render ra môi trường game và các action của agent theo optimal policy đã học được\n",
        "*   ``get_average_winrate()``: cho agent chơi 1000 game (episodes) theo **optimal policy** và đánh giá win rate\n",
        "\n",
        "  * **Khuyến khích học viên đọc hiểu code 2 hàm bên trên**\n",
        "\n",
        "*   ``visualize_policy()``: vẽ ra policy tối ưu\n",
        "\n"
      ]
    },
    {
      "cell_type": "code",
      "metadata": {
        "id": "w25hyh_-EC5F"
      },
      "source": [
        "def play_one_game(env, policy):\n",
        "  cur_state = env.reset()\n",
        "  print('Starting position')\n",
        "  env.render()\n",
        "  while True:\n",
        "    best_action = policy[cur_state]\n",
        "    cur_state, reward, terminated, _ = env.step(best_action)\n",
        "    env.render()\n",
        "    if terminated and reward == 1:\n",
        "      print('You Win!')\n",
        "      break\n",
        "    elif terminated and reward == 0:\n",
        "      print('You Lose!')\n",
        "      break\n",
        "\n",
        "def get_average_winrate(env, policy, episodes=1000):\n",
        "  misses = 0\n",
        "  steps_list = []\n",
        "  for episode in range(episodes):\n",
        "    state = env.reset()\n",
        "    steps=0\n",
        "    while True: \n",
        "      action = policy[state]\n",
        "      state, reward, terminated, _ = env.step(action)\n",
        "      steps+=1\n",
        "      if terminated and reward == 1:\n",
        "        # win\n",
        "        steps_list.append(steps)\n",
        "        break\n",
        "      elif terminated and reward == 0:\n",
        "        # lose\n",
        "        misses += 1\n",
        "        break\n",
        "  print('----------------------------------------------')\n",
        "  print('You took an average of {:.0f} steps to get the frisbee'.format(np.mean(steps_list)))\n",
        "  print('And you fell in the hole {:.2f} % of the times'.format((misses/episodes) * 10))\n",
        "  print('----------------------------------------------')\n",
        "\n",
        "\n",
        "def visualize_policy(policy, terminal):\n",
        "  index_to_action = {\n",
        "    0:'left',\n",
        "    1:'down',\n",
        "    2:'right',\n",
        "    3:'up'\n",
        "  }\n",
        "  temp = []\n",
        "  for i in range(4):\n",
        "    temp_1 = []\n",
        "    for j in range(4):\n",
        "      temp_1.append(index_to_action.get(policy[i*4+j]))\n",
        "    temp.append(temp_1)\n",
        "\n",
        "  data = pd.DataFrame(temp)\n",
        "  fig, ax = plt.subplots(figsize=(10,10))\n",
        "  ax.set_axis_off()\n",
        "  tb = Table(ax, bbox=[0,0,1,1])\n",
        "\n",
        "  nrows, ncols = 4, 4\n",
        "  width, height = 1.0 / ncols, 1.0 / nrows\n",
        "\n",
        "  bkg_colors = ['teal' for i in range(16)]\n",
        "  for pos in terminal:\n",
        "    bkg_colors[pos] = 'blue'\n",
        "  bkg_colors[0] = 'orange'\n",
        "  bkg_colors[15] = 'green'\n",
        "  \n",
        "\n",
        "  # Add cells\n",
        "  for (i,j), val in np.ndenumerate(data):\n",
        "    # Index either the first or second item of bkg_colors based on\n",
        "    # a checker board pattern\n",
        "    color = bkg_colors[i*4 + j]\n",
        "    if i*4+j in terminal and i*4+j!=15:\n",
        "      tb.add_cell(i, j, width, height, text='die', \n",
        "                  loc='center', facecolor=color)\n",
        "    elif i*4+j==15:\n",
        "      tb.add_cell(i, j, width, height, text='goal', \n",
        "                  loc='center', facecolor=color)\n",
        "    else:\n",
        "      tb.add_cell(i, j, width, height, text=val, \n",
        "                  loc='center', facecolor=color)\n",
        "\n",
        "  ax.add_table(tb)\n",
        "  plt.show()"
      ],
      "execution_count": null,
      "outputs": []
    },
    {
      "cell_type": "markdown",
      "metadata": {
        "id": "d6d269jGq0dA"
      },
      "source": [
        "Sự khác nhau giữa bài lab (môi trường tự tạo) và Assignment (môi trường có sẵn của Gym.\n",
        "\n",
        "\n",
        "<table style=\"width:100%\">\n",
        "  <tr>\n",
        "    <th>Bài Lab</th>\n",
        "    <th>Assignment</th>\n",
        "  </tr>\n",
        " \n",
        "  <tr>\n",
        "    <td>Tự tạo reward theo state hiện tại</td>\n",
        "    <td>Ta có biến reward được môi trường trả ra</td>\n",
        "  </tr>\n",
        "  <tr>\n",
        "    <td>Deterministic Environment (thực hiện action a, mặc định sẽ đến state s')</td>\n",
        "    <td>Stochastic Environment (thực hiện action a, môi trường có xác suất quyết định state s' sẽ đến)</td>\n",
        "  </tr>\n",
        "    <tr>\n",
        "    <td>P(s' | a,s) = 1 và không có sum</td>\n",
        "    <td>Có xác suất do đó có sum giữa những state s'</td>\n",
        "</table>\n",
        "\n",
        "\n",
        "Ở phần này, ta dùng Bellman's Optimality Equations để thực hiện Planning\n",
        "\n",
        "**Bellman's Optimality Equations**\n",
        "\n",
        "(Cho bài toán hồ băng với Stochastic Environment) \n",
        "\n",
        "$$\n",
        "\\forall s,a: ~ Q(s,a) = \\sum_{s'} P(s'|s,a)\\big[R(s,a,s') + \\gamma \\max_{a'}(Q(s',a'))\\big].\n",
        "$$"
      ]
    },
    {
      "cell_type": "markdown",
      "metadata": {
        "id": "uzPSzrbzuhpz"
      },
      "source": [
        "**GỢI Ý VIẾT HÀM PLANNING**\n",
        "\n",
        "- Các thông số quan trọng\n",
        "  - $P(s'|s,a)$: xác suất đến được state $s'$ sau khi thực hiện action $a$ tại state $s$  \n",
        "  - $R(s,a,s')$: reward nhận được khi đến được state $s'$ từ state $s$ với action $a$\n",
        "- Ta dùng câu lệnh sau để lấy ra các thông số trên:\n",
        "```\n",
        "for probability, next_state, reward, terminated in env.P[state][action]:\n",
        "```\n",
        "  - ``next_state``: một con số đại diện cho vị trí của ô tiếp theo\n",
        "  - ``probability``: xác suất đến được ``next_state``\n",
        "  - ``reward``: reward của ``next_state``, $1$ khi về đích, $0$ trong các trường hợp còn lại\n",
        "  - ``terminated``: ``True`` hoặc ``False``, ``True`` khi agent rớt xuống hố hoặc về đích, ``False`` trong các trường hợp còn lại\n",
        "- Ta cần dùng 1 biến tạm để tính tổng cho tất cả các trường hợp trong vòng ``for`` bên trên\n",
        "- Sau đó, gán giá trị của biến tạm cho ``Q[state, action]``"
      ]
    },
    {
      "cell_type": "markdown",
      "metadata": {
        "id": "pGRmCTFlPMiu"
      },
      "source": [
        "### TODOs [2 Point]\n",
        "\n",
        "*   Hoàn thành hàm ``planning()``\n",
        "*   Hoàn thành hàm ``get_policy_from_Q()``, gợi ý:\n",
        "   * Đầu tiên, ta khởi tạo biến ``policy`` là 1 vector có shape=16, chỉ chứa toàn số $0$\n",
        "   * Ta dùng argmax tại mỗi ``state`` của ma trận ``Q`` để tìm ra action tối ưu tại state đó. Đưa số này vào vị trí tương ứng trong vector ``policy``\n",
        "   \n"
      ]
    },
    {
      "cell_type": "markdown",
      "metadata": {
        "id": "otUD85GB9JDJ"
      },
      "source": [
        "$$\n",
        "\\forall s,a: ~ Q(s,a) = \\sum_{s'} P(s'|s,a)\\big[R(s,a,s') + \\gamma \\max_{a'}(Q(s',a'))\\big].\n",
        "$$"
      ]
    },
    {
      "cell_type": "code",
      "metadata": {
        "id": "--QCYNctPLzX"
      },
      "source": [
        "def planning(env, iters, Q, gamma, terminated_states):\n",
        "    for i in range(iters) :\n",
        "        for state in range(Q.shape[0]):\n",
        "            if state in terminated_states : \n",
        "                continue\n",
        "            for action in range(Q.shape[1]):\n",
        "                Q_values = sum([prob*(r + gamma *max(Q[s_])) for prob, s_, r, _ in env.P[state][action]])\n",
        "                Q[state,action] = Q_values\n",
        "    return Q\n",
        "\n",
        "def get_policy_from_Q(env, Q):\n",
        "    policy = np.zeros(shape = (16))\n",
        "    for state in range(Q.shape[0]):\n",
        "        policy[state] = np.argmax(np.array(Q[state]))\n",
        "    return policy.astype(np.uint8)\n",
        "\n"
      ],
      "execution_count": null,
      "outputs": []
    },
    {
      "cell_type": "markdown",
      "metadata": {
        "id": "Km3iJiSyRW4v"
      },
      "source": [
        "## 14.2.4 [2 Points] Play the game and evaluate agent's win rate"
      ]
    },
    {
      "cell_type": "markdown",
      "metadata": {
        "id": "H-6IdTWiIK0N"
      },
      "source": [
        "![frozen-lake-map](https://i.imgur.com/1WS7wFJ.png)"
      ]
    },
    {
      "cell_type": "markdown",
      "metadata": {
        "id": "ZW-hN2HARmNk"
      },
      "source": [
        "### TODOs [0.5 Point]\n",
        "\n",
        "- Gọi hàm ``planning()`` với số ``iters`` và ``gamma`` tùy chọn (2 con số này sẽ ảnh hưởng đến policy cuối cùng)\n",
        "- Gọi hàm ``get_policy_from_Q()``"
      ]
    },
    {
      "cell_type": "code",
      "metadata": {
        "id": "eS5CGGv3Fdan",
        "colab": {
          "base_uri": "https://localhost:8080/"
        },
        "outputId": "2d8c98ea-ea0c-4e1b-fddc-999ebdbfad30"
      },
      "source": [
        "Q = np.zeros(shape=(env.env.nS, env.env.nA))\n",
        "terminated_states = [5, 7, 11, 12, 15]\n",
        "\n",
        "# YOUR CODE GOES HERE\n",
        "Q_1 = planning(env,1000,Q,1,terminated_states)\n",
        "\n",
        "policy = get_policy_from_Q(env,Q_1)\n",
        "print(policy)"
      ],
      "execution_count": null,
      "outputs": [
        {
          "output_type": "stream",
          "text": [
            "[0 3 3 3 0 0 0 0 3 1 0 0 0 2 1 0]\n"
          ],
          "name": "stdout"
        }
      ]
    },
    {
      "cell_type": "markdown",
      "metadata": {
        "id": "AhCvxgMkRicA"
      },
      "source": [
        "**Visualize Q-matrix**"
      ]
    },
    {
      "cell_type": "code",
      "metadata": {
        "id": "2YIp7IWzIBSz",
        "colab": {
          "base_uri": "https://localhost:8080/"
        },
        "outputId": "e74917bb-1fb9-4ba3-e682-097c7bfede9e"
      },
      "source": [
        "import pandas as pd\n",
        "actions = [\"left\", \"down\", \"right\", \"up\"]\n",
        "dict_Q = {actions[0]: Q.T[0], actions[1]: Q.T[1], actions[2]: Q.T[2], actions[3]: Q.T[3]}  # visualize Q to easily understand\n",
        "print(pd.DataFrame(dict_Q),\"\\n\")"
      ],
      "execution_count": null,
      "outputs": [
        {
          "output_type": "stream",
          "text": [
            "        left      down     right        up\n",
            "0   0.823529  0.823529  0.823529  0.823529\n",
            "1   0.549020  0.549020  0.549020  0.823529\n",
            "2   0.725490  0.725490  0.725490  0.823529\n",
            "3   0.549020  0.549020  0.549020  0.823529\n",
            "4   0.823529  0.549020  0.549020  0.549020\n",
            "5   0.000000  0.000000  0.000000  0.000000\n",
            "6   0.529412  0.254902  0.529412  0.274510\n",
            "7   0.000000  0.000000  0.000000  0.000000\n",
            "8   0.549020  0.549020  0.549020  0.823529\n",
            "9   0.568627  0.823529  0.549020  0.529412\n",
            "10  0.764706  0.588235  0.490196  0.450980\n",
            "11  0.000000  0.000000  0.000000  0.000000\n",
            "12  0.000000  0.000000  0.000000  0.000000\n",
            "13  0.568627  0.607843  0.882353  0.588235\n",
            "14  0.862745  0.941176  0.901961  0.882353\n",
            "15  0.000000  0.000000  0.000000  0.000000 \n",
            "\n"
          ],
          "name": "stdout"
        }
      ]
    },
    {
      "cell_type": "markdown",
      "metadata": {
        "id": "VngUgHYkSqjU"
      },
      "source": [
        "**Visualize policy**"
      ]
    },
    {
      "cell_type": "code",
      "metadata": {
        "id": "L17wphWkSssm",
        "colab": {
          "base_uri": "https://localhost:8080/",
          "height": 575
        },
        "outputId": "7f0f4907-3050-4edc-f7f0-b58d5b6eef41"
      },
      "source": [
        "visualize_policy(policy, terminated_states)\n"
      ],
      "execution_count": null,
      "outputs": [
        {
          "output_type": "display_data",
          "data": {
            "image/png": "[encoded data removed]",
            "text/plain": [
              "<Figure size 720x720 with 1 Axes>"
            ]
          },
          "metadata": {
            "tags": [],
            "needs_background": "light"
          }
        }
      ]
    },
    {
      "cell_type": "markdown",
      "metadata": {
        "id": "pkT2k2FhSUWm"
      },
      "source": [
        "**Play thử 1 game**\n",
        "\n",
        "**lưu ý** mỗi lần chơi sẽ có kết quả khác nhau do xác suất bị trượt\n"
      ]
    },
    {
      "cell_type": "code",
      "metadata": {
        "id": "l1pnndY9ICsH",
        "colab": {
          "base_uri": "https://localhost:8080/"
        },
        "outputId": "982c8fb5-f529-4cb9-88ce-ee0e8a9dba64"
      },
      "source": [
        "play_one_game(env, policy)"
      ],
      "execution_count": null,
      "outputs": [
        {
          "output_type": "stream",
          "text": [
            "Starting position\n",
            "\n",
            "\u001b[41mS\u001b[0mFFF\n",
            "FHFH\n",
            "FFFH\n",
            "HFFG\n",
            "  (Left)\n",
            "SFFF\n",
            "\u001b[41mF\u001b[0mHFH\n",
            "FFFH\n",
            "HFFG\n",
            "  (Left)\n",
            "SFFF\n",
            "\u001b[41mF\u001b[0mHFH\n",
            "FFFH\n",
            "HFFG\n",
            "  (Left)\n",
            "\u001b[41mS\u001b[0mFFF\n",
            "FHFH\n",
            "FFFH\n",
            "HFFG\n",
            "  (Left)\n",
            "\u001b[41mS\u001b[0mFFF\n",
            "FHFH\n",
            "FFFH\n",
            "HFFG\n",
            "  (Left)\n",
            "\u001b[41mS\u001b[0mFFF\n",
            "FHFH\n",
            "FFFH\n",
            "HFFG\n",
            "  (Left)\n",
            "\u001b[41mS\u001b[0mFFF\n",
            "FHFH\n",
            "FFFH\n",
            "HFFG\n",
            "  (Left)\n",
            "\u001b[41mS\u001b[0mFFF\n",
            "FHFH\n",
            "FFFH\n",
            "HFFG\n",
            "  (Left)\n",
            "\u001b[41mS\u001b[0mFFF\n",
            "FHFH\n",
            "FFFH\n",
            "HFFG\n",
            "  (Left)\n",
            "SFFF\n",
            "\u001b[41mF\u001b[0mHFH\n",
            "FFFH\n",
            "HFFG\n",
            "  (Left)\n",
            "\u001b[41mS\u001b[0mFFF\n",
            "FHFH\n",
            "FFFH\n",
            "HFFG\n",
            "  (Left)\n",
            "\u001b[41mS\u001b[0mFFF\n",
            "FHFH\n",
            "FFFH\n",
            "HFFG\n",
            "  (Left)\n",
            "\u001b[41mS\u001b[0mFFF\n",
            "FHFH\n",
            "FFFH\n",
            "HFFG\n",
            "  (Left)\n",
            "\u001b[41mS\u001b[0mFFF\n",
            "FHFH\n",
            "FFFH\n",
            "HFFG\n",
            "  (Left)\n",
            "SFFF\n",
            "\u001b[41mF\u001b[0mHFH\n",
            "FFFH\n",
            "HFFG\n",
            "  (Left)\n",
            "SFFF\n",
            "\u001b[41mF\u001b[0mHFH\n",
            "FFFH\n",
            "HFFG\n",
            "  (Left)\n",
            "\u001b[41mS\u001b[0mFFF\n",
            "FHFH\n",
            "FFFH\n",
            "HFFG\n",
            "  (Left)\n",
            "\u001b[41mS\u001b[0mFFF\n",
            "FHFH\n",
            "FFFH\n",
            "HFFG\n",
            "  (Left)\n",
            "\u001b[41mS\u001b[0mFFF\n",
            "FHFH\n",
            "FFFH\n",
            "HFFG\n",
            "  (Left)\n",
            "\u001b[41mS\u001b[0mFFF\n",
            "FHFH\n",
            "FFFH\n",
            "HFFG\n",
            "  (Left)\n",
            "\u001b[41mS\u001b[0mFFF\n",
            "FHFH\n",
            "FFFH\n",
            "HFFG\n",
            "  (Left)\n",
            "\u001b[41mS\u001b[0mFFF\n",
            "FHFH\n",
            "FFFH\n",
            "HFFG\n",
            "  (Left)\n",
            "\u001b[41mS\u001b[0mFFF\n",
            "FHFH\n",
            "FFFH\n",
            "HFFG\n",
            "  (Left)\n",
            "SFFF\n",
            "\u001b[41mF\u001b[0mHFH\n",
            "FFFH\n",
            "HFFG\n",
            "  (Left)\n",
            "SFFF\n",
            "\u001b[41mF\u001b[0mHFH\n",
            "FFFH\n",
            "HFFG\n",
            "  (Left)\n",
            "\u001b[41mS\u001b[0mFFF\n",
            "FHFH\n",
            "FFFH\n",
            "HFFG\n",
            "  (Left)\n",
            "\u001b[41mS\u001b[0mFFF\n",
            "FHFH\n",
            "FFFH\n",
            "HFFG\n",
            "  (Left)\n",
            "\u001b[41mS\u001b[0mFFF\n",
            "FHFH\n",
            "FFFH\n",
            "HFFG\n",
            "  (Left)\n",
            "\u001b[41mS\u001b[0mFFF\n",
            "FHFH\n",
            "FFFH\n",
            "HFFG\n",
            "  (Left)\n",
            "SFFF\n",
            "\u001b[41mF\u001b[0mHFH\n",
            "FFFH\n",
            "HFFG\n",
            "  (Left)\n",
            "\u001b[41mS\u001b[0mFFF\n",
            "FHFH\n",
            "FFFH\n",
            "HFFG\n",
            "  (Left)\n",
            "\u001b[41mS\u001b[0mFFF\n",
            "FHFH\n",
            "FFFH\n",
            "HFFG\n",
            "  (Left)\n",
            "\u001b[41mS\u001b[0mFFF\n",
            "FHFH\n",
            "FFFH\n",
            "HFFG\n",
            "  (Left)\n",
            "SFFF\n",
            "\u001b[41mF\u001b[0mHFH\n",
            "FFFH\n",
            "HFFG\n",
            "  (Left)\n",
            "SFFF\n",
            "FHFH\n",
            "\u001b[41mF\u001b[0mFFH\n",
            "HFFG\n",
            "  (Up)\n",
            "SFFF\n",
            "FHFH\n",
            "\u001b[41mF\u001b[0mFFH\n",
            "HFFG\n",
            "  (Up)\n",
            "SFFF\n",
            "FHFH\n",
            "\u001b[41mF\u001b[0mFFH\n",
            "HFFG\n",
            "  (Up)\n",
            "SFFF\n",
            "FHFH\n",
            "\u001b[41mF\u001b[0mFFH\n",
            "HFFG\n",
            "  (Up)\n",
            "SFFF\n",
            "FHFH\n",
            "F\u001b[41mF\u001b[0mFH\n",
            "HFFG\n",
            "  (Down)\n",
            "SFFF\n",
            "FHFH\n",
            "FFFH\n",
            "H\u001b[41mF\u001b[0mFG\n",
            "  (Right)\n",
            "SFFF\n",
            "FHFH\n",
            "FFFH\n",
            "H\u001b[41mF\u001b[0mFG\n",
            "  (Right)\n",
            "SFFF\n",
            "FHFH\n",
            "F\u001b[41mF\u001b[0mFH\n",
            "HFFG\n",
            "  (Down)\n",
            "SFFF\n",
            "FHFH\n",
            "\u001b[41mF\u001b[0mFFH\n",
            "HFFG\n",
            "  (Up)\n",
            "SFFF\n",
            "FHFH\n",
            "\u001b[41mF\u001b[0mFFH\n",
            "HFFG\n",
            "  (Up)\n",
            "SFFF\n",
            "FHFH\n",
            "F\u001b[41mF\u001b[0mFH\n",
            "HFFG\n",
            "  (Down)\n",
            "SFFF\n",
            "FHFH\n",
            "\u001b[41mF\u001b[0mFFH\n",
            "HFFG\n",
            "  (Up)\n",
            "SFFF\n",
            "FHFH\n",
            "F\u001b[41mF\u001b[0mFH\n",
            "HFFG\n",
            "  (Down)\n",
            "SFFF\n",
            "FHFH\n",
            "\u001b[41mF\u001b[0mFFH\n",
            "HFFG\n",
            "  (Up)\n",
            "SFFF\n",
            "FHFH\n",
            "F\u001b[41mF\u001b[0mFH\n",
            "HFFG\n",
            "  (Down)\n",
            "SFFF\n",
            "FHFH\n",
            "FF\u001b[41mF\u001b[0mH\n",
            "HFFG\n",
            "  (Left)\n",
            "SFFF\n",
            "FH\u001b[41mF\u001b[0mH\n",
            "FFFH\n",
            "HFFG\n",
            "  (Left)\n",
            "SFFF\n",
            "F\u001b[41mH\u001b[0mFH\n",
            "FFFH\n",
            "HFFG\n",
            "You Lose!\n"
          ],
          "name": "stdout"
        }
      ]
    },
    {
      "cell_type": "markdown",
      "metadata": {
        "id": "_UWQJOOtSfHx"
      },
      "source": [
        "### TODOs [0.5 Point]\n",
        "* Dùng hàm ``get_average_winrate`` để đánh giá performance của model"
      ]
    },
    {
      "cell_type": "code",
      "metadata": {
        "id": "yTuB3jyAJJRP",
        "colab": {
          "base_uri": "https://localhost:8080/"
        },
        "outputId": "a8a653d0-a351-4f78-a97f-baad44ece0df"
      },
      "source": [
        "# YOUR CODE GOES HERE\n",
        "get_average_winrate(env,policy)"
      ],
      "execution_count": null,
      "outputs": [
        {
          "output_type": "stream",
          "text": [
            "----------------------------------------------\n",
            "You took an average of 39 steps to get the frisbee\n",
            "And you fell in the hole 2.60 % of the times\n",
            "----------------------------------------------\n"
          ],
          "name": "stdout"
        }
      ]
    },
    {
      "cell_type": "markdown",
      "metadata": {
        "id": "5FGUcWiuEpJn"
      },
      "source": [
        "**Nếu bạn tìm được policy tối ưu thì sẽ đạt được win-rate = 97%**"
      ]
    },
    {
      "cell_type": "markdown",
      "metadata": {
        "id": "1CrzjiTCccQP"
      },
      "source": [
        "### TODOs [1 Point]\n",
        "\n",
        "Cùng nhìn lại hình vẽ policy 1 lần nữa\n"
      ]
    },
    {
      "cell_type": "code",
      "metadata": {
        "id": "N3IcYJPqNYWi",
        "colab": {
          "base_uri": "https://localhost:8080/",
          "height": 575
        },
        "outputId": "e6c7b62e-5b28-4c23-9d21-9beb174d888e"
      },
      "source": [
        "visualize_policy(policy, terminated_states)"
      ],
      "execution_count": null,
      "outputs": [
        {
          "output_type": "display_data",
          "data": {
            "image/png": "[encoded data removed]",
            "text/plain": [
              "<Figure size 720x720 with 1 Axes>"
            ]
          },
          "metadata": {
            "tags": [],
            "needs_background": "light"
          }
        }
      ]
    },
    {
      "cell_type": "markdown",
      "metadata": {
        "id": "rLHRwEvMdLAg"
      },
      "source": [
        "*   Giải thích tại sao ở state 4, policy lại đi sang trái thay vì đi xuống\n",
        "*   Giải thích tại sao ở state 8, policy lại đi lên thay vì đi sang phải\n",
        "*   Mô tả luồng đi sẽ khiến agent thua game.\n",
        "\n",
        "**Your answers here**\n",
        "\n"
      ]
    },
    {
      "cell_type": "markdown",
      "metadata": {
        "id": "xltW9z5aPpwG"
      },
      "source": [
        "\n",
        "\n",
        "Ta thấy tại state 4 thì Left có value action cao nhất"
      ]
    },
    {
      "cell_type": "markdown",
      "metadata": {
        "id": "FGnXlyxdP3mn"
      },
      "source": [
        "\n",
        "\n",
        "Ta thấy tại state 8 thì up có value action cao nhất"
      ]
    },
    {
      "cell_type": "code",
      "metadata": {
        "id": "r2-jksNAPpja"
      },
      "source": [
        "Những luồng đi nào đi về hố băng sẽ khiến agent thua game : 0>1>6, 0>1>2>7>6"
      ],
      "execution_count": null,
      "outputs": []
    }
  ]
}