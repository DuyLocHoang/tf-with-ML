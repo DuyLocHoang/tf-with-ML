{
  "nbformat": 4,
  "nbformat_minor": 0,
  "metadata": {
    "colab": {
      "name": "S14_LAB_MDP-PLANNING.ipynb",
      "provenance": [],
      "collapsed_sections": []
    },
    "kernelspec": {
      "name": "python3",
      "display_name": "Python 3"
    },
    "accelerator": "GPU"
  },
  "cells": [
    {
      "cell_type": "markdown",
      "metadata": {
        "id": "_8t0QnMrHD3o"
      },
      "source": [
        "<h1><center>\n",
        "\n",
        "![](https://i.imgur.com/jrRGMfx.png)\n",
        "\n",
        "AI PRACTITIONER COURSE \n",
        "\n",
        "PRACTICE LAB - SESSION 14 - Markov Decision Process & Planning \n",
        "\n",
        "**&copy; 2020 VTCA-COTAI. Internal Use Only.**\n",
        "\n",
        "</center></h1>\n"
      ]
    },
    {
      "cell_type": "markdown",
      "metadata": {
        "id": "MOLquPAGjape"
      },
      "source": [
        "# Excercise: Frozen Lake"
      ]
    },
    {
      "cell_type": "markdown",
      "metadata": {
        "id": "MDax0T5b0NMu"
      },
      "source": [
        "\n",
        "**Mô tả:** Game hồ băng, chia làm 16 ô vuông, mỗi ô vuông sẽ là có băng hoặc không băng. Nếu đi lọt vào ô không băng thì game over! Nhiệm vụ của bạn là di chuyển từ S đến G.\n",
        "\n",
        "![frozen-lake-description](https://i.imgur.com/jLhoSev.png)\n",
        "![frozen-lake-map](https://i.imgur.com/1WS7wFJ.png)\n",
        "\n",
        "\n",
        "**Q-values table**\n",
        "\n",
        "|State(cell)|Left|Down|Right|Up|\n",
        "|---|---|---|---|---|\n",
        "|00 | 0 | 0 | 0 | 0 |\n",
        "|01 | 0 | 0 | 0 | 0 |\n",
        "|...| 0 | 0 | 0 | 0 |\n",
        "|16 | 0 | 0 | 0 | 0 |\n"
      ]
    },
    {
      "cell_type": "code",
      "metadata": {
        "id": "a2oN7VGE4t2-"
      },
      "source": [
        "import numpy as np\n",
        "import pandas as pd"
      ],
      "execution_count": null,
      "outputs": []
    },
    {
      "cell_type": "markdown",
      "metadata": {
        "id": "yKTTscVTmE1R"
      },
      "source": [
        "## Deterministic Environment"
      ]
    },
    {
      "cell_type": "markdown",
      "metadata": {
        "id": "Vnufwu2skYqZ"
      },
      "source": [
        "**Các hàm hỗ trợ**"
      ]
    },
    {
      "cell_type": "code",
      "metadata": {
        "id": "IVYBKluIkXsk"
      },
      "source": [
        "# TODOs\n",
        "# 1. Complete the function below\n",
        "\n",
        "def move_by_policy(start,end, Q, actions,max_col=4):\n",
        "  '''\n",
        "  start: start position\n",
        "  end: end position\n",
        "  Q: Q-values table\n",
        "  actions: List contains all posible actions\n",
        "  max_col: the number of columns in 1 row\n",
        "  path: history of where the agent went\n",
        "  path_actions: history of which actions the agent took\n",
        "  '''\n",
        "  path_actions = []\n",
        "  path = [start]\n",
        "  path_actions = []\n",
        "  cur_state = start\n",
        "  while cur_state != end:\n",
        "    act = np.argmax(Q[cur_state])\n",
        "    path_actions.append(actions[act])\n",
        "    # turn left so the index -1\n",
        "    if act == 0:        \n",
        "      cur -=  1\n",
        "    # turn down so the index +max_col\n",
        "    elif act == 1:        \n",
        "      cur +=  max_col\n",
        "    # turn right so the index +1\n",
        "    elif act == 2:         \n",
        "      cur +=  1\n",
        "    #turn up so the index -max_col\n",
        "    else:                    \n",
        "      cur -= max_col\n",
        "    path.append(cur)\n",
        "  return path, path_actions"
      ],
      "execution_count": null,
      "outputs": []
    },
    {
      "cell_type": "code",
      "metadata": {
        "id": "Elzhqq5c8fTw"
      },
      "source": [
        "# TODOs\n",
        "# 1. Complete the function below\n",
        "def get_next_state(cur_state, act, max_col=4):\n",
        "  '''\n",
        "  cur_state: current state (current position) [0-15]\n",
        "  act: action to perform [0-3]\n",
        "  max_col: the number of columns in 1 row\n",
        "  '''\n",
        "  if cur_state % max_col == 0 and act == 0:\n",
        "    next_state = cur_state\n",
        "  elif cur_state % max_col == max_col - 1 and act == 2:\n",
        "    next_state = cur_state\n",
        "  elif cur_state < max_col and act == 3:\n",
        "    next_state = cur_state\n",
        "  elif cur_state > max_col*max_col-1-max_col and act == 1:\n",
        "    next_state = cur_state\n",
        "  else:\n",
        "    if act == 0:\n",
        "      next_state = cur_state - 1\n",
        "    elif act == 1:\n",
        "      next_state = cur_state + max_col\n",
        "    elif act == 2:\n",
        "      next_state = cur_state + 1\n",
        "    elif act == 3:\n",
        "      next_state = cur_state - max_col\n",
        "  \n",
        "  return next_state"
      ],
      "execution_count": null,
      "outputs": []
    },
    {
      "cell_type": "code",
      "metadata": {
        "id": "ZZwLvkNq7l65"
      },
      "source": [
        "# TODOs\n",
        "# 1. Complete the function below\n",
        "def planning(iter, Q, gamma, terminal):\n",
        "  '''\n",
        "  iter: number of iterations\n",
        "  Q: Q-values table\n",
        "  gamma: discount factor\n",
        "  terminal: List contains all position will make the game stop (start, end, hole)\n",
        "  '''\n",
        "  for i in range(iter):\n",
        "    for state in range(Q.shape[0]):\n",
        "        if state in terminal :\n",
        "            continue\n",
        "        for action in range(Q.shape[1]):\n",
        "            reward = 0\n",
        "            next_state = get_next_state(state, action)\n",
        "            if next_state == 15:\n",
        "                reward = 1\n",
        "            Q[state,action] = reward + gamma*np.max(Q[next_state])\n",
        "  return Q"
      ],
      "execution_count": null,
      "outputs": []
    },
    {
      "cell_type": "code",
      "metadata": {
        "id": "wMbt-HsrRaro"
      },
      "source": [
        "# TODOs\n",
        "# 1. create Q matrix\n",
        "# 2. create list of action's labels\n",
        "# 3. create lis of terminal states\n",
        "Q = np.zeros(shape = (16,4))\n",
        "actions = ['left','down','right','up']\n",
        "terminal = [5,7,11,12]"
      ],
      "execution_count": null,
      "outputs": []
    },
    {
      "cell_type": "code",
      "metadata": {
        "id": "upo2tXwGCXot",
        "colab": {
          "base_uri": "https://localhost:8080/"
        },
        "outputId": "4869a522-5b61-4e3f-93a0-0e7e014e2df3"
      },
      "source": [
        "# TODOs\n",
        "# 1. call the planning() function\n",
        "planning(1000,Q,0.8,terminal)"
      ],
      "execution_count": null,
      "outputs": [
        {
          "output_type": "execute_result",
          "data": {
            "text/plain": [
              "array([[1.31072, 1.6384 , 1.6384 , 1.31072],\n",
              "       [1.31072, 0.     , 2.048  , 1.6384 ],\n",
              "       [1.6384 , 2.56   , 1.6384 , 2.048  ],\n",
              "       [2.048  , 0.     , 1.6384 , 1.6384 ],\n",
              "       [1.6384 , 2.048  , 0.     , 1.31072],\n",
              "       [0.     , 0.     , 0.     , 0.     ],\n",
              "       [0.     , 3.2    , 0.     , 2.048  ],\n",
              "       [0.     , 0.     , 0.     , 0.     ],\n",
              "       [2.048  , 0.     , 2.56   , 1.6384 ],\n",
              "       [2.048  , 3.2    , 3.2    , 0.     ],\n",
              "       [2.56   , 4.     , 0.     , 2.56   ],\n",
              "       [0.     , 0.     , 0.     , 0.     ],\n",
              "       [0.     , 0.     , 0.     , 0.     ],\n",
              "       [0.     , 3.2    , 4.     , 2.56   ],\n",
              "       [3.2    , 4.     , 5.     , 3.2    ],\n",
              "       [4.     , 5.     , 5.     , 0.     ]])"
            ]
          },
          "metadata": {
            "tags": []
          },
          "execution_count": 6
        }
      ]
    },
    {
      "cell_type": "code",
      "metadata": {
        "id": "vpZ8YBbXpkZM",
        "colab": {
          "base_uri": "https://localhost:8080/",
          "height": 545
        },
        "outputId": "ac411ee1-0f94-4e03-ff2e-22a874addbb0"
      },
      "source": [
        "# visualise Q table\n",
        "dict_Q = {actions[0]: Q.T[0], actions[1]: Q.T[1], actions[2]: Q.T[2], actions[3]: Q.T[3]}\n",
        "df = pd.DataFrame(dict_Q)\n",
        "df.head(16)"
      ],
      "execution_count": null,
      "outputs": [
        {
          "output_type": "execute_result",
          "data": {
            "text/html": [
              "<div>\n",
              "<style scoped>\n",
              "    .dataframe tbody tr th:only-of-type {\n",
              "        vertical-align: middle;\n",
              "    }\n",
              "\n",
              "    .dataframe tbody tr th {\n",
              "        vertical-align: top;\n",
              "    }\n",
              "\n",
              "    .dataframe thead th {\n",
              "        text-align: right;\n",
              "    }\n",
              "</style>\n",
              "<table border=\"1\" class=\"dataframe\">\n",
              "  <thead>\n",
              "    <tr style=\"text-align: right;\">\n",
              "      <th></th>\n",
              "      <th>left</th>\n",
              "      <th>down</th>\n",
              "      <th>right</th>\n",
              "      <th>up</th>\n",
              "    </tr>\n",
              "  </thead>\n",
              "  <tbody>\n",
              "    <tr>\n",
              "      <th>0</th>\n",
              "      <td>1.31072</td>\n",
              "      <td>1.6384</td>\n",
              "      <td>1.6384</td>\n",
              "      <td>1.31072</td>\n",
              "    </tr>\n",
              "    <tr>\n",
              "      <th>1</th>\n",
              "      <td>1.31072</td>\n",
              "      <td>0.0000</td>\n",
              "      <td>2.0480</td>\n",
              "      <td>1.63840</td>\n",
              "    </tr>\n",
              "    <tr>\n",
              "      <th>2</th>\n",
              "      <td>1.63840</td>\n",
              "      <td>2.5600</td>\n",
              "      <td>1.6384</td>\n",
              "      <td>2.04800</td>\n",
              "    </tr>\n",
              "    <tr>\n",
              "      <th>3</th>\n",
              "      <td>2.04800</td>\n",
              "      <td>0.0000</td>\n",
              "      <td>1.6384</td>\n",
              "      <td>1.63840</td>\n",
              "    </tr>\n",
              "    <tr>\n",
              "      <th>4</th>\n",
              "      <td>1.63840</td>\n",
              "      <td>2.0480</td>\n",
              "      <td>0.0000</td>\n",
              "      <td>1.31072</td>\n",
              "    </tr>\n",
              "    <tr>\n",
              "      <th>5</th>\n",
              "      <td>0.00000</td>\n",
              "      <td>0.0000</td>\n",
              "      <td>0.0000</td>\n",
              "      <td>0.00000</td>\n",
              "    </tr>\n",
              "    <tr>\n",
              "      <th>6</th>\n",
              "      <td>0.00000</td>\n",
              "      <td>3.2000</td>\n",
              "      <td>0.0000</td>\n",
              "      <td>2.04800</td>\n",
              "    </tr>\n",
              "    <tr>\n",
              "      <th>7</th>\n",
              "      <td>0.00000</td>\n",
              "      <td>0.0000</td>\n",
              "      <td>0.0000</td>\n",
              "      <td>0.00000</td>\n",
              "    </tr>\n",
              "    <tr>\n",
              "      <th>8</th>\n",
              "      <td>2.04800</td>\n",
              "      <td>0.0000</td>\n",
              "      <td>2.5600</td>\n",
              "      <td>1.63840</td>\n",
              "    </tr>\n",
              "    <tr>\n",
              "      <th>9</th>\n",
              "      <td>2.04800</td>\n",
              "      <td>3.2000</td>\n",
              "      <td>3.2000</td>\n",
              "      <td>0.00000</td>\n",
              "    </tr>\n",
              "    <tr>\n",
              "      <th>10</th>\n",
              "      <td>2.56000</td>\n",
              "      <td>4.0000</td>\n",
              "      <td>0.0000</td>\n",
              "      <td>2.56000</td>\n",
              "    </tr>\n",
              "    <tr>\n",
              "      <th>11</th>\n",
              "      <td>0.00000</td>\n",
              "      <td>0.0000</td>\n",
              "      <td>0.0000</td>\n",
              "      <td>0.00000</td>\n",
              "    </tr>\n",
              "    <tr>\n",
              "      <th>12</th>\n",
              "      <td>0.00000</td>\n",
              "      <td>0.0000</td>\n",
              "      <td>0.0000</td>\n",
              "      <td>0.00000</td>\n",
              "    </tr>\n",
              "    <tr>\n",
              "      <th>13</th>\n",
              "      <td>0.00000</td>\n",
              "      <td>3.2000</td>\n",
              "      <td>4.0000</td>\n",
              "      <td>2.56000</td>\n",
              "    </tr>\n",
              "    <tr>\n",
              "      <th>14</th>\n",
              "      <td>3.20000</td>\n",
              "      <td>4.0000</td>\n",
              "      <td>5.0000</td>\n",
              "      <td>3.20000</td>\n",
              "    </tr>\n",
              "    <tr>\n",
              "      <th>15</th>\n",
              "      <td>4.00000</td>\n",
              "      <td>5.0000</td>\n",
              "      <td>5.0000</td>\n",
              "      <td>0.00000</td>\n",
              "    </tr>\n",
              "  </tbody>\n",
              "</table>\n",
              "</div>"
            ],
            "text/plain": [
              "       left    down   right       up\n",
              "0   1.31072  1.6384  1.6384  1.31072\n",
              "1   1.31072  0.0000  2.0480  1.63840\n",
              "2   1.63840  2.5600  1.6384  2.04800\n",
              "3   2.04800  0.0000  1.6384  1.63840\n",
              "4   1.63840  2.0480  0.0000  1.31072\n",
              "5   0.00000  0.0000  0.0000  0.00000\n",
              "6   0.00000  3.2000  0.0000  2.04800\n",
              "7   0.00000  0.0000  0.0000  0.00000\n",
              "8   2.04800  0.0000  2.5600  1.63840\n",
              "9   2.04800  3.2000  3.2000  0.00000\n",
              "10  2.56000  4.0000  0.0000  2.56000\n",
              "11  0.00000  0.0000  0.0000  0.00000\n",
              "12  0.00000  0.0000  0.0000  0.00000\n",
              "13  0.00000  3.2000  4.0000  2.56000\n",
              "14  3.20000  4.0000  5.0000  3.20000\n",
              "15  4.00000  5.0000  5.0000  0.00000"
            ]
          },
          "metadata": {
            "tags": []
          },
          "execution_count": 7
        }
      ]
    },
    {
      "cell_type": "code",
      "metadata": {
        "id": "5RSU3q3cR2GQ",
        "colab": {
          "base_uri": "https://localhost:8080/",
          "height": 214
        },
        "outputId": "1739fc0d-24c0-406f-ffa2-f85362a020ef"
      },
      "source": [
        "# TODO\n",
        "# 1. Call move_by_policy() function\n",
        "\n",
        "\n",
        "\n",
        "print(\"Path:\", path)\n",
        "print(\"Actions:\", path_actions)\n"
      ],
      "execution_count": null,
      "outputs": [
        {
          "output_type": "error",
          "ename": "NameError",
          "evalue": "ignored",
          "traceback": [
            "\u001b[0;31m---------------------------------------------------------------------------\u001b[0m",
            "\u001b[0;31mNameError\u001b[0m                                 Traceback (most recent call last)",
            "\u001b[0;32m<ipython-input-8-d76488001969>\u001b[0m in \u001b[0;36m<module>\u001b[0;34m()\u001b[0m\n\u001b[1;32m      4\u001b[0m \u001b[0;34m\u001b[0m\u001b[0m\n\u001b[1;32m      5\u001b[0m \u001b[0;34m\u001b[0m\u001b[0m\n\u001b[0;32m----> 6\u001b[0;31m \u001b[0mprint\u001b[0m\u001b[0;34m(\u001b[0m\u001b[0;34m\"Path:\"\u001b[0m\u001b[0;34m,\u001b[0m \u001b[0mpath\u001b[0m\u001b[0;34m)\u001b[0m\u001b[0;34m\u001b[0m\u001b[0;34m\u001b[0m\u001b[0m\n\u001b[0m\u001b[1;32m      7\u001b[0m \u001b[0mprint\u001b[0m\u001b[0;34m(\u001b[0m\u001b[0;34m\"Actions:\"\u001b[0m\u001b[0;34m,\u001b[0m \u001b[0mpath_actions\u001b[0m\u001b[0;34m)\u001b[0m\u001b[0;34m\u001b[0m\u001b[0;34m\u001b[0m\u001b[0m\n",
            "\u001b[0;31mNameError\u001b[0m: name 'path' is not defined"
          ]
        }
      ]
    },
    {
      "cell_type": "code",
      "metadata": {
        "id": "ztP8f9SIDULb"
      },
      "source": [
        ""
      ],
      "execution_count": null,
      "outputs": []
    }
  ]
}