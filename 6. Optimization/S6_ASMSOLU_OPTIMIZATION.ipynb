{
  "nbformat": 4,
  "nbformat_minor": 0,
  "metadata": {
    "colab": {
      "name": "S6_ASMSOLU_OPTIMIZATION.ipynb",
      "provenance": [],
      "collapsed_sections": [],
      "toc_visible": true
    },
    "kernelspec": {
      "name": "python3",
      "display_name": "Python 3"
    }
  },
  "cells": [
    {
      "cell_type": "markdown",
      "metadata": {
        "id": "8i5WUsguS-iP"
      },
      "source": [
        "<h1><center>\n",
        "\n",
        "![](https://i.imgur.com/jrRGMfx.png)\n",
        "\n",
        "AI PRACTITIONER COURSE \n",
        "\n",
        "ASSIGNMENT - SESSION 6 - Optimization\n",
        "\n",
        "**&copy; 2020 VTCA-COTAI. Internal Use Only.**\n",
        "\n",
        "</center></h1>"
      ]
    },
    {
      "cell_type": "markdown",
      "metadata": {
        "id": "u6PSRyH_IruE"
      },
      "source": [
        "# 6.1 Theory Review\n",
        "\n"
      ]
    },
    {
      "cell_type": "markdown",
      "metadata": {
        "id": "r5o1JvRXiHqs"
      },
      "source": [
        "## 6.1.1 [1 Point] Search in ML\n",
        "\n",
        "- What is the search issue in ML?\n",
        "- Vấn đề tìm kiếm trong ML là gì?\n",
        "\n",
        "**Answer**: \n",
        "- Search issue in ML is essentially optimizing ML model, i.e., finding the best model (or function) in the chosen model architecture (or function space) so that performance measure of the selected model on the training dataset (as well as test set) is highest.\n",
        "- Vấn đề tìm kiếm trong ML là tối ưu mô hình học máy: tìm mô hình (tức là bộ tham số của hàm) tốt nhất trong không gian mô hình có kiến trúc đang được xét, để chuẩn đánh giá trên tập huấn luyện (cũng như khi triển khai sau này) là cao nhất."
      ]
    },
    {
      "cell_type": "markdown",
      "metadata": {
        "id": "xU9OUW9KiLV4"
      },
      "source": [
        "## 6.1.2  [1 Point] Gradient Vector\n",
        "\n",
        "- What is the geometric intuition of gradient vector?\n",
        "- Ý nghĩa hình học của vector gradient là gì mà ta lại gọi là gradient descent/ascent?\n",
        "\n",
        "**Answer**: \n",
        "- Gradient vector is the direction in parameter space with highest changing speed/rate of function output.\n",
        "- Ý nghĩa hình học của vector gradient: là hướng trong không gian tham số mà hàm số có tốc độ thay đổi (giá trị đầu ra) nhanh nhất."
      ]
    },
    {
      "cell_type": "markdown",
      "metadata": {
        "id": "fuyGzruEiXzI"
      },
      "source": [
        "## 6.1.3  [1 Point]  Gradient Descent variants \n",
        "\n",
        "- What are the main points to differentiate batch GD  vs. stochastic GD vs. Adam?\n",
        "- Các điểm chính để so sánh 3 biến thể của giải thuật GD?\n",
        "\n",
        "**Answer**: \n",
        "- Batch GD: true gradient, computed for whole dataset, hence computationally expensive (bad for big training set) but provides fast convergence. Stochastic GD: a sample approximating the true gradient, computed on a single (random) input, hence computationally very cheap (good for big training set) but noisy update.  Adam: momentum + individual adaptive learning rate, hence usually a better method. \n",
        "- Batch GD: tính gradient thực sự trên cả dataset nên tính toán lâu. Stochastic GS chỉ tính gradient trên 1 điểm dữ liệu nên chỉ là xấp xỉ gradient thực nhưng tính rất nhanh. Adam sử dụng cả \"quán tính\" momentum lẫn tốc độ cập nhật thay đổi liên tục cho từng tham số nên thường tìm kiếm/tối ưu tốt hơn. "
      ]
    },
    {
      "cell_type": "markdown",
      "metadata": {
        "id": "kggA7yz1Iuf6"
      },
      "source": [
        "# 6.2 [3 Points] Coding Practice"
      ]
    },
    {
      "cell_type": "markdown",
      "metadata": {
        "id": "VdsbfsVSa846"
      },
      "source": [
        "**DATASET LINK** https://drive.google.com/file/d/1yAHURtl1lIL_7Rf9oKXdtYID2E9l9Z5-/view?usp=sharing"
      ]
    },
    {
      "cell_type": "code",
      "metadata": {
        "id": "MJW1CDAxYerJ",
        "colab": {
          "base_uri": "https://localhost:8080/"
        },
        "outputId": "780d5ff2-0d5a-4768-8930-08d33c35458f"
      },
      "source": [
        "from google.colab import drive\n",
        "drive.mount('/content/drive')"
      ],
      "execution_count": null,
      "outputs": [
        {
          "output_type": "stream",
          "text": [
            "Drive already mounted at /content/drive; to attempt to forcibly remount, call drive.mount(\"/content/drive\", force_remount=True).\n"
          ],
          "name": "stdout"
        }
      ]
    },
    {
      "cell_type": "markdown",
      "metadata": {
        "id": "xG27TpReTO3J"
      },
      "source": [
        "Trong bài tập này, chúng ta sẽ dùng Deep Neural Network (DNN) cho bài toán Regression, cụ thể là dự đoán giá nhà dựa vào các thông tin như (diện tích, số phòng ngủ, ...)\n",
        "\n",
        "Dataset được sử dụng là **Ames Housing dataset**, bao gầm 79 features và 1 label là giá bán của ngôi nhà. Tuy nhiên trong bài tập này, dataset đã được rút gọn chỉ còn 10 features thôi.\n",
        "\n",
        "Ý nghĩa từng features xem thêm ở đây  [here](https://www.kaggle.com/c/house-prices-advanced-regression-techniques/data)\n",
        "\n"
      ]
    },
    {
      "cell_type": "code",
      "metadata": {
        "id": "_qTryuFXZSx3"
      },
      "source": [
        "import numpy as np\n",
        "np.random.seed(1612)\n",
        "from tensorflow.random import set_seed\n",
        "set_seed(1612)"
      ],
      "execution_count": null,
      "outputs": []
    },
    {
      "cell_type": "markdown",
      "metadata": {
        "id": "acenuZ25ZB9W"
      },
      "source": [
        "## 6.2.1 [1 Point] Chuẩn bị dữ liệu"
      ]
    },
    {
      "cell_type": "markdown",
      "metadata": {
        "id": "cQLanZLEa2Qq"
      },
      "source": [
        "Đọc dữ liệu từ file CSV"
      ]
    },
    {
      "cell_type": "code",
      "metadata": {
        "id": "WviujcCpxb3W",
        "colab": {
          "base_uri": "https://localhost:8080/"
        },
        "outputId": "2ade609e-c047-46a8-cda9-62c55f55c587"
      },
      "source": [
        "import pandas as pd\n",
        "\n",
        "DATA_PATH = '/content/drive/My Drive/COTAI_Training/6. MLP_Tensorflow/data/s6_houseprice.csv'\n",
        "df = pd.read_csv(DATA_PATH)\n",
        "print('Shape of dataframe:',df.shape)"
      ],
      "execution_count": null,
      "outputs": [
        {
          "output_type": "stream",
          "text": [
            "Shape of dataframe: (1462, 11)\n"
          ],
          "name": "stdout"
        }
      ]
    },
    {
      "cell_type": "code",
      "metadata": {
        "id": "2lSERI4Be5yz",
        "colab": {
          "base_uri": "https://localhost:8080/",
          "height": 363
        },
        "outputId": "5dc03f3e-30e5-4f00-fcd2-959d73c9241c"
      },
      "source": [
        "df.head(10) #xem 10 dòng đầu tiên của dataframe "
      ],
      "execution_count": null,
      "outputs": [
        {
          "output_type": "execute_result",
          "data": {
            "text/html": [
              "<div>\n",
              "<style scoped>\n",
              "    .dataframe tbody tr th:only-of-type {\n",
              "        vertical-align: middle;\n",
              "    }\n",
              "\n",
              "    .dataframe tbody tr th {\n",
              "        vertical-align: top;\n",
              "    }\n",
              "\n",
              "    .dataframe thead th {\n",
              "        text-align: right;\n",
              "    }\n",
              "</style>\n",
              "<table border=\"1\" class=\"dataframe\">\n",
              "  <thead>\n",
              "    <tr style=\"text-align: right;\">\n",
              "      <th></th>\n",
              "      <th>LotArea</th>\n",
              "      <th>OverallQual</th>\n",
              "      <th>OverallCond</th>\n",
              "      <th>TotalBsmtSF</th>\n",
              "      <th>FullBath</th>\n",
              "      <th>HalfBath</th>\n",
              "      <th>BedroomAbvGr</th>\n",
              "      <th>TotRmsAbvGrd</th>\n",
              "      <th>Fireplaces</th>\n",
              "      <th>GarageArea</th>\n",
              "      <th>SalePrice</th>\n",
              "    </tr>\n",
              "  </thead>\n",
              "  <tbody>\n",
              "    <tr>\n",
              "      <th>0</th>\n",
              "      <td>8450.0</td>\n",
              "      <td>7.0</td>\n",
              "      <td>5.0</td>\n",
              "      <td>856.0</td>\n",
              "      <td>2.0</td>\n",
              "      <td>1.0</td>\n",
              "      <td>3.0</td>\n",
              "      <td>8.0</td>\n",
              "      <td>0.0</td>\n",
              "      <td>548.0</td>\n",
              "      <td>208500.0</td>\n",
              "    </tr>\n",
              "    <tr>\n",
              "      <th>1</th>\n",
              "      <td>9600.0</td>\n",
              "      <td>6.0</td>\n",
              "      <td>8.0</td>\n",
              "      <td>1262.0</td>\n",
              "      <td>2.0</td>\n",
              "      <td>0.0</td>\n",
              "      <td>3.0</td>\n",
              "      <td>6.0</td>\n",
              "      <td>1.0</td>\n",
              "      <td>460.0</td>\n",
              "      <td>181500.0</td>\n",
              "    </tr>\n",
              "    <tr>\n",
              "      <th>2</th>\n",
              "      <td>11250.0</td>\n",
              "      <td>7.0</td>\n",
              "      <td>5.0</td>\n",
              "      <td>920.0</td>\n",
              "      <td>2.0</td>\n",
              "      <td>1.0</td>\n",
              "      <td>3.0</td>\n",
              "      <td>6.0</td>\n",
              "      <td>1.0</td>\n",
              "      <td>608.0</td>\n",
              "      <td>223500.0</td>\n",
              "    </tr>\n",
              "    <tr>\n",
              "      <th>3</th>\n",
              "      <td>9550.0</td>\n",
              "      <td>7.0</td>\n",
              "      <td>5.0</td>\n",
              "      <td>756.0</td>\n",
              "      <td>1.0</td>\n",
              "      <td>0.0</td>\n",
              "      <td>3.0</td>\n",
              "      <td>7.0</td>\n",
              "      <td>1.0</td>\n",
              "      <td>642.0</td>\n",
              "      <td>140000.0</td>\n",
              "    </tr>\n",
              "    <tr>\n",
              "      <th>4</th>\n",
              "      <td>14260.0</td>\n",
              "      <td>8.0</td>\n",
              "      <td>5.0</td>\n",
              "      <td>1145.0</td>\n",
              "      <td>2.0</td>\n",
              "      <td>1.0</td>\n",
              "      <td>4.0</td>\n",
              "      <td>9.0</td>\n",
              "      <td>1.0</td>\n",
              "      <td>836.0</td>\n",
              "      <td>250000.0</td>\n",
              "    </tr>\n",
              "    <tr>\n",
              "      <th>5</th>\n",
              "      <td>14115.0</td>\n",
              "      <td>5.0</td>\n",
              "      <td>5.0</td>\n",
              "      <td>796.0</td>\n",
              "      <td>1.0</td>\n",
              "      <td>1.0</td>\n",
              "      <td>1.0</td>\n",
              "      <td>5.0</td>\n",
              "      <td>0.0</td>\n",
              "      <td>480.0</td>\n",
              "      <td>143000.0</td>\n",
              "    </tr>\n",
              "    <tr>\n",
              "      <th>6</th>\n",
              "      <td>10084.0</td>\n",
              "      <td>8.0</td>\n",
              "      <td>5.0</td>\n",
              "      <td>1686.0</td>\n",
              "      <td>2.0</td>\n",
              "      <td>0.0</td>\n",
              "      <td>3.0</td>\n",
              "      <td>7.0</td>\n",
              "      <td>1.0</td>\n",
              "      <td>636.0</td>\n",
              "      <td>307000.0</td>\n",
              "    </tr>\n",
              "    <tr>\n",
              "      <th>7</th>\n",
              "      <td>10382.0</td>\n",
              "      <td>7.0</td>\n",
              "      <td>6.0</td>\n",
              "      <td>1107.0</td>\n",
              "      <td>2.0</td>\n",
              "      <td>1.0</td>\n",
              "      <td>3.0</td>\n",
              "      <td>7.0</td>\n",
              "      <td>2.0</td>\n",
              "      <td>484.0</td>\n",
              "      <td>200000.0</td>\n",
              "    </tr>\n",
              "    <tr>\n",
              "      <th>8</th>\n",
              "      <td>6120.0</td>\n",
              "      <td>7.0</td>\n",
              "      <td>5.0</td>\n",
              "      <td>952.0</td>\n",
              "      <td>2.0</td>\n",
              "      <td>0.0</td>\n",
              "      <td>2.0</td>\n",
              "      <td>8.0</td>\n",
              "      <td>2.0</td>\n",
              "      <td>468.0</td>\n",
              "      <td>129900.0</td>\n",
              "    </tr>\n",
              "    <tr>\n",
              "      <th>9</th>\n",
              "      <td>7420.0</td>\n",
              "      <td>5.0</td>\n",
              "      <td>6.0</td>\n",
              "      <td>991.0</td>\n",
              "      <td>1.0</td>\n",
              "      <td>0.0</td>\n",
              "      <td>2.0</td>\n",
              "      <td>5.0</td>\n",
              "      <td>2.0</td>\n",
              "      <td>205.0</td>\n",
              "      <td>118000.0</td>\n",
              "    </tr>\n",
              "  </tbody>\n",
              "</table>\n",
              "</div>"
            ],
            "text/plain": [
              "   LotArea  OverallQual  OverallCond  ...  Fireplaces  GarageArea  SalePrice\n",
              "0   8450.0          7.0          5.0  ...         0.0       548.0   208500.0\n",
              "1   9600.0          6.0          8.0  ...         1.0       460.0   181500.0\n",
              "2  11250.0          7.0          5.0  ...         1.0       608.0   223500.0\n",
              "3   9550.0          7.0          5.0  ...         1.0       642.0   140000.0\n",
              "4  14260.0          8.0          5.0  ...         1.0       836.0   250000.0\n",
              "5  14115.0          5.0          5.0  ...         0.0       480.0   143000.0\n",
              "6  10084.0          8.0          5.0  ...         1.0       636.0   307000.0\n",
              "7  10382.0          7.0          6.0  ...         2.0       484.0   200000.0\n",
              "8   6120.0          7.0          5.0  ...         2.0       468.0   129900.0\n",
              "9   7420.0          5.0          6.0  ...         2.0       205.0   118000.0\n",
              "\n",
              "[10 rows x 11 columns]"
            ]
          },
          "metadata": {
            "tags": []
          },
          "execution_count": 39
        }
      ]
    },
    {
      "cell_type": "markdown",
      "metadata": {
        "id": "e1-WFAt7fQJB"
      },
      "source": [
        "### Kiểm tra NULL"
      ]
    },
    {
      "cell_type": "markdown",
      "metadata": {
        "id": "ZJHxvUbNbANS"
      },
      "source": [
        "Kiểm tra kiểu dữ liệu của từng cột và có giá trị NaN (Null) hay không"
      ]
    },
    {
      "cell_type": "code",
      "metadata": {
        "id": "TQszsbu8ZP68",
        "colab": {
          "base_uri": "https://localhost:8080/"
        },
        "outputId": "41a5ceec-6c62-4b52-d82c-cf05c7a6fd7d"
      },
      "source": [
        "df.info()"
      ],
      "execution_count": null,
      "outputs": [
        {
          "output_type": "stream",
          "text": [
            "<class 'pandas.core.frame.DataFrame'>\n",
            "RangeIndex: 1462 entries, 0 to 1461\n",
            "Data columns (total 11 columns):\n",
            " #   Column        Non-Null Count  Dtype  \n",
            "---  ------        --------------  -----  \n",
            " 0   LotArea       1460 non-null   float64\n",
            " 1   OverallQual   1460 non-null   float64\n",
            " 2   OverallCond   1460 non-null   float64\n",
            " 3   TotalBsmtSF   1460 non-null   float64\n",
            " 4   FullBath      1460 non-null   float64\n",
            " 5   HalfBath      1460 non-null   float64\n",
            " 6   BedroomAbvGr  1460 non-null   float64\n",
            " 7   TotRmsAbvGrd  1460 non-null   float64\n",
            " 8   Fireplaces    1460 non-null   float64\n",
            " 9   GarageArea    1460 non-null   float64\n",
            " 10  SalePrice     1460 non-null   float64\n",
            "dtypes: float64(11)\n",
            "memory usage: 125.8 KB\n"
          ],
          "name": "stdout"
        }
      ]
    },
    {
      "cell_type": "code",
      "metadata": {
        "id": "e9Q3HcDQeq6F",
        "colab": {
          "base_uri": "https://localhost:8080/"
        },
        "outputId": "c04e4b55-141d-430b-b8b0-22c8de1e4816"
      },
      "source": [
        "df.isna().sum() # Xem số lượng null (na - Not available)"
      ],
      "execution_count": null,
      "outputs": [
        {
          "output_type": "execute_result",
          "data": {
            "text/plain": [
              "LotArea         2\n",
              "OverallQual     2\n",
              "OverallCond     2\n",
              "TotalBsmtSF     2\n",
              "FullBath        2\n",
              "HalfBath        2\n",
              "BedroomAbvGr    2\n",
              "TotRmsAbvGrd    2\n",
              "Fireplaces      2\n",
              "GarageArea      2\n",
              "SalePrice       2\n",
              "dtype: int64"
            ]
          },
          "metadata": {
            "tags": []
          },
          "execution_count": 41
        }
      ]
    },
    {
      "cell_type": "markdown",
      "metadata": {
        "id": "Dz_iQGg6e-V8"
      },
      "source": [
        "Chúng ta sẽ xóa toàn bộ dữ liệu bị null trong dataset"
      ]
    },
    {
      "cell_type": "code",
      "metadata": {
        "id": "99DBkL_ffIER"
      },
      "source": [
        "df = df.dropna()"
      ],
      "execution_count": null,
      "outputs": []
    },
    {
      "cell_type": "markdown",
      "metadata": {
        "id": "-xBefVB9fm7y"
      },
      "source": [
        "Kiểm tra xem đã hết Null chưa"
      ]
    },
    {
      "cell_type": "code",
      "metadata": {
        "id": "e8ATYl0ifmcE",
        "colab": {
          "base_uri": "https://localhost:8080/"
        },
        "outputId": "74f1199c-9723-4191-e468-ee3d38912b3b"
      },
      "source": [
        "df.isna().sum() # Xem số lượng null (na - Not available)"
      ],
      "execution_count": null,
      "outputs": [
        {
          "output_type": "execute_result",
          "data": {
            "text/plain": [
              "LotArea         0\n",
              "OverallQual     0\n",
              "OverallCond     0\n",
              "TotalBsmtSF     0\n",
              "FullBath        0\n",
              "HalfBath        0\n",
              "BedroomAbvGr    0\n",
              "TotRmsAbvGrd    0\n",
              "Fireplaces      0\n",
              "GarageArea      0\n",
              "SalePrice       0\n",
              "dtype: int64"
            ]
          },
          "metadata": {
            "tags": []
          },
          "execution_count": 43
        }
      ]
    },
    {
      "cell_type": "markdown",
      "metadata": {
        "id": "OJ8PQriSbeJF"
      },
      "source": [
        "Xem thống kê của dataset (Generate descriptive statistics)"
      ]
    },
    {
      "cell_type": "code",
      "metadata": {
        "id": "xqcLf7zDbHe1",
        "colab": {
          "base_uri": "https://localhost:8080/",
          "height": 304
        },
        "outputId": "43201adf-b316-400e-9695-c20ca583e806"
      },
      "source": [
        "df.describe()"
      ],
      "execution_count": null,
      "outputs": [
        {
          "output_type": "execute_result",
          "data": {
            "text/html": [
              "<div>\n",
              "<style scoped>\n",
              "    .dataframe tbody tr th:only-of-type {\n",
              "        vertical-align: middle;\n",
              "    }\n",
              "\n",
              "    .dataframe tbody tr th {\n",
              "        vertical-align: top;\n",
              "    }\n",
              "\n",
              "    .dataframe thead th {\n",
              "        text-align: right;\n",
              "    }\n",
              "</style>\n",
              "<table border=\"1\" class=\"dataframe\">\n",
              "  <thead>\n",
              "    <tr style=\"text-align: right;\">\n",
              "      <th></th>\n",
              "      <th>LotArea</th>\n",
              "      <th>OverallQual</th>\n",
              "      <th>OverallCond</th>\n",
              "      <th>TotalBsmtSF</th>\n",
              "      <th>FullBath</th>\n",
              "      <th>HalfBath</th>\n",
              "      <th>BedroomAbvGr</th>\n",
              "      <th>TotRmsAbvGrd</th>\n",
              "      <th>Fireplaces</th>\n",
              "      <th>GarageArea</th>\n",
              "      <th>SalePrice</th>\n",
              "    </tr>\n",
              "  </thead>\n",
              "  <tbody>\n",
              "    <tr>\n",
              "      <th>count</th>\n",
              "      <td>1460.000000</td>\n",
              "      <td>1460.000000</td>\n",
              "      <td>1460.000000</td>\n",
              "      <td>1460.000000</td>\n",
              "      <td>1460.000000</td>\n",
              "      <td>1460.000000</td>\n",
              "      <td>1460.000000</td>\n",
              "      <td>1460.000000</td>\n",
              "      <td>1460.000000</td>\n",
              "      <td>1460.000000</td>\n",
              "      <td>1460.000000</td>\n",
              "    </tr>\n",
              "    <tr>\n",
              "      <th>mean</th>\n",
              "      <td>10516.828082</td>\n",
              "      <td>6.099315</td>\n",
              "      <td>5.575342</td>\n",
              "      <td>1057.429452</td>\n",
              "      <td>1.565068</td>\n",
              "      <td>0.382877</td>\n",
              "      <td>2.866438</td>\n",
              "      <td>6.517808</td>\n",
              "      <td>0.613014</td>\n",
              "      <td>472.980137</td>\n",
              "      <td>180921.195890</td>\n",
              "    </tr>\n",
              "    <tr>\n",
              "      <th>std</th>\n",
              "      <td>9981.264932</td>\n",
              "      <td>1.382997</td>\n",
              "      <td>1.112799</td>\n",
              "      <td>438.705324</td>\n",
              "      <td>0.550916</td>\n",
              "      <td>0.502885</td>\n",
              "      <td>0.815778</td>\n",
              "      <td>1.625393</td>\n",
              "      <td>0.644666</td>\n",
              "      <td>213.804841</td>\n",
              "      <td>79442.502883</td>\n",
              "    </tr>\n",
              "    <tr>\n",
              "      <th>min</th>\n",
              "      <td>1300.000000</td>\n",
              "      <td>1.000000</td>\n",
              "      <td>1.000000</td>\n",
              "      <td>0.000000</td>\n",
              "      <td>0.000000</td>\n",
              "      <td>0.000000</td>\n",
              "      <td>0.000000</td>\n",
              "      <td>2.000000</td>\n",
              "      <td>0.000000</td>\n",
              "      <td>0.000000</td>\n",
              "      <td>34900.000000</td>\n",
              "    </tr>\n",
              "    <tr>\n",
              "      <th>25%</th>\n",
              "      <td>7553.500000</td>\n",
              "      <td>5.000000</td>\n",
              "      <td>5.000000</td>\n",
              "      <td>795.750000</td>\n",
              "      <td>1.000000</td>\n",
              "      <td>0.000000</td>\n",
              "      <td>2.000000</td>\n",
              "      <td>5.000000</td>\n",
              "      <td>0.000000</td>\n",
              "      <td>334.500000</td>\n",
              "      <td>129975.000000</td>\n",
              "    </tr>\n",
              "    <tr>\n",
              "      <th>50%</th>\n",
              "      <td>9478.500000</td>\n",
              "      <td>6.000000</td>\n",
              "      <td>5.000000</td>\n",
              "      <td>991.500000</td>\n",
              "      <td>2.000000</td>\n",
              "      <td>0.000000</td>\n",
              "      <td>3.000000</td>\n",
              "      <td>6.000000</td>\n",
              "      <td>1.000000</td>\n",
              "      <td>480.000000</td>\n",
              "      <td>163000.000000</td>\n",
              "    </tr>\n",
              "    <tr>\n",
              "      <th>75%</th>\n",
              "      <td>11601.500000</td>\n",
              "      <td>7.000000</td>\n",
              "      <td>6.000000</td>\n",
              "      <td>1298.250000</td>\n",
              "      <td>2.000000</td>\n",
              "      <td>1.000000</td>\n",
              "      <td>3.000000</td>\n",
              "      <td>7.000000</td>\n",
              "      <td>1.000000</td>\n",
              "      <td>576.000000</td>\n",
              "      <td>214000.000000</td>\n",
              "    </tr>\n",
              "    <tr>\n",
              "      <th>max</th>\n",
              "      <td>215245.000000</td>\n",
              "      <td>10.000000</td>\n",
              "      <td>9.000000</td>\n",
              "      <td>6110.000000</td>\n",
              "      <td>3.000000</td>\n",
              "      <td>2.000000</td>\n",
              "      <td>8.000000</td>\n",
              "      <td>14.000000</td>\n",
              "      <td>3.000000</td>\n",
              "      <td>1418.000000</td>\n",
              "      <td>755000.000000</td>\n",
              "    </tr>\n",
              "  </tbody>\n",
              "</table>\n",
              "</div>"
            ],
            "text/plain": [
              "             LotArea  OverallQual  ...   GarageArea      SalePrice\n",
              "count    1460.000000  1460.000000  ...  1460.000000    1460.000000\n",
              "mean    10516.828082     6.099315  ...   472.980137  180921.195890\n",
              "std      9981.264932     1.382997  ...   213.804841   79442.502883\n",
              "min      1300.000000     1.000000  ...     0.000000   34900.000000\n",
              "25%      7553.500000     5.000000  ...   334.500000  129975.000000\n",
              "50%      9478.500000     6.000000  ...   480.000000  163000.000000\n",
              "75%     11601.500000     7.000000  ...   576.000000  214000.000000\n",
              "max    215245.000000    10.000000  ...  1418.000000  755000.000000\n",
              "\n",
              "[8 rows x 11 columns]"
            ]
          },
          "metadata": {
            "tags": []
          },
          "execution_count": 44
        }
      ]
    },
    {
      "cell_type": "markdown",
      "metadata": {
        "id": "-DFcwg-efZdx"
      },
      "source": [
        "### Chia dữ liệu thành Train và Test"
      ]
    },
    {
      "cell_type": "markdown",
      "metadata": {
        "id": "d_vXrWE-b1Vv"
      },
      "source": [
        "Tách dữ liệu thành X, y\n",
        "\n",
        "Do dữ liệu ở đây **chỉ là các con số**, ta có thể dùng hàm .values để chuyển dữ liệu thành numpy array"
      ]
    },
    {
      "cell_type": "code",
      "metadata": {
        "id": "cQEuRYkAblnW",
        "colab": {
          "base_uri": "https://localhost:8080/"
        },
        "outputId": "10e8fb05-ede5-4b73-fc90-a5d1e995c67e"
      },
      "source": [
        "# TODO\n",
        "# 1. Chia dữ liệu thành X và y từ np_data\n",
        "# 2. X gồm 10 cột đầu và y là cột cuối\n",
        "# 3. in ra shape của X, y\n",
        "\n",
        "np_data = df.values\n",
        "X = np_data[:,:-1]\n",
        "y = np_data[:,-1]\n",
        "print('Shape of X:', X.shape)\n",
        "print('Shape of y:', y.shape)\n"
      ],
      "execution_count": null,
      "outputs": [
        {
          "output_type": "stream",
          "text": [
            "Shape of X: (1460, 10)\n",
            "Shape of y: (1460,)\n"
          ],
          "name": "stdout"
        }
      ]
    },
    {
      "cell_type": "markdown",
      "metadata": {
        "id": "TX0wPA22f1Ck"
      },
      "source": [
        "Chia dữ liệu thành Train, Test"
      ]
    },
    {
      "cell_type": "code",
      "metadata": {
        "id": "c1X0ATMHeVdA"
      },
      "source": [
        "# TODO:\n",
        "# 1. Chia dữ liệu thành train set và test set\n",
        "# 2. Dùng random_state = 1612 và test_size = 0.3\n",
        "\n",
        "from sklearn.model_selection import train_test_split\n",
        "\n",
        "X_train, X_test, y_train, y_test = train_test_split(X, y, test_size=0.2, shuffle=True, random_state=1612)"
      ],
      "execution_count": null,
      "outputs": []
    },
    {
      "cell_type": "markdown",
      "metadata": {
        "id": "euWv4ccygXZo"
      },
      "source": [
        "### Normalize"
      ]
    },
    {
      "cell_type": "markdown",
      "metadata": {
        "id": "ri035s10gmDf"
      },
      "source": [
        "Quan sát dataset từ hàm df.describe() bên trên, ta thấy được các đặc trưng (feature) của X thuộc nhiều range khác nhau. Nên ở đây ta áp dụng StandardScaler để scale chúng về khoảng giá trị có mean = 0 và độ lệch chuẩn = 1\n",
        "\n",
        "Do giá trị của output cũng nằm trong range rất lớn, ta cũng sẽ áp dụng StandardScaler để scale output y"
      ]
    },
    {
      "cell_type": "code",
      "metadata": {
        "id": "jxFWuvw0f_L7"
      },
      "source": [
        "y_train = y_train.reshape(-1,1)\n",
        "y_test = y_test.reshape(-1,1)\n",
        "\n",
        "# TODO\n",
        "# 1. Khởi tạo biến feature_scale từ StandardScaler, và fit vào X_train\n",
        "# 2. Transform X_train và X_test\n",
        "# 3. Khởi tạo biến output_scale từ StandardScaler, và fit vào y_train\n",
        "# 4. Transform y_train và y_test\n",
        "\n",
        "from sklearn.preprocessing import StandardScaler\n",
        "\n",
        "feature_scale = StandardScaler().fit(X_train)\n",
        "X_train = feature_scale.transform(X_train)\n",
        "X_test = feature_scale.transform(X_test)\n",
        "\n",
        "\n",
        "\n",
        "output_scale = StandardScaler().fit(y_train)\n",
        "y_train = output_scale.transform(y_train)\n",
        "y_test = output_scale.transform(y_test)"
      ],
      "execution_count": null,
      "outputs": []
    },
    {
      "cell_type": "markdown",
      "metadata": {
        "id": "zdIFKZzfdxzL"
      },
      "source": [
        "## 6.2.2 Ôn tập Keras"
      ]
    },
    {
      "cell_type": "markdown",
      "metadata": {
        "id": "r6iqxLxTo2At"
      },
      "source": [
        "### Chú ý 1"
      ]
    },
    {
      "cell_type": "markdown",
      "metadata": {
        "id": "3OBNxAwzm7dx"
      },
      "source": [
        "Ở các bài lab trước, ta compile model bằng lệnh\n",
        "\n",
        "\n",
        "\n",
        "```\n",
        "model.compile(loss='', optimizer='adam', metrics=''\n",
        "```\n",
        "\n",
        "Khi compile bằng cách trên, optimizer sẽ dùng learning rate mặc định của hệ thống. Để truyền vào learning rate theo ý thích ta phải tự khởi tạo optimizer\n",
        "\n",
        "\n",
        "\n",
        "```\n",
        "from tensorflow.keras.optimizers import Adam, RMSprop, SGD, ...\n",
        "\n",
        "my_optimizer = Adam(learning_rate = 0.01)\n",
        "# hoặc\n",
        "my_optimizer = SGD(learning_rate = 0.01, momentum = 0.9)\n",
        "# hoặc\n",
        "my_optimizer = RMSprop(learning_rate = 0.01, momentum = 0.9)\n",
        "\n",
        "model.compile(loss='', optimizer=my_optimizer, metrics='')\n",
        "```\n",
        "\n",
        "Các learning_rate phổ biến gồm 0.1 hoặc 0.01 hoặc 0.001\n",
        "\n",
        "Các momentum phổ biến gồm 0.9 hoặc 0.8 \n",
        "\n",
        "\n"
      ]
    },
    {
      "cell_type": "markdown",
      "metadata": {
        "id": "Gdx9i4w3pUgb"
      },
      "source": [
        "### Chú ý 2"
      ]
    },
    {
      "cell_type": "markdown",
      "metadata": {
        "id": "2Y-nzkYfpW7T"
      },
      "source": [
        "Layer đầu tiên phải được đính kèm tham số ``input_shape`` để báo cho mô hình biết số lượng đặc trưng (feature) của dữ liệu đầu vào\n",
        "\n",
        "```\n",
        "from tensorflow.keras.models import Sequential\n",
        "from tensorflow.keras.layers import Dense\n",
        "\n",
        "model = Sequential()\n",
        "model.add(Dense(16, activation='relu', input_shape=X_train.shape[1:]))\n",
        "...\n",
        "model.add(Dense(1, activation='sigmoid'))\n",
        "```\n",
        "\n",
        "Để lấy được tham số ``input_shape`` 1 cách chính xác nhất ta có thể dùng ``input_shape=X_train.shape[1:]``\n",
        "\n",
        "\n"
      ]
    },
    {
      "cell_type": "markdown",
      "metadata": {
        "id": "cwNAteFWhmCV"
      },
      "source": [
        "### Chú ý 3\n"
      ]
    },
    {
      "cell_type": "markdown",
      "metadata": {
        "id": "f8dHTuCdo9oV"
      },
      "source": [
        "\n",
        "\n",
        "*   Do đây là bài toán Regression, output layer sẽ có dạng\n",
        "\n",
        "```\n",
        "model = Sequential()\n",
        "...\n",
        "model.add(Dense(1, activation='linear'))\n",
        "```\n",
        "\n",
        "*   Các metric phổ biến trong bài toán Regression bao gồm MAE, MSE, RMSE. Để kết hợp nhiều metric ta dùng\n",
        "\n",
        "```\n",
        "from tensorflow.keras.metrics import RootMeanSquaredError\n",
        "\n",
        "model.compile(loss='mse', optimizer='', metrics=['mae',RootMeanSquaredError()])\n",
        "```\n",
        "\n",
        "\n",
        "\n",
        "\n",
        "\n",
        "\n",
        "\n",
        "\n",
        "\n",
        "\n",
        "Đọc thêm về các loại metrics cho bài toán Regressor [here](https://vtca-cotai-hcm.slack.com/?redir=%2Ffiles%2FU01ETPXTVV0%2FF01EWNG6DGV%2Fpractitioner_support_class_01.pptx)"
      ]
    },
    {
      "cell_type": "markdown",
      "metadata": {
        "id": "hHjOmf1uhpnm"
      },
      "source": [
        "### Chú ý 4\n"
      ]
    },
    {
      "cell_type": "markdown",
      "metadata": {
        "id": "_Qfle-CvwxJc"
      },
      "source": [
        "\n",
        "Cách vẽ chart sau khi train model\n",
        "\n",
        "\n",
        "\n",
        "```\n",
        "model.compile(loss='mse', optimizer='', metrics=['mae',RootMeanSquaredError()])\n",
        "\n",
        "history = model.fit(X_train, y_train, epochs=50)\n",
        "```\n",
        "Lúc này object history sẽ lưu lại toàn bộ 3 thông số 'loss',  'mae'   'root_mean_squared_error' sau 50 epochs\n",
        "\n",
        "Để xem những thông số được lưu ta dùng lệnh\n",
        "\n",
        "```\n",
        "print(history.history.keys())\n",
        "```\n",
        "\n",
        "Để vẽ chart cho loss sau 50 epochs, ta dùng lệnh\n",
        "\n",
        "```\n",
        "plt.plot(history.history['loss']) # loss ở đây là 1 trong các giá trị được trả về khi gọi hàm print() bên trên\n",
        "```"
      ]
    },
    {
      "cell_type": "markdown",
      "metadata": {
        "id": "ju48JqJc_e1B"
      },
      "source": [
        "## 6.2.3 Kết hợp sklearn GridSearchCV với Keras"
      ]
    },
    {
      "cell_type": "markdown",
      "metadata": {
        "id": "jv0gGF2OYrBE"
      },
      "source": [
        "**Lưu ý**\n",
        "\n",
        "Phần bên dưới chỉ là code tham khảo, học viên đọc hiểu code chứ đừng chạy.\n",
        "\n",
        "Hãy modify và kết hợp phần code bên dưới vào bài làm của mình."
      ]
    },
    {
      "cell_type": "markdown",
      "metadata": {
        "id": "3rKZiZk7_rI8"
      },
      "source": [
        "Để kết hợp GridSearchCV từ sklearn vào Keras, ta cần import các thư viện sau"
      ]
    },
    {
      "cell_type": "code",
      "metadata": {
        "id": "1irN0b3F_qvh"
      },
      "source": [
        "from sklearn.model_selection import GridSearchCV\n",
        "# đây là bài toán Regression nên ta dùng KerasRegressor\n",
        "from tensorflow.keras.wrappers.scikit_learn import KerasRegressor"
      ],
      "execution_count": null,
      "outputs": []
    },
    {
      "cell_type": "markdown",
      "metadata": {
        "id": "0gJEW2TBAHoq"
      },
      "source": [
        "Ta cần viết hàm create_model() để tạo Keras model "
      ]
    },
    {
      "cell_type": "code",
      "metadata": {
        "id": "dfX3hbJDAB2k"
      },
      "source": [
        "from tensorflow.keras.optimizers import Adam, RMSprop, SGD\n",
        "from tensorflow.keras.metrics import RootMeanSquaredError\n",
        "from tensorflow.random import set_seed\n",
        "from tensorflow.keras.models import Sequential\n",
        "from tensorflow.keras.layers import Dense\n",
        "\n",
        "\n",
        "\n",
        "def create_model(optimizer='adam', learning_rate=0.1, momentum=0.9):\n",
        "  set_seed(42)\n",
        "  model = Sequential()\n",
        "  model.add(Dense(32, activation='relu', input_shape=X_train.shape[1:]))\n",
        "  model.add(Dense(32, activation='relu'))\n",
        "  model.add(Dense(32, activation='relu'))\n",
        "  model.add(Dense(1, activation='linear'))\n",
        "  my_optim=None\n",
        "  if optimizer == 'sgd':\n",
        "    my_optim = SGD(learning_rate=learning_rate, momentum=momentum)\n",
        "  elif optimizer == 'rmsprop':\n",
        "    my_optim = RMSprop(learning_rate=learning_rate, momentum=momentum)\n",
        "  else:\n",
        "    # ta dùng adam cho các trường hợp còn lại\n",
        "    # lưu ý trong trường hợp optimizer là adam sẽ không có tham số momentum\n",
        "    my_optim = Adam(learning_rate=learning_rate)\n",
        "\n",
        "  model.compile(loss='mse', optimizer=my_optim, metrics=['mae',RootMeanSquaredError()])\n",
        "  return model"
      ],
      "execution_count": null,
      "outputs": []
    },
    {
      "cell_type": "markdown",
      "metadata": {
        "id": "nxPw-K0rDgdz"
      },
      "source": [
        "Tiếp theo ta tạo 1 dictionary chứa các thông số cần search"
      ]
    },
    {
      "cell_type": "code",
      "metadata": {
        "id": "l_oK1N0uCVQV"
      },
      "source": [
        "# define the grid search parameters\n",
        "optimizer_values = ['adam', 'sgd', 'rmsprop']\n",
        "lr_values = [0.001, 0.005, 0.01, 0.05, 0.1]\n",
        "momentum_values = [0.0, 0.6, 0.8, 0.9]\n",
        "\n",
        "param_grid = {\n",
        "    'optimizer': optimizer_values,\n",
        "    'learning_rate': lr_values,\n",
        "    'momentum': momentum_values\n",
        "}"
      ],
      "execution_count": null,
      "outputs": []
    },
    {
      "cell_type": "markdown",
      "metadata": {
        "id": "M0ZzSez8Dosx"
      },
      "source": [
        "Khởi tạo model bằng KerasRegressor"
      ]
    },
    {
      "cell_type": "code",
      "metadata": {
        "id": "WUUENx62Dm03"
      },
      "source": [
        "model = KerasRegressor(build_fn=create_model, epochs=100, verbose=1)"
      ],
      "execution_count": null,
      "outputs": []
    },
    {
      "cell_type": "markdown",
      "metadata": {
        "id": "z344ldaNPCop"
      },
      "source": [
        "Khởi tạo GridSearchCV và fit model trên X_train, y_train"
      ]
    },
    {
      "cell_type": "code",
      "metadata": {
        "id": "XgMjwVeMPG_6",
        "colab": {
          "base_uri": "https://localhost:8080/"
        },
        "outputId": "f595ba38-16d9-43bf-adae-02e429d1515b"
      },
      "source": [
        "grid = GridSearchCV(estimator=model, param_grid=param_grid, n_jobs=-1, cv=3)\n",
        "grid_result = grid.fit(X_train, y_train)\n",
        "print(\"Best model using: %s\" % (grid_result.best_params_))"
      ],
      "execution_count": null,
      "outputs": [
        {
          "output_type": "stream",
          "text": [
            "Epoch 1/80\n",
            "37/37 [==============================] - 0s 1ms/step - loss: 0.7014 - mae: 0.5381 - root_mean_squared_error: 0.8375\n",
            "Epoch 2/80\n",
            "37/37 [==============================] - 0s 990us/step - loss: 0.2790 - mae: 0.3442 - root_mean_squared_error: 0.5282\n",
            "Epoch 3/80\n",
            "37/37 [==============================] - 0s 956us/step - loss: 0.3305 - mae: 0.3016 - root_mean_squared_error: 0.5749\n",
            "Epoch 4/80\n",
            "37/37 [==============================] - 0s 932us/step - loss: 0.3453 - mae: 0.3317 - root_mean_squared_error: 0.5877\n",
            "Epoch 5/80\n",
            "37/37 [==============================] - 0s 968us/step - loss: 0.3454 - mae: 0.3387 - root_mean_squared_error: 0.5877\n",
            "Epoch 6/80\n",
            "37/37 [==============================] - 0s 908us/step - loss: 0.3141 - mae: 0.3201 - root_mean_squared_error: 0.5604\n",
            "Epoch 7/80\n",
            "37/37 [==============================] - 0s 967us/step - loss: 0.2656 - mae: 0.3071 - root_mean_squared_error: 0.5154\n",
            "Epoch 8/80\n",
            "37/37 [==============================] - 0s 968us/step - loss: 0.2515 - mae: 0.3251 - root_mean_squared_error: 0.5015\n",
            "Epoch 9/80\n",
            "37/37 [==============================] - 0s 946us/step - loss: 0.2510 - mae: 0.2920 - root_mean_squared_error: 0.5010\n",
            "Epoch 10/80\n",
            "37/37 [==============================] - 0s 940us/step - loss: 0.2229 - mae: 0.2996 - root_mean_squared_error: 0.4721\n",
            "Epoch 11/80\n",
            "37/37 [==============================] - 0s 919us/step - loss: 0.2357 - mae: 0.2865 - root_mean_squared_error: 0.4855\n",
            "Epoch 12/80\n",
            "37/37 [==============================] - 0s 936us/step - loss: 0.3214 - mae: 0.3247 - root_mean_squared_error: 0.5669\n",
            "Epoch 13/80\n",
            "37/37 [==============================] - 0s 938us/step - loss: 0.2231 - mae: 0.2929 - root_mean_squared_error: 0.4723\n",
            "Epoch 14/80\n",
            "37/37 [==============================] - 0s 915us/step - loss: 0.2360 - mae: 0.2987 - root_mean_squared_error: 0.4858\n",
            "Epoch 15/80\n",
            "37/37 [==============================] - 0s 970us/step - loss: 0.2774 - mae: 0.2930 - root_mean_squared_error: 0.5267\n",
            "Epoch 16/80\n",
            "37/37 [==============================] - 0s 929us/step - loss: 0.2076 - mae: 0.2924 - root_mean_squared_error: 0.4556\n",
            "Epoch 17/80\n",
            "37/37 [==============================] - 0s 971us/step - loss: 0.2479 - mae: 0.3039 - root_mean_squared_error: 0.4979\n",
            "Epoch 18/80\n",
            "37/37 [==============================] - 0s 961us/step - loss: 0.3312 - mae: 0.3138 - root_mean_squared_error: 0.5755\n",
            "Epoch 19/80\n",
            "37/37 [==============================] - 0s 979us/step - loss: 0.2736 - mae: 0.3042 - root_mean_squared_error: 0.5231\n",
            "Epoch 20/80\n",
            "37/37 [==============================] - 0s 927us/step - loss: 0.2178 - mae: 0.3176 - root_mean_squared_error: 0.4667\n",
            "Epoch 21/80\n",
            "37/37 [==============================] - 0s 928us/step - loss: 0.2984 - mae: 0.3289 - root_mean_squared_error: 0.5462\n",
            "Epoch 22/80\n",
            "37/37 [==============================] - 0s 956us/step - loss: 0.2330 - mae: 0.3175 - root_mean_squared_error: 0.4827\n",
            "Epoch 23/80\n",
            "37/37 [==============================] - 0s 1ms/step - loss: 0.1965 - mae: 0.2925 - root_mean_squared_error: 0.4432\n",
            "Epoch 24/80\n",
            "37/37 [==============================] - 0s 994us/step - loss: 0.2073 - mae: 0.2807 - root_mean_squared_error: 0.4553\n",
            "Epoch 25/80\n",
            "37/37 [==============================] - 0s 1ms/step - loss: 0.1843 - mae: 0.2869 - root_mean_squared_error: 0.4293\n",
            "Epoch 26/80\n",
            "37/37 [==============================] - 0s 950us/step - loss: 0.2430 - mae: 0.2915 - root_mean_squared_error: 0.4930\n",
            "Epoch 27/80\n",
            "37/37 [==============================] - 0s 965us/step - loss: 0.1709 - mae: 0.2693 - root_mean_squared_error: 0.4134\n",
            "Epoch 28/80\n",
            "37/37 [==============================] - 0s 980us/step - loss: 0.2192 - mae: 0.2901 - root_mean_squared_error: 0.4682\n",
            "Epoch 29/80\n",
            "37/37 [==============================] - 0s 966us/step - loss: 0.2212 - mae: 0.2906 - root_mean_squared_error: 0.4703\n",
            "Epoch 30/80\n",
            "37/37 [==============================] - 0s 949us/step - loss: 0.1882 - mae: 0.2844 - root_mean_squared_error: 0.4338\n",
            "Epoch 31/80\n",
            "37/37 [==============================] - 0s 930us/step - loss: 0.2399 - mae: 0.2969 - root_mean_squared_error: 0.4898\n",
            "Epoch 32/80\n",
            "37/37 [==============================] - 0s 1ms/step - loss: 0.2062 - mae: 0.3047 - root_mean_squared_error: 0.4541\n",
            "Epoch 33/80\n",
            "37/37 [==============================] - 0s 994us/step - loss: 0.1933 - mae: 0.2914 - root_mean_squared_error: 0.4397\n",
            "Epoch 34/80\n",
            "37/37 [==============================] - 0s 969us/step - loss: 0.2237 - mae: 0.2963 - root_mean_squared_error: 0.4730\n",
            "Epoch 35/80\n",
            "37/37 [==============================] - 0s 1ms/step - loss: 0.1599 - mae: 0.2603 - root_mean_squared_error: 0.3999\n",
            "Epoch 36/80\n",
            "37/37 [==============================] - 0s 1ms/step - loss: 0.2054 - mae: 0.2922 - root_mean_squared_error: 0.4532\n",
            "Epoch 37/80\n",
            "37/37 [==============================] - 0s 989us/step - loss: 0.2206 - mae: 0.3082 - root_mean_squared_error: 0.4697\n",
            "Epoch 38/80\n",
            "37/37 [==============================] - 0s 1ms/step - loss: 0.1905 - mae: 0.2915 - root_mean_squared_error: 0.4365\n",
            "Epoch 39/80\n",
            "37/37 [==============================] - 0s 984us/step - loss: 0.1857 - mae: 0.2741 - root_mean_squared_error: 0.4309\n",
            "Epoch 40/80\n",
            "37/37 [==============================] - 0s 953us/step - loss: 0.1895 - mae: 0.2888 - root_mean_squared_error: 0.4354\n",
            "Epoch 41/80\n",
            "37/37 [==============================] - 0s 983us/step - loss: 0.1849 - mae: 0.2750 - root_mean_squared_error: 0.4300\n",
            "Epoch 42/80\n",
            "37/37 [==============================] - 0s 993us/step - loss: 0.1810 - mae: 0.2743 - root_mean_squared_error: 0.4255\n",
            "Epoch 43/80\n",
            "37/37 [==============================] - 0s 936us/step - loss: 0.1973 - mae: 0.2745 - root_mean_squared_error: 0.4442\n",
            "Epoch 44/80\n",
            "37/37 [==============================] - 0s 1ms/step - loss: 0.1879 - mae: 0.2726 - root_mean_squared_error: 0.4335\n",
            "Epoch 45/80\n",
            "37/37 [==============================] - 0s 1ms/step - loss: 0.2351 - mae: 0.3139 - root_mean_squared_error: 0.4849\n",
            "Epoch 46/80\n",
            "37/37 [==============================] - 0s 1ms/step - loss: 0.3806 - mae: 0.3748 - root_mean_squared_error: 0.6169\n",
            "Epoch 47/80\n",
            "37/37 [==============================] - 0s 1ms/step - loss: 0.2151 - mae: 0.2867 - root_mean_squared_error: 0.4637\n",
            "Epoch 48/80\n",
            "37/37 [==============================] - 0s 990us/step - loss: 0.2020 - mae: 0.2926 - root_mean_squared_error: 0.4495\n",
            "Epoch 49/80\n",
            "37/37 [==============================] - 0s 943us/step - loss: 0.2348 - mae: 0.3095 - root_mean_squared_error: 0.4845\n",
            "Epoch 50/80\n",
            "37/37 [==============================] - 0s 1ms/step - loss: 0.2105 - mae: 0.3021 - root_mean_squared_error: 0.4588\n",
            "Epoch 51/80\n",
            "37/37 [==============================] - 0s 932us/step - loss: 0.1863 - mae: 0.2862 - root_mean_squared_error: 0.4316\n",
            "Epoch 52/80\n",
            "37/37 [==============================] - 0s 1ms/step - loss: 0.1865 - mae: 0.2783 - root_mean_squared_error: 0.4319\n",
            "Epoch 53/80\n",
            "37/37 [==============================] - 0s 1ms/step - loss: 0.1775 - mae: 0.2778 - root_mean_squared_error: 0.4213\n",
            "Epoch 54/80\n",
            "37/37 [==============================] - 0s 1ms/step - loss: 0.1725 - mae: 0.2748 - root_mean_squared_error: 0.4154\n",
            "Epoch 55/80\n",
            "37/37 [==============================] - 0s 945us/step - loss: 0.2062 - mae: 0.2994 - root_mean_squared_error: 0.4540\n",
            "Epoch 56/80\n",
            "37/37 [==============================] - 0s 1ms/step - loss: 0.1721 - mae: 0.2718 - root_mean_squared_error: 0.4148\n",
            "Epoch 57/80\n",
            "37/37 [==============================] - 0s 957us/step - loss: 0.1967 - mae: 0.3041 - root_mean_squared_error: 0.4435\n",
            "Epoch 58/80\n",
            "37/37 [==============================] - 0s 953us/step - loss: 0.1795 - mae: 0.2798 - root_mean_squared_error: 0.4237\n",
            "Epoch 59/80\n",
            "37/37 [==============================] - 0s 938us/step - loss: 0.1782 - mae: 0.2694 - root_mean_squared_error: 0.4221\n",
            "Epoch 60/80\n",
            "37/37 [==============================] - 0s 1ms/step - loss: 0.1796 - mae: 0.2792 - root_mean_squared_error: 0.4238\n",
            "Epoch 61/80\n",
            "37/37 [==============================] - 0s 996us/step - loss: 0.1758 - mae: 0.2648 - root_mean_squared_error: 0.4193\n",
            "Epoch 62/80\n",
            "37/37 [==============================] - 0s 968us/step - loss: 0.1901 - mae: 0.2820 - root_mean_squared_error: 0.4360\n",
            "Epoch 63/80\n",
            "37/37 [==============================] - 0s 1ms/step - loss: 0.1867 - mae: 0.2841 - root_mean_squared_error: 0.4321\n",
            "Epoch 64/80\n",
            "37/37 [==============================] - 0s 997us/step - loss: 0.1963 - mae: 0.2918 - root_mean_squared_error: 0.4431\n",
            "Epoch 65/80\n",
            "37/37 [==============================] - 0s 979us/step - loss: 0.1929 - mae: 0.2600 - root_mean_squared_error: 0.4392\n",
            "Epoch 66/80\n",
            "37/37 [==============================] - 0s 1ms/step - loss: 0.1789 - mae: 0.2598 - root_mean_squared_error: 0.4230\n",
            "Epoch 67/80\n",
            "37/37 [==============================] - 0s 1ms/step - loss: 0.1877 - mae: 0.2687 - root_mean_squared_error: 0.4332\n",
            "Epoch 68/80\n",
            "37/37 [==============================] - 0s 1ms/step - loss: 0.1779 - mae: 0.2669 - root_mean_squared_error: 0.4217\n",
            "Epoch 69/80\n",
            "37/37 [==============================] - 0s 1ms/step - loss: 0.1823 - mae: 0.2708 - root_mean_squared_error: 0.4270\n",
            "Epoch 70/80\n",
            "37/37 [==============================] - 0s 1ms/step - loss: 0.1807 - mae: 0.2733 - root_mean_squared_error: 0.4251\n",
            "Epoch 71/80\n",
            "37/37 [==============================] - 0s 1ms/step - loss: 0.1736 - mae: 0.2514 - root_mean_squared_error: 0.4167\n",
            "Epoch 72/80\n",
            "37/37 [==============================] - 0s 1ms/step - loss: 0.1849 - mae: 0.2733 - root_mean_squared_error: 0.4300\n",
            "Epoch 73/80\n",
            "37/37 [==============================] - 0s 992us/step - loss: 0.1838 - mae: 0.2661 - root_mean_squared_error: 0.4287\n",
            "Epoch 74/80\n",
            "37/37 [==============================] - 0s 1ms/step - loss: 0.1736 - mae: 0.2591 - root_mean_squared_error: 0.4167\n",
            "Epoch 75/80\n",
            "37/37 [==============================] - 0s 1ms/step - loss: 0.1762 - mae: 0.2662 - root_mean_squared_error: 0.4198\n",
            "Epoch 76/80\n",
            "37/37 [==============================] - 0s 1ms/step - loss: 0.1723 - mae: 0.2630 - root_mean_squared_error: 0.4151\n",
            "Epoch 77/80\n",
            "37/37 [==============================] - 0s 1ms/step - loss: 0.1993 - mae: 0.2801 - root_mean_squared_error: 0.4464\n",
            "Epoch 78/80\n",
            "37/37 [==============================] - 0s 1ms/step - loss: 0.1829 - mae: 0.2624 - root_mean_squared_error: 0.4276\n",
            "Epoch 79/80\n",
            "37/37 [==============================] - 0s 1ms/step - loss: 0.1701 - mae: 0.2652 - root_mean_squared_error: 0.4125\n",
            "Epoch 80/80\n",
            "37/37 [==============================] - 0s 1ms/step - loss: 0.1682 - mae: 0.2604 - root_mean_squared_error: 0.4101\n",
            "Best model using: {'learning_rate': 0.005, 'momentum': 0.9, 'optimizer': 'rmsprop'}\n"
          ],
          "name": "stdout"
        }
      ]
    },
    {
      "cell_type": "markdown",
      "metadata": {
        "id": "oLUO1D2bXKBK"
      },
      "source": [
        "Lấy ra best model"
      ]
    },
    {
      "cell_type": "code",
      "metadata": {
        "id": "qnLaZNOuQkJf"
      },
      "source": [
        "best_model = grid_result.best_estimator_"
      ],
      "execution_count": null,
      "outputs": []
    },
    {
      "cell_type": "markdown",
      "metadata": {
        "id": "yl6IQfeqaSRo"
      },
      "source": [
        "Đánh giá performance trên Test Set"
      ]
    },
    {
      "cell_type": "code",
      "metadata": {
        "id": "njXInz8macGY",
        "colab": {
          "base_uri": "https://localhost:8080/"
        },
        "outputId": "ed0dc250-f233-464d-f79c-978147226431"
      },
      "source": [
        "best_model.model.evaluate(X_test, y_test)"
      ],
      "execution_count": null,
      "outputs": [
        {
          "output_type": "stream",
          "text": [
            "10/10 [==============================] - 0s 1ms/step - loss: 0.1216 - mae: 0.2697 - root_mean_squared_error: 0.3488\n"
          ],
          "name": "stdout"
        },
        {
          "output_type": "execute_result",
          "data": {
            "text/plain": [
              "[0.12163986265659332, 0.2696669399738312, 0.34876906871795654]"
            ]
          },
          "metadata": {
            "tags": []
          },
          "execution_count": 54
        }
      ]
    },
    {
      "cell_type": "markdown",
      "metadata": {
        "id": "wwApIWUPtdlT"
      },
      "source": [
        "## 6.2.4 [2 Point] Your Implement "
      ]
    },
    {
      "cell_type": "markdown",
      "metadata": {
        "id": "uZT1EjVqtfhv"
      },
      "source": [
        "Ở phần này, học viên tự implement 1 Deep Neural Network (DNN) để giải quyết bài toán dự đoán giá nhà\n",
        "\n",
        "**GOAL**\n",
        "\n",
        "*   Cần phải nắm vững cách dùng Tensorflow 2 cùng Keras\n",
        "*   Tự implement 1 mạng DNN để giải quyết bài toàn trên, với số hidden layer và số hidden unit tùy chọn\n",
        "*   **Áp dụng GridSearchCV trên Keras để tìm ra optimizer cùng learning_rate, momentum (nếu có) tốt nhất**\n",
        "*   **Sau khi train model xong đánh giá performance trên Test Set**\n",
        "\n"
      ]
    },
    {
      "cell_type": "code",
      "metadata": {
        "id": "oIbaFqQP6gSr"
      },
      "source": [
        ""
      ],
      "execution_count": null,
      "outputs": []
    }
  ]
}