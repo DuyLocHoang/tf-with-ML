{
  "nbformat": 4,
  "nbformat_minor": 0,
  "metadata": {
    "colab": {
      "name": "S15_ASSIGNMENT_HoangDuyLoc.ipynb",
      "provenance": [],
      "collapsed_sections": []
    },
    "kernelspec": {
      "name": "python3",
      "display_name": "Python 3"
    }
  },
  "cells": [
    {
      "cell_type": "markdown",
      "metadata": {
        "id": "EaMHhk1PBodY"
      },
      "source": [
        "<h1><center>\n",
        "\n",
        "![](https://i.imgur.com/jrRGMfx.png)\n",
        "\n",
        "AI PRACTITIONER COURSE \n",
        "\n",
        "ASSIGNMENT - SESSION 16 - Interactive decision making: Contextual & Multi-armed Bandits\n",
        "\n",
        "**&copy; 2020 VTCA-COTAI. Internal Use Only.**\n",
        "\n",
        "</center></h1>\n"
      ]
    },
    {
      "cell_type": "markdown",
      "metadata": {
        "id": "_eYUQXmmBPJo"
      },
      "source": [
        "# 15.1 Theory Review\n",
        "\n",
        "## 15.1.1 [1 Point] MABs objective function\n",
        "- What do multi-armed bandit algorithms try to maximize? Why is it a special case of MDP learning?\n",
        "- Bài toán MAB tối ưu cái gì? Vì sao nó là trường hợp đặc biệt của bài toán học-ra-quyết-định trong MDP?\n",
        "\n",
        "## 15.1.2 [1 Point] MAB algorithms\n",
        "- What are the similarity and differences between MAB algorithms? Describe specifically for the learned algorithms: $\\epsilon$-greedy, Thompson sampling, UCB. \n",
        "- Liệt kê các điểm giống & khác giữa các giải thuật MAB, cụ thể cho 3 giải thuật đã được học.\n"
      ]
    },
    {
      "cell_type": "markdown",
      "metadata": {
        "id": "ERqkQSM806iT"
      },
      "source": [
        "**15.1.1**\n",
        "\n",
        "Bài toán MAB : Tối ưu value action để chọn ra hành động đem lại nhiều reward nhất  \n",
        "Điểm đặc biệt : Học cách ra quyết định ngay trong quá trình tương tác bằng tìm kiếm sự cân bằng giữa Exploitation và Exploration"
      ]
    },
    {
      "cell_type": "markdown",
      "metadata": {
        "id": "xO6DRoM74H0m"
      },
      "source": [
        "**15.1.2**\n",
        "\n",
        "*Giống nhau* : \n",
        "\n",
        "Đều là những thuật toán đi tìm kiếm sự cân bằng giữa exploitation và exploration để đem lại reward nhiều nhất cũng giảm khả năng bỏ sót cá lựa chọn tối ưu\n",
        "\n",
        "*Khác nhau* :\n",
        "\n",
        "$\\epsilon$-greedy : Random 1 giá trị trong khoảng (0,1) nếu giá trị này <= $\\epsilon$ thì thực hiện **khai phá** ngược lại thực hiện **khai thác**\n",
        "\n",
        "UCB : quan tâm nhiều hơn về tính không chăc chắn(dộ lệch lớn) của mỗi biến thể. Càng không chắc chắn về một quảng cáo, thì càng phải ưu tiên tập trung **khai phá**\n",
        "\n",
        "Thompson sampling : Phương pháp Lấy mẫu Thompson chỉ thực hiện được khi các action của ta trả ra reward tuân theo phân phối Bernoulli. Phần khai phá dựa trên phân phối Beta, có thể khai quát hóa để lấy mẫu từ bất kỳ phân phối nào trên các tham số\n",
        "\n"
      ]
    },
    {
      "cell_type": "markdown",
      "metadata": {
        "id": "vFUfFZqtBetO"
      },
      "source": [
        "# 15.2 [6 Points] Coding Practice\n"
      ]
    },
    {
      "cell_type": "markdown",
      "metadata": {
        "id": "N_2VJJ8GPqdy"
      },
      "source": [
        "Để đơn giản hóa code, bài Assignment này sẽ dùng thư viện ``matplotlib`` để vẽ đồ thị, học viên được khuyến khích sửa các đoạn code vẽ đồ thị lại thành dùng thư viện ``plotly`` như trên bài lab"
      ]
    },
    {
      "cell_type": "markdown",
      "metadata": {
        "id": "32c029jiLMpG"
      },
      "source": [
        "## Import thư viện"
      ]
    },
    {
      "cell_type": "code",
      "metadata": {
        "id": "F8j_1xByLMM1"
      },
      "source": [
        "import numpy as np\n",
        "from scipy.stats import bernoulli\n",
        "import matplotlib.pyplot as plt\n",
        "import math"
      ],
      "execution_count": null,
      "outputs": []
    },
    {
      "cell_type": "markdown",
      "metadata": {
        "id": "qxc3kfTFLUC4"
      },
      "source": [
        "## Các class hỗ trợ"
      ]
    },
    {
      "cell_type": "markdown",
      "metadata": {
        "id": "pCK066RaLZM_"
      },
      "source": [
        "Ta viết 3 class tượng trưng cho 3 loại máy đánh bạc:\n",
        "- ``NormalMachine`` máy đánh bạc trả ra reward tuân theo phân phối chuẩn (chi phối bởi 2 biến ``mean`` và ``std``)\n",
        "- ``BernoulliMachine`` máy đánh bạc trả ra reward tuân theo phân phối Bernoulli (chi phối bởi biến ``prob``)\n",
        "- ``UniformMachine`` máy đánh bạc trả ra rewward tuân theo phân phối đều rời rạc (chi phối bởi 2 biến ``low`` và ``high``)\n",
        "\n",
        "Trong mỗi class đều có hàm ``pull``, gọi hàm này sẽ trả ra reward của máy đó"
      ]
    },
    {
      "cell_type": "code",
      "metadata": {
        "id": "kPfOsB8uIK5y"
      },
      "source": [
        "class NormalMachine:\n",
        "  def __init__(self, mean, std):\n",
        "    self.mean = mean\n",
        "    self.std = std\n",
        "  def pull(self):\n",
        "    return np.random.normal(self.mean, self.std)\n",
        "\n",
        "class BernoulliMachine:\n",
        "  def __init__(self, prob):\n",
        "    self.prob = prob\n",
        "  def pull(self):\n",
        "    # reward trả ra hoặc là 15, hoặc là 0\n",
        "    return 15 * bernoulli.rvs(self.prob)\n",
        "\n",
        "class UniformMachine:\n",
        "  def __init__(self, low, high):\n",
        "    self.low = low\n",
        "    self.high = high\n",
        "  def pull(self):\n",
        "    # reward trả ra trong khoảng [low, high-1]\n",
        "    return np.random.randint(self.low, self.high)\n"
      ],
      "execution_count": null,
      "outputs": []
    },
    {
      "cell_type": "markdown",
      "metadata": {
        "id": "8ESO-PjBMjOg"
      },
      "source": [
        "Ta khởi tạo 4 máy đánh bạc:\n",
        "- Máy 1: phân phối chuẩn, ``mean = 9, std = 2``\n",
        "- Máy 2: phân phối chuẩn, ``mean = 8, std = 3``\n",
        "- Máy 3: phân phối đều rời rạc, ``low = 8, high = 11``\n",
        "- Máy 4: phân phối bernoulli, ``prob = 0.5``\n",
        "Sau đó, gom 4 máy thành 1 list ``machine_list``"
      ]
    },
    {
      "cell_type": "code",
      "metadata": {
        "id": "6raiTAHgMivo"
      },
      "source": [
        "machine_1 = NormalMachine(9, 3)\n",
        "machine_2 = NormalMachine(8, 4)\n",
        "machine_3 = UniformMachine(8, 11)\n",
        "machine_4 = BernoulliMachine(0.5)\n",
        "\n",
        "machine_list = [machine_1, machine_2, machine_3, machine_4]"
      ],
      "execution_count": null,
      "outputs": []
    },
    {
      "cell_type": "code",
      "metadata": {
        "id": "Z6si7sr6MPs0"
      },
      "source": [
        "class Report:\n",
        "  def __init__(self):\n",
        "    self.play_history = []\n",
        "    self.total_play = [0,0,0,0]\n",
        "    self.Q = {\n",
        "        0: [0],\n",
        "        1: [0],\n",
        "        2: [0],\n",
        "        3: [0]\n",
        "    }\n",
        "    self.reward_history = {\n",
        "        0: [0],\n",
        "        1: [0],\n",
        "        2: [0],\n",
        "        3: [0]\n",
        "    }\n",
        "    self.total_reward = 0\n",
        "\n",
        "  def record(self, machine_index, reward):\n",
        "    self.play_history.append(machine_index)\n",
        "    self.total_play[machine_index] += 1\n",
        "    # reward_history sẽ bằng reward hiện tại, cộng dồn với reward của timestep trước đó\n",
        "    self.reward_history[machine_index].append(self.reward_history[machine_index][-1]+reward)\n",
        "    self.Q[machine_index].append(self.reward_history[machine_index][-1] / self.total_play[machine_index])\n",
        "    self.total_reward += reward\n",
        "\n",
        "  def plot_average_reward(self):\n",
        "    plt.figure(figsize=(15,10))\n",
        "    for key, value in self.Q.items():\n",
        "      plt.plot(range(self.total_play[key]), value[1:], label='Machine {}'.format(key+1))\n",
        "    plt.legend()\n",
        "    plt.title('Average rewards after 1000 time steps')\n",
        "    plt.show()\n",
        "\n",
        "  def get_latest_Q(self, machine_index=-1):\n",
        "    if machine_index >= 0:\n",
        "      return self.Q[machine_index][-1]\n",
        "    else:\n",
        "      return [self.Q[0][-1], self.Q[1][-1], self.Q[2][-1], self.Q[3][-1]]\n",
        "\n",
        "  def is_played_at_least_one(self, machine_index):\n",
        "    if self.total_play[machine_index] == 0:\n",
        "      return False\n",
        "    return True\n",
        "\n",
        "  def print_report(self):\n",
        "    count_used = np.unique(self.play_history, return_counts=True)\n",
        "    max_used = max(count_used[1])\n",
        "    index_max_used = list(count_used[1]).index(max_used)\n",
        "    print('After playing {} times, the most used machine is Machine {} with {} used\\nTotal rewards earned = {}$'.format(\n",
        "      len(self.play_history),\n",
        "      index_max_used,\n",
        "      max_used,\n",
        "      self.total_reward\n",
        "    ))\n",
        "    print('Number of used time for each machine')\n",
        "    for i in range(len(count_used[0])):\n",
        "      print('Machine {}: {}'.format(count_used[0][i], count_used[1][i]))\n",
        "      \n",
        "  \n"
      ],
      "execution_count": null,
      "outputs": []
    },
    {
      "cell_type": "markdown",
      "metadata": {
        "id": "ReGcc8M7QG0T"
      },
      "source": [
        "## Chơi thử mỗi máy 1000 lần"
      ]
    },
    {
      "cell_type": "markdown",
      "metadata": {
        "id": "SYIWqqEkQKkx"
      },
      "source": [
        "Ta thực hiện chơi mỗi máy 1000 lần để thấy được máy nào sẽ cho ra reward trung bình tốt nhất.\n",
        "### TODOs [1 Point]\n",
        "- Thực hiện chơi mỗi máy 1000 lần, sau mỗi lần chơi cần lưu lại lịch sử vào biến ``rich_kid_report``\n",
        "- Sau đó gọi hàm ``plot_average_reward`` để vẽ đồ thị"
      ]
    },
    {
      "cell_type": "code",
      "metadata": {
        "id": "BK_MIUcxJ0Uv",
        "colab": {
          "base_uri": "https://localhost:8080/",
          "height": 607
        },
        "outputId": "c5e5c565-456d-4a0f-fbbe-f7d4e1e70301"
      },
      "source": [
        "np.random.seed(42)\n",
        "\n",
        "rich_kid_report = Report()\n",
        "\n",
        "# YOUR CODE GOES HERE\n",
        "for i in range(3) :\n",
        "    for j in range(1000):\n",
        "        machine_index = machine_list[i]\n",
        "        rich_kid_report.record(i,machine_index.pull())\n",
        "rich_kid_report.plot_average_reward()"
      ],
      "execution_count": null,
      "outputs": [
        {
          "output_type": "display_data",
          "data": {
            "image/png": "[encoded data removed]",
            "text/plain": [
              "<Figure size 1080x720 with 1 Axes>"
            ]
          },
          "metadata": {
            "tags": [],
            "needs_background": "light"
          }
        }
      ]
    },
    {
      "cell_type": "markdown",
      "metadata": {
        "id": "sMiQm0ZrSNea"
      },
      "source": [
        "Giả sử mỗi lần chơi ta phải tốn **6\\$**, thì để chơi hết 4000 lần như trên, phải tốn tổng cộng **24000\\$**. Rất tiếc không phải ai sinh ra cũng ở sẵn vạch đích nên chúng ta sẽ thử các biện pháp khác **\"thông minh hơn\"** để xem có thể tìm ra máy tốt nhất với chi phí thấp nhất không nhé"
      ]
    },
    {
      "cell_type": "markdown",
      "metadata": {
        "id": "a2fmqYoJdTNj"
      },
      "source": [
        "## Random Selection"
      ]
    },
    {
      "cell_type": "markdown",
      "metadata": {
        "id": "q-pC4Luel1mD"
      },
      "source": [
        "### TODOs [1 Point]\n",
        "- Ở phần này, ta thực hiện phương pháp Random Selection theo mã giả như sau:\n",
        "  - Viết hàm ``random_selection`` hàm này trả về ngẫu nhiên index của 1 trong 4 máy.\n",
        "- Chơi 1000 lần bằng phương pháp Random Selection\n",
        "- Gọi hàm ``print_report`` để in ra thống kê"
      ]
    },
    {
      "cell_type": "code",
      "metadata": {
        "id": "vso2DuuKmptG",
        "colab": {
          "base_uri": "https://localhost:8080/"
        },
        "outputId": "a1904090-61d1-4cc8-bdff-f99cce9c7877"
      },
      "source": [
        "np.random.seed(42)\n",
        "\n",
        "random_report = Report()\n",
        "\n",
        "# YOUR CODE GOES HERE\n",
        "def random_selection() :\n",
        "    return np.random.randint(4)\n",
        "\n",
        "for i in range(1000) :\n",
        "    random_index = random_selection()\n",
        "    random_report.record(random_index,machine_list[random_index].pull())\n",
        "random_report.print_report()"
      ],
      "execution_count": null,
      "outputs": [
        {
          "output_type": "stream",
          "text": [
            "After playing 1000 times, the most used machine is Machine 0 with 259 used\n",
            "Total rewards earned = 8635.647460939592$\n",
            "Number of used time for each machine\n",
            "Machine 0: 259\n",
            "Machine 1: 257\n",
            "Machine 2: 242\n",
            "Machine 3: 242\n"
          ],
          "name": "stdout"
        }
      ]
    },
    {
      "cell_type": "markdown",
      "metadata": {
        "id": "oejLKidKUIPt"
      },
      "source": [
        "## Epsilon Greedy"
      ]
    },
    {
      "cell_type": "markdown",
      "metadata": {
        "id": "d099nwCvUNZa"
      },
      "source": [
        "### TODOs [2 Point]\n",
        "- $ $ Ở phần này, chúng ta sẽ thực hiện phương pháp **Epsilon Greedy** theo mã giả như sau:\n",
        "  - Viết hàm ``epsilon_greedy``, hàm này nhận vào ``ep`` là giá trị của epsilon (xác suất thực hiện **khám phá**) và trả ra ``machine_index`` là số thứ tự của máy phải chơi và ``epsilon_greedy_report``. Các bước thực hiện\n",
        "    - Dùng hàm ``bernoulli.rvs`` để lấy mẫu từ phân phối Bernoulli với xác suất chính là biến ``ep``\n",
        "    - Dựa vào kết quả trên để quyết định **khai thác** hoặc **khám phá**\n",
        "    - Nếu là **khai thác**, trả ra index của máy có giá trị $Q_t(a)$ hiện tại lớn nhất.\n",
        "    - Nếu là **khám phá**, random ra index của 1 trong các máy còn lại.\n",
        "    - Return ra index\n",
        "- Chơi 1000 lần bằng phương pháp Random Selection\n",
        "- Gọi hàm ``print_report`` để in ra thống kê  "
      ]
    },
    {
      "cell_type": "code",
      "metadata": {
        "id": "YGDOQ-jmKgHk",
        "colab": {
          "base_uri": "https://localhost:8080/"
        },
        "outputId": "be1d8589-4547-4695-90e5-476900d4b376"
      },
      "source": [
        "np.random.seed(42)\n",
        "\n",
        "epsilon_greedy_report = Report()\n",
        "e = 0.15\n",
        "# YOUR CODE GOES HERE\n",
        "def epsilon_greedy(ep) :\n",
        "    explore_mode = bernoulli.rvs(ep)\n",
        "    if explore_mode :\n",
        "        return np.random.randint(4)\n",
        "    return np.argmax(epsilon_greedy_report.get_latest_Q())\n",
        "for i in range(1000):\n",
        "    index = epsilon_greedy(e)\n",
        "    epsilon_greedy_report.record(index,machine_list[index].pull())\n",
        "epsilon_greedy_report.print_report()"
      ],
      "execution_count": null,
      "outputs": [
        {
          "output_type": "stream",
          "text": [
            "After playing 1000 times, the most used machine is Machine 2 with 551 used\n",
            "Total rewards earned = 8900.15438111645$\n",
            "Number of used time for each machine\n",
            "Machine 0: 365\n",
            "Machine 1: 36\n",
            "Machine 2: 551\n",
            "Machine 3: 48\n"
          ],
          "name": "stdout"
        }
      ]
    },
    {
      "cell_type": "markdown",
      "metadata": {
        "id": "kiJt-DV2nIf_"
      },
      "source": [
        "## Upper Confidence Bound (UCB)\n",
        "  "
      ]
    },
    {
      "cell_type": "markdown",
      "metadata": {
        "id": "LlTaY1WQNiFV"
      },
      "source": [
        "Tiếp theo, ta có class ``Report``  để lưu trữ dữ liệu thống kê và hỗ trợ vẽ đồ thị.\n",
        "\n",
        "Các thông số của class ``Report`` gồm\n",
        "- ``play_history``: lịch sử cho biết tại từng thời điểm, ta đã chọn chơi máy nào\n",
        "- ``total_play``: tổng số lần chơi của mỗi máy\n",
        "- ``Q``: dictionary, lịch sử cho biết tại từng thời điểm, $Q_t(a)$ có giá trị là bao nhiêu\n",
        "- ``reward_history``: dictionary, lịch sử cho biết tại từng thời điểm, tổng reward từ đầu cho đến thời điểm đó là bao nhiêu\n",
        "- ``total_reward``: tổng số reward nhận được, bất kể chơi máy nào\n",
        "\n",
        "Class ``Report`` còn có các hàm hỗ trợ:\n",
        "- ``record``: hàm để lưu lại thông tin sau mỗi lần chơi, tham số truyền vào gồm:\n",
        "  - ``machine_index``: máy số mấy\n",
        "  - ``reward``: reward do máy đó trả ra (gọi hàm ``pull``)\n",
        "- ``get_latest_Q``: hàm để lấy ra giá trị Q mới nhất, nếu truyền vào ``machine_index`` thì lấy ra giá trị của máy đó, nếu truyền vào ``-1`` thì lấy ra giá trị của cả 4 máy.\n",
        "- ``is_played_at_least_one``: hàm này nhận vào ``machine_index`` và trả ra giá trị ``False`` nếu máy đó chưa được chơi lần nào, ``True`` nếu đã được chơi\n",
        "- ``plot_average_reward``: hàm để vẽ ra giá trị của $Q_t(a)$ cho tất cả thời điểm\n",
        "- ``print_report``: hàm này sẽ in ra thống kê máy nào được chơi nhiều nhất và tổng reward thu được"
      ]
    },
    {
      "cell_type": "markdown",
      "metadata": {
        "id": "uEjXze0mCYS6"
      },
      "source": [
        "### TODOs [2 Point]\n",
        "\n",
        "- $ $Ở phần này ta thực hiện phương pháp UCB theo mã giả như sau\n",
        "  - Viết hàm ``ucb``, hàm này nhận vào ``ucb_report`` và trả ra ``machine_index`` là số thứ tự của máy phải chơi. Các bước thực hiện\n",
        "    - Với mỗi machine\n",
        "      - Nếu machine đó đã được chơi ít nhất 1 lần thì \n",
        "        - Tính ``delta`` theo công thức $\\delta = 2 \\sqrt{\\frac{\\log{(t)}}{N_t(a)}}$ Với $t$ là tổng số time step hiện tại, và $N_t(a)$ là số lần chọn chơi máy đó.\n",
        "        - Tính $\\text{ucb} = Q_t(a) + \\delta$ với $Q_t(a)$ là giá trị Q mới nhất của máy đó\n",
        "    - Nếu tất cả machine đều chưa được chơi lần nào, ta trả ra index ngẫu nhiên, ngược lại trả ra index của machine có ``ucb`` lớn nhất\n",
        "- Chơi 1000 lần bằng phương pháp ``UCB``\n",
        "- Gọi hàm ``print_report`` để in ra thống kê \n",
        " \n",
        "\n",
        " Chơi mỗi máy 1 lần rồi UCB\n"
      ]
    },
    {
      "cell_type": "code",
      "metadata": {
        "id": "aJQO_J81jS57",
        "colab": {
          "base_uri": "https://localhost:8080/"
        },
        "outputId": "a3f976ba-fc3e-46c2-9159-dc4f13ebc5d7"
      },
      "source": [
        "np.random.seed(42)\n",
        "\n",
        "ucb_report = Report()\n",
        "\n",
        "\n",
        "# YOUR CODE GOES HERE\n",
        "def ucb(ucb_report,cur_iter):\n",
        "    ad_index = 0\n",
        "    max_ucb = 0\n",
        "    for index in range(4) :\n",
        "            delta = 2*math.sqrt(math.log(cur_iter + 1)/ucb_report.total_play[index])\n",
        "            ucb1 = ucb_report.get_latest_Q(index) + delta\n",
        "            ucb1 = 1e400\n",
        "        if ucb1 > max_ucb :\n",
        "            max_ucb = ucb1\n",
        "            ad_index = index\n",
        "    return ad_index\n",
        "\n",
        "for i in range(1000):\n",
        "    ad_index = ucb(ucb_report,i)\n",
        "    ucb_report.record(ad_index, machine_list[ad_index].pull())\n",
        "ucb_report.print_report()\n",
        "        \n",
        "                                "
      ],
      "execution_count": null,
      "outputs": [
        {
          "output_type": "stream",
          "text": [
            "After playing 1000 times, the most used machine is Machine 0 with 723 used\n",
            "Total rewards earned = 9060.005662068677$\n",
            "Number of used time for each machine\n",
            "Machine 0: 723\n",
            "Machine 1: 7\n",
            "Machine 2: 258\n",
            "Machine 3: 12\n"
          ],
          "name": "stdout"
        }
      ]
    },
    {
      "cell_type": "markdown",
      "metadata": {
        "id": "IDa6s66JyhwZ"
      },
      "source": [
        "## Ôn tập lý thuyết Phân phối Beta và Lấy mẫu Thompson\n",
        "\n",
        "Phương pháp Lấy mẫu Thompson chỉ thực hiện được khi các action của ta trả ra reward tuân theo phân phối Bernoulli\n",
        "- Ví dụ: chiếu quảng cáo, nếu quảng cáo được click thì reward là 1, ngược lại reward là 0\n",
        "\n",
        "Trước tiên ta cần hiểu ý nghĩa phân phối Beta\n",
        "\n",
        "**Phân phối Beta**\n",
        "\n",
        "Là tiên nghiệm của phân phối Bernoulli. Để hiểu ý nghĩa của câu nói trên hãy xem 2 đoạn code minh họa bên dưới\n",
        "\n",
        "Đoạn code bên dưới sẽ vẽ ra **hàm mật độ xác suất** của phân phối Beta với ``alpha = 10`` và ``beta = 20``\n",
        "\n",
        "``alpha`` và ``beta`` được hiểu như sau:\n",
        "> Trong 30 lần thử lấy mẫu Bernoulli, 10 lần ra kết quả **CÓ** và 20 lần ra kết quả **KHÔNG**. Suy ra phân phối Bernoulli này có thể có xác suất để kết quả là **CÓ** = 0.3"
      ]
    },
    {
      "cell_type": "code",
      "metadata": {
        "id": "ki3p0JglycH3",
        "colab": {
          "base_uri": "https://localhost:8080/",
          "height": 282
        },
        "outputId": "5d405ea5-4d2d-4971-d1ee-d6d686f2f6bb"
      },
      "source": [
        "from scipy.stats import beta\n",
        "# alpha\n",
        "a = 10\n",
        "# beta\n",
        "b = 20\n",
        "x = np.linspace(0.001, 0.999, 1000)\n",
        "plt.plot(x, beta(a, b).pdf(x))"
      ],
      "execution_count": null,
      "outputs": [
        {
          "output_type": "execute_result",
          "data": {
            "text/plain": [
              "[<matplotlib.lines.Line2D at 0x7fa2ce8c9518>]"
            ]
          },
          "metadata": {
            "tags": []
          },
          "execution_count": 52
        },
        {
          "output_type": "display_data",
          "data": {
            "image/png": "[encoded data removed]",
            "text/plain": [
              "<Figure size 432x288 with 1 Axes>"
            ]
          },
          "metadata": {
            "tags": [],
            "needs_background": "light"
          }
        }
      ]
    },
    {
      "cell_type": "markdown",
      "metadata": {
        "id": "EZSba-9R1_3f"
      },
      "source": [
        "Ta vẽ lại **Hàm mật độ xác suất** với ``alpha=100`` và ``beta=200`` (Với 300 lần lấy mẫu Bernoulli, 100 lần ra kết quả **CÓ** và 200 lần ra kết quả **KHÔNG**)"
      ]
    },
    {
      "cell_type": "code",
      "metadata": {
        "id": "H0WCAfWia2bt",
        "colab": {
          "base_uri": "https://localhost:8080/",
          "height": 282
        },
        "outputId": "f4d3ad8a-8119-4a22-e243-0f3c3d348008"
      },
      "source": [
        "# alpha\n",
        "a = 100\n",
        "# beta\n",
        "b = 200\n",
        "x = np.linspace(0.001, 0.999, 1000)\n",
        "plt.plot(x, beta(a, b).pdf(x))"
      ],
      "execution_count": null,
      "outputs": [
        {
          "output_type": "execute_result",
          "data": {
            "text/plain": [
              "[<matplotlib.lines.Line2D at 0x7fa2ce871390>]"
            ]
          },
          "metadata": {
            "tags": []
          },
          "execution_count": 53
        },
        {
          "output_type": "display_data",
          "data": {
            "image/png": "[encoded data removed]",
            "text/plain": [
              "<Figure size 432x288 with 1 Axes>"
            ]
          },
          "metadata": {
            "tags": [],
            "needs_background": "light"
          }
        }
      ]
    },
    {
      "cell_type": "markdown",
      "metadata": {
        "id": "XqIZMS7H2YKN"
      },
      "source": [
        "Ta thấy hình ở dưới hẹp hơn hình bên trên, lý do là vì ta đã thử lấy mẫu 300 lần nên ta có thể tự tin kết luận xác suất ra **CÓ** của phân phối Bernoulli này là xấp xỉ 0.3.\n",
        "\n",
        "Còn ở hình bên trên, do mới chỉ lấy mẫu 30 lần, nên xác suất có khả năng nằm trong khoảng từ 0.2 đến 0.4\n",
        "\n",
        "**Lấy mẫu Thompson**\n",
        "\n",
        "Thay vì tính $Q_t(a)$ theo công thức **số lần click chia tổng số lần xuất hiện**, ta sẽ tính $Q_t(a)$ bằng cách:\n",
        "- Với mỗi quảng cáo:\n",
        "  - Tạo ra ``alpha`` và ``beta`` tượng trưng cho niềm tin của ta vào CTR của quảng cáo (tạm gọi là ``priors[0]`` và ``priors[1]``)\n",
        "    - Ví dụ, ta có niềm tin là CTR xấp xỉ 0.6 thì ``priors[0]=60`` và ``priors[1]=40``\n",
        "    - Ví dụ, ta không dám khẳng định CTR thì ``priors[0]=1`` và ``priors[1]=1``\n",
        "  - Sau đó, ta tạo ra ``alpha`` và ``beta`` mới theo công thức sau:\n",
        "    - ``alpha = priors[0] + số lượt click``\n",
        "    - ``beta = priors[1] + số lượt hiển thị nhưng không được click``\n",
        "  - Cuối cùng ta thực hiện lấy mẫu từ phân phối Beta trên.\n",
        "- Chọn ra quảng cáo có giá trị $Q_t(a)$ cao nhất.\n",
        "\n",
        " "
      ]
    },
    {
      "cell_type": "code",
      "metadata": {
        "id": "PMafTwhk2WON"
      },
      "source": [
        ""
      ],
      "execution_count": null,
      "outputs": []
    }
  ]
}