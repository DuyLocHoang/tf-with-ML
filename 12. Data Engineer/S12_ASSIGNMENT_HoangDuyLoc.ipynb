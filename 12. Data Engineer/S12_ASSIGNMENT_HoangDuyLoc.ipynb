{
  "nbformat": 4,
  "nbformat_minor": 0,
  "metadata": {
    "colab": {
      "name": "S12_ASSIGNMENT_HoangDuyLoc.ipynb",
      "provenance": [],
      "collapsed_sections": []
    },
    "kernelspec": {
      "name": "python3",
      "display_name": "Python 3"
    }
  },
  "cells": [
    {
      "cell_type": "markdown",
      "metadata": {
        "id": "bjDbU66YPmLg"
      },
      "source": [
        "<h1><center>\n",
        "\n",
        "![](https://i.imgur.com/jrRGMfx.png)\n",
        "\n",
        "AI PRACTITIONER COURSE \n",
        "\n",
        "ASSIGNMENT - SESSION 12 - Data Engineering\n",
        "\n",
        "**&copy; 2020 VTCA-COTAI. Internal Use Only.**\n",
        "\n",
        "</center></h1>"
      ]
    },
    {
      "cell_type": "markdown",
      "metadata": {
        "id": "ls2X90DvAQHY"
      },
      "source": [
        "#12.1 [4 Points] Coding Practice"
      ]
    },
    {
      "cell_type": "markdown",
      "metadata": {
        "id": "aZHm7HOtAkn8"
      },
      "source": [
        "Nội dung Assignment\n",
        "\n",
        "*   Thực hành EDA trên dataset Pima Indians Diabetes\n",
        "\n",
        "Các features trong dataset\n",
        "\n",
        "Feature | Description\n",
        "--------|------------\n",
        "Pregnancies | Number of times pregnant\n",
        "Glucose | Plasma glucose concentration over 2 hours in an oral glucose tolerance test\n",
        "BloodPressure | Diastolic blood pressure (mm Hg)\n",
        "SkinThickness | Triceps skin fold thickness (mm)\n",
        "Insulin | 2-Hour serum insulin (mu U/ml)\n",
        "BMI | Body mass index (weight in kg/(height in m)2)\n",
        "DiabetesPedigreeFunction | Diabetes pedigree function (a function which scores likelihood of diabetes based on family history)\n",
        "Age | Age (years)\n",
        "**Outcome** | Label **0 if non-diabetic, 1 if diabetic**"
      ]
    },
    {
      "cell_type": "code",
      "metadata": {
        "id": "FdFJ2j-fVgEA",
        "colab": {
          "base_uri": "https://localhost:8080/"
        },
        "outputId": "dfcb8063-4517-4145-ffee-5969c876d303"
      },
      "source": [
        "!wget http://nrvis.com/data/mldata/pima-indians-diabetes.csv"
      ],
      "execution_count": null,
      "outputs": [
        {
          "output_type": "stream",
          "text": [
            "--2020-12-16 06:00:36--  http://nrvis.com/data/mldata/pima-indians-diabetes.csv\n",
            "Resolving nrvis.com (nrvis.com)... 173.236.176.48\n",
            "Connecting to nrvis.com (nrvis.com)|173.236.176.48|:80... connected.\n",
            "HTTP request sent, awaiting response... 200 OK\n",
            "Length: 23279 (23K) [text/csv]\n",
            "Saving to: ‘pima-indians-diabetes.csv’\n",
            "\n",
            "pima-indians-diabet 100%[===================>]  22.73K   119KB/s    in 0.2s    \n",
            "\n",
            "2020-12-16 06:00:37 (119 KB/s) - ‘pima-indians-diabetes.csv’ saved [23279/23279]\n",
            "\n"
          ],
          "name": "stdout"
        }
      ]
    },
    {
      "cell_type": "code",
      "metadata": {
        "id": "GIzp_u66C_gP"
      },
      "source": [
        "import numpy as np\n",
        "import warnings\n",
        "import sys\n",
        "import os\n",
        "import pandas as pd\n",
        "import matplotlib as mpl\n",
        "import matplotlib.pyplot as plt\n",
        "import seaborn as sns\n",
        "\n",
        "# style for chart\n",
        "sns.set(style='white', context='notebook', palette='deep')\n",
        "warnings.filterwarnings('ignore')\n",
        "mpl.style.use('ggplot')\n",
        "sns.set_style('white')"
      ],
      "execution_count": null,
      "outputs": []
    },
    {
      "cell_type": "code",
      "metadata": {
        "id": "jT5SFxeNXkAK"
      },
      "source": [
        "import pandas as pd\n",
        "\n",
        "PATH = '/content/pima-indians-diabetes.csv'\n",
        "\n",
        "df = pd.read_csv(PATH, names=['Pregnancies',\t'Glucose',\t'BloodPressure',\t'SkinThickness',\t'Insulin'\t,'BMI'\t,'DiabetesPedigreeFunction'\t,'Age'\t,'Outcome'])"
      ],
      "execution_count": null,
      "outputs": []
    },
    {
      "cell_type": "markdown",
      "metadata": {
        "id": "RWr4F9z5jGMW"
      },
      "source": [
        "## 12.1.1 [0.5 Point] Data Exploration"
      ]
    },
    {
      "cell_type": "markdown",
      "metadata": {
        "id": "meVtPDxFjcMj"
      },
      "source": [
        "\n",
        "**TODOs**\n",
        "*   In ra 10 dòng ngẫu nhiên trong Dataframe\n",
        "*   In ra thống kê sơ bộ của dữ liệu (các giá trị min-max-mean, ...)trong Dataframe\n",
        "*   In ra kiểu dữ liệu (data type) của các feature, có feature nào định dạng là object hay không ?\n",
        "*   In ra số lượng dòng bị null (tên khác na hoặc nan) của mỗi feature\n",
        "*   Dữ liệu của chúng ta hầu hết là các **continuous value**, tuy nhiên vẫn có 2 cột là **categorical value** đó là Pregnancies và Outcome.\n",
        "  * In ra  số lượng của mỗi unique value trong 2 cột Pregnancies và Outcome\n"
      ]
    },
    {
      "cell_type": "code",
      "metadata": {
        "id": "8HYi1-HwW7UH",
        "colab": {
          "base_uri": "https://localhost:8080/",
          "height": 348
        },
        "outputId": "403347bf-1d4a-4a7c-d2af-84117898c8d0"
      },
      "source": [
        "# In ra 10 dong ngau nhien\n",
        "df.sample(10)"
      ],
      "execution_count": null,
      "outputs": [
        {
          "output_type": "execute_result",
          "data": {
            "text/html": [
              "<div>\n",
              "<style scoped>\n",
              "    .dataframe tbody tr th:only-of-type {\n",
              "        vertical-align: middle;\n",
              "    }\n",
              "\n",
              "    .dataframe tbody tr th {\n",
              "        vertical-align: top;\n",
              "    }\n",
              "\n",
              "    .dataframe thead th {\n",
              "        text-align: right;\n",
              "    }\n",
              "</style>\n",
              "<table border=\"1\" class=\"dataframe\">\n",
              "  <thead>\n",
              "    <tr style=\"text-align: right;\">\n",
              "      <th></th>\n",
              "      <th>Pregnancies</th>\n",
              "      <th>Glucose</th>\n",
              "      <th>BloodPressure</th>\n",
              "      <th>SkinThickness</th>\n",
              "      <th>Insulin</th>\n",
              "      <th>BMI</th>\n",
              "      <th>DiabetesPedigreeFunction</th>\n",
              "      <th>Age</th>\n",
              "      <th>Outcome</th>\n",
              "    </tr>\n",
              "  </thead>\n",
              "  <tbody>\n",
              "    <tr>\n",
              "      <th>488</th>\n",
              "      <td>4</td>\n",
              "      <td>99</td>\n",
              "      <td>72</td>\n",
              "      <td>17</td>\n",
              "      <td>0</td>\n",
              "      <td>25.6</td>\n",
              "      <td>0.294</td>\n",
              "      <td>28</td>\n",
              "      <td>0</td>\n",
              "    </tr>\n",
              "    <tr>\n",
              "      <th>586</th>\n",
              "      <td>8</td>\n",
              "      <td>143</td>\n",
              "      <td>66</td>\n",
              "      <td>0</td>\n",
              "      <td>0</td>\n",
              "      <td>34.9</td>\n",
              "      <td>0.129</td>\n",
              "      <td>41</td>\n",
              "      <td>1</td>\n",
              "    </tr>\n",
              "    <tr>\n",
              "      <th>661</th>\n",
              "      <td>1</td>\n",
              "      <td>199</td>\n",
              "      <td>76</td>\n",
              "      <td>43</td>\n",
              "      <td>0</td>\n",
              "      <td>42.9</td>\n",
              "      <td>1.394</td>\n",
              "      <td>22</td>\n",
              "      <td>1</td>\n",
              "    </tr>\n",
              "    <tr>\n",
              "      <th>605</th>\n",
              "      <td>1</td>\n",
              "      <td>124</td>\n",
              "      <td>60</td>\n",
              "      <td>32</td>\n",
              "      <td>0</td>\n",
              "      <td>35.8</td>\n",
              "      <td>0.514</td>\n",
              "      <td>21</td>\n",
              "      <td>0</td>\n",
              "    </tr>\n",
              "    <tr>\n",
              "      <th>365</th>\n",
              "      <td>5</td>\n",
              "      <td>99</td>\n",
              "      <td>54</td>\n",
              "      <td>28</td>\n",
              "      <td>83</td>\n",
              "      <td>34.0</td>\n",
              "      <td>0.499</td>\n",
              "      <td>30</td>\n",
              "      <td>0</td>\n",
              "    </tr>\n",
              "    <tr>\n",
              "      <th>524</th>\n",
              "      <td>3</td>\n",
              "      <td>125</td>\n",
              "      <td>58</td>\n",
              "      <td>0</td>\n",
              "      <td>0</td>\n",
              "      <td>31.6</td>\n",
              "      <td>0.151</td>\n",
              "      <td>24</td>\n",
              "      <td>0</td>\n",
              "    </tr>\n",
              "    <tr>\n",
              "      <th>485</th>\n",
              "      <td>0</td>\n",
              "      <td>135</td>\n",
              "      <td>68</td>\n",
              "      <td>42</td>\n",
              "      <td>250</td>\n",
              "      <td>42.3</td>\n",
              "      <td>0.365</td>\n",
              "      <td>24</td>\n",
              "      <td>1</td>\n",
              "    </tr>\n",
              "    <tr>\n",
              "      <th>665</th>\n",
              "      <td>1</td>\n",
              "      <td>112</td>\n",
              "      <td>80</td>\n",
              "      <td>45</td>\n",
              "      <td>132</td>\n",
              "      <td>34.8</td>\n",
              "      <td>0.217</td>\n",
              "      <td>24</td>\n",
              "      <td>0</td>\n",
              "    </tr>\n",
              "    <tr>\n",
              "      <th>215</th>\n",
              "      <td>12</td>\n",
              "      <td>151</td>\n",
              "      <td>70</td>\n",
              "      <td>40</td>\n",
              "      <td>271</td>\n",
              "      <td>41.8</td>\n",
              "      <td>0.742</td>\n",
              "      <td>38</td>\n",
              "      <td>1</td>\n",
              "    </tr>\n",
              "    <tr>\n",
              "      <th>44</th>\n",
              "      <td>7</td>\n",
              "      <td>159</td>\n",
              "      <td>64</td>\n",
              "      <td>0</td>\n",
              "      <td>0</td>\n",
              "      <td>27.4</td>\n",
              "      <td>0.294</td>\n",
              "      <td>40</td>\n",
              "      <td>0</td>\n",
              "    </tr>\n",
              "  </tbody>\n",
              "</table>\n",
              "</div>"
            ],
            "text/plain": [
              "     Pregnancies  Glucose  ...  Age  Outcome\n",
              "488            4       99  ...   28        0\n",
              "586            8      143  ...   41        1\n",
              "661            1      199  ...   22        1\n",
              "605            1      124  ...   21        0\n",
              "365            5       99  ...   30        0\n",
              "524            3      125  ...   24        0\n",
              "485            0      135  ...   24        1\n",
              "665            1      112  ...   24        0\n",
              "215           12      151  ...   38        1\n",
              "44             7      159  ...   40        0\n",
              "\n",
              "[10 rows x 9 columns]"
            ]
          },
          "metadata": {
            "tags": []
          },
          "execution_count": 4
        }
      ]
    },
    {
      "cell_type": "code",
      "metadata": {
        "colab": {
          "base_uri": "https://localhost:8080/",
          "height": 288
        },
        "id": "QSFrswxCXjhn",
        "outputId": "43b9e8f4-f682-419c-d8f5-0e3d5672c2c7"
      },
      "source": [
        "# In ra thong ke so bo cua du lieu\n",
        "df.describe()"
      ],
      "execution_count": null,
      "outputs": [
        {
          "output_type": "execute_result",
          "data": {
            "text/html": [
              "<div>\n",
              "<style scoped>\n",
              "    .dataframe tbody tr th:only-of-type {\n",
              "        vertical-align: middle;\n",
              "    }\n",
              "\n",
              "    .dataframe tbody tr th {\n",
              "        vertical-align: top;\n",
              "    }\n",
              "\n",
              "    .dataframe thead th {\n",
              "        text-align: right;\n",
              "    }\n",
              "</style>\n",
              "<table border=\"1\" class=\"dataframe\">\n",
              "  <thead>\n",
              "    <tr style=\"text-align: right;\">\n",
              "      <th></th>\n",
              "      <th>Pregnancies</th>\n",
              "      <th>Glucose</th>\n",
              "      <th>BloodPressure</th>\n",
              "      <th>SkinThickness</th>\n",
              "      <th>Insulin</th>\n",
              "      <th>BMI</th>\n",
              "      <th>DiabetesPedigreeFunction</th>\n",
              "      <th>Age</th>\n",
              "      <th>Outcome</th>\n",
              "    </tr>\n",
              "  </thead>\n",
              "  <tbody>\n",
              "    <tr>\n",
              "      <th>count</th>\n",
              "      <td>768.000000</td>\n",
              "      <td>768.000000</td>\n",
              "      <td>768.000000</td>\n",
              "      <td>768.000000</td>\n",
              "      <td>768.000000</td>\n",
              "      <td>768.000000</td>\n",
              "      <td>768.000000</td>\n",
              "      <td>768.000000</td>\n",
              "      <td>768.000000</td>\n",
              "    </tr>\n",
              "    <tr>\n",
              "      <th>mean</th>\n",
              "      <td>3.845052</td>\n",
              "      <td>120.894531</td>\n",
              "      <td>69.105469</td>\n",
              "      <td>20.536458</td>\n",
              "      <td>79.799479</td>\n",
              "      <td>31.992578</td>\n",
              "      <td>0.471876</td>\n",
              "      <td>33.240885</td>\n",
              "      <td>0.348958</td>\n",
              "    </tr>\n",
              "    <tr>\n",
              "      <th>std</th>\n",
              "      <td>3.369578</td>\n",
              "      <td>31.972618</td>\n",
              "      <td>19.355807</td>\n",
              "      <td>15.952218</td>\n",
              "      <td>115.244002</td>\n",
              "      <td>7.884160</td>\n",
              "      <td>0.331329</td>\n",
              "      <td>11.760232</td>\n",
              "      <td>0.476951</td>\n",
              "    </tr>\n",
              "    <tr>\n",
              "      <th>min</th>\n",
              "      <td>0.000000</td>\n",
              "      <td>0.000000</td>\n",
              "      <td>0.000000</td>\n",
              "      <td>0.000000</td>\n",
              "      <td>0.000000</td>\n",
              "      <td>0.000000</td>\n",
              "      <td>0.078000</td>\n",
              "      <td>21.000000</td>\n",
              "      <td>0.000000</td>\n",
              "    </tr>\n",
              "    <tr>\n",
              "      <th>25%</th>\n",
              "      <td>1.000000</td>\n",
              "      <td>99.000000</td>\n",
              "      <td>62.000000</td>\n",
              "      <td>0.000000</td>\n",
              "      <td>0.000000</td>\n",
              "      <td>27.300000</td>\n",
              "      <td>0.243750</td>\n",
              "      <td>24.000000</td>\n",
              "      <td>0.000000</td>\n",
              "    </tr>\n",
              "    <tr>\n",
              "      <th>50%</th>\n",
              "      <td>3.000000</td>\n",
              "      <td>117.000000</td>\n",
              "      <td>72.000000</td>\n",
              "      <td>23.000000</td>\n",
              "      <td>30.500000</td>\n",
              "      <td>32.000000</td>\n",
              "      <td>0.372500</td>\n",
              "      <td>29.000000</td>\n",
              "      <td>0.000000</td>\n",
              "    </tr>\n",
              "    <tr>\n",
              "      <th>75%</th>\n",
              "      <td>6.000000</td>\n",
              "      <td>140.250000</td>\n",
              "      <td>80.000000</td>\n",
              "      <td>32.000000</td>\n",
              "      <td>127.250000</td>\n",
              "      <td>36.600000</td>\n",
              "      <td>0.626250</td>\n",
              "      <td>41.000000</td>\n",
              "      <td>1.000000</td>\n",
              "    </tr>\n",
              "    <tr>\n",
              "      <th>max</th>\n",
              "      <td>17.000000</td>\n",
              "      <td>199.000000</td>\n",
              "      <td>122.000000</td>\n",
              "      <td>99.000000</td>\n",
              "      <td>846.000000</td>\n",
              "      <td>67.100000</td>\n",
              "      <td>2.420000</td>\n",
              "      <td>81.000000</td>\n",
              "      <td>1.000000</td>\n",
              "    </tr>\n",
              "  </tbody>\n",
              "</table>\n",
              "</div>"
            ],
            "text/plain": [
              "       Pregnancies     Glucose  ...         Age     Outcome\n",
              "count   768.000000  768.000000  ...  768.000000  768.000000\n",
              "mean      3.845052  120.894531  ...   33.240885    0.348958\n",
              "std       3.369578   31.972618  ...   11.760232    0.476951\n",
              "min       0.000000    0.000000  ...   21.000000    0.000000\n",
              "25%       1.000000   99.000000  ...   24.000000    0.000000\n",
              "50%       3.000000  117.000000  ...   29.000000    0.000000\n",
              "75%       6.000000  140.250000  ...   41.000000    1.000000\n",
              "max      17.000000  199.000000  ...   81.000000    1.000000\n",
              "\n",
              "[8 rows x 9 columns]"
            ]
          },
          "metadata": {
            "tags": []
          },
          "execution_count": 5
        }
      ]
    },
    {
      "cell_type": "code",
      "metadata": {
        "colab": {
          "base_uri": "https://localhost:8080/"
        },
        "id": "-KR4bAc8Xeip",
        "outputId": "e32ee29d-aaa8-4463-96b7-502a1a04587f"
      },
      "source": [
        "# in ra kieu du lieu\n",
        "df.info()"
      ],
      "execution_count": null,
      "outputs": [
        {
          "output_type": "stream",
          "text": [
            "<class 'pandas.core.frame.DataFrame'>\n",
            "RangeIndex: 768 entries, 0 to 767\n",
            "Data columns (total 9 columns):\n",
            " #   Column                    Non-Null Count  Dtype  \n",
            "---  ------                    --------------  -----  \n",
            " 0   Pregnancies               768 non-null    int64  \n",
            " 1   Glucose                   768 non-null    int64  \n",
            " 2   BloodPressure             768 non-null    int64  \n",
            " 3   SkinThickness             768 non-null    int64  \n",
            " 4   Insulin                   768 non-null    int64  \n",
            " 5   BMI                       768 non-null    float64\n",
            " 6   DiabetesPedigreeFunction  768 non-null    float64\n",
            " 7   Age                       768 non-null    int64  \n",
            " 8   Outcome                   768 non-null    int64  \n",
            "dtypes: float64(2), int64(7)\n",
            "memory usage: 54.1 KB\n"
          ],
          "name": "stdout"
        }
      ]
    },
    {
      "cell_type": "code",
      "metadata": {
        "colab": {
          "base_uri": "https://localhost:8080/"
        },
        "id": "ywTV5Do5ZNEq",
        "outputId": "b7ce6862-84f1-4db0-c49f-f5416459935e"
      },
      "source": [
        "# kiem tra du lieu null\n",
        "df.isnull().sum()"
      ],
      "execution_count": null,
      "outputs": [
        {
          "output_type": "execute_result",
          "data": {
            "text/plain": [
              "Pregnancies                 0\n",
              "Glucose                     0\n",
              "BloodPressure               0\n",
              "SkinThickness               0\n",
              "Insulin                     0\n",
              "BMI                         0\n",
              "DiabetesPedigreeFunction    0\n",
              "Age                         0\n",
              "Outcome                     0\n",
              "dtype: int64"
            ]
          },
          "metadata": {
            "tags": []
          },
          "execution_count": 7
        }
      ]
    },
    {
      "cell_type": "markdown",
      "metadata": {
        "id": "zZXTL9MQlnGm"
      },
      "source": [
        "## 12.1.2 [0.5 Point] Data Visualization"
      ]
    },
    {
      "cell_type": "markdown",
      "metadata": {
        "id": "XAacVAleltZR"
      },
      "source": [
        "**TODOs**\n",
        "*   Vẽ chart kết hợp và đếm cho 2 feature Pregnancies và Outcome\n",
        "*   Vẽ Histogram cho toàn bộ các feature trong dataframe\n",
        "*   Vẽ Heatmap cho Correlation Matrix"
      ]
    },
    {
      "cell_type": "code",
      "metadata": {
        "id": "EaPSUED2W75K",
        "colab": {
          "base_uri": "https://localhost:8080/",
          "height": 405
        },
        "outputId": "53340445-a2b6-4446-a790-1d0117fe4b63"
      },
      "source": [
        "# Chart ket hop va dem cho 2 feature Fregnancies va Outcome\n",
        "sns.catplot(data = df,\n",
        "            x = 'Pregnancies',\n",
        "            col = 'Outcome',\n",
        "            kind = 'count')"
      ],
      "execution_count": null,
      "outputs": [
        {
          "output_type": "execute_result",
          "data": {
            "text/plain": [
              "<seaborn.axisgrid.FacetGrid at 0x7fc91b34a6d8>"
            ]
          },
          "metadata": {
            "tags": []
          },
          "execution_count": 8
        },
        {
          "output_type": "display_data",
          "data": {
            "image/png": "[encoded data removed]",
            "text/plain": [
              "<Figure size 720x360 with 2 Axes>"
            ]
          },
          "metadata": {
            "tags": []
          }
        }
      ]
    },
    {
      "cell_type": "code",
      "metadata": {
        "colab": {
          "base_uri": "https://localhost:8080/",
          "height": 647
        },
        "id": "y-xljg5iauuz",
        "outputId": "a700483b-d9ca-4851-d290-529cb5cce8da"
      },
      "source": [
        "# Histogram cho toan bo feature\n",
        "df.hist(figsize = (15,10),bins = 40)\n",
        "plt.figure()"
      ],
      "execution_count": null,
      "outputs": [
        {
          "output_type": "execute_result",
          "data": {
            "text/plain": [
              "<Figure size 432x288 with 0 Axes>"
            ]
          },
          "metadata": {
            "tags": []
          },
          "execution_count": 9
        },
        {
          "output_type": "display_data",
          "data": {
            "image/png": "[encoded data removed]",
            "text/plain": [
              "<Figure size 1080x720 with 9 Axes>"
            ]
          },
          "metadata": {
            "tags": []
          }
        },
        {
          "output_type": "display_data",
          "data": {
            "text/plain": [
              "<Figure size 432x288 with 0 Axes>"
            ]
          },
          "metadata": {
            "tags": []
          }
        }
      ]
    },
    {
      "cell_type": "code",
      "metadata": {
        "colab": {
          "base_uri": "https://localhost:8080/",
          "height": 425
        },
        "id": "bLVhd-sYbH93",
        "outputId": "a3172b28-9853-477a-9369-6face7000e02"
      },
      "source": [
        "#Heatmap cho corr matrix\n",
        "\n",
        "sns.heatmap(df.corr())"
      ],
      "execution_count": null,
      "outputs": [
        {
          "output_type": "execute_result",
          "data": {
            "text/plain": [
              "<matplotlib.axes._subplots.AxesSubplot at 0x7fa3b9517f98>"
            ]
          },
          "metadata": {
            "tags": []
          },
          "execution_count": 16
        },
        {
          "output_type": "display_data",
          "data": {
            "image/png": "[encoded data removed]",
            "text/plain": [
              "<Figure size 432x288 with 2 Axes>"
            ]
          },
          "metadata": {
            "tags": []
          }
        }
      ]
    },
    {
      "cell_type": "markdown",
      "metadata": {
        "id": "AFRitIvT-omu"
      },
      "source": [
        "## 12.1.3 [0.5 Point] Data Preprocessing"
      ]
    },
    {
      "cell_type": "markdown",
      "metadata": {
        "id": "xC2y6Q7s-ycO"
      },
      "source": [
        "Nhìn vào Histogram được vẽ bên trên, ta thấy được có nhiều điểm bất hợp lý trong dữ liệu.\n",
        "\n",
        "\n",
        "*   Các feature **`Insulin, SkinThickness, BloodPressure, BMI, Glucose`** có rất nhiều value bằng 0. Ở những feature này, value = 0 tương ứng với việc dữ liệu tại đó là null (nan / na)\n",
        "\n",
        "Công việc của chúng ta là replace những value này về giá trị median / min / max / mode của chúng (hoặc xóa đi luôn)\n",
        "\n",
        "Như ở bài lab trên lớp, ta thấy được việc replace giá trị nan có thể quyết định bằng cách **gộp feature hiện tại với 1 feature khác kiểu categorical** rồi tính median trên những điểm dữ liệu đã được gộp. \n",
        "\n",
        "Ví dụ **gộp hành khách theo Pclass** rồi mới replace giá trị null trong cột Age thành giá trị median của nhóm\n",
        "\n",
        "```\n",
        "df_train.loc[df_train.Age.isnull(), 'Age'] = df_train.groupby(\"Pclass\").Age.transform('median')\n",
        "\n",
        "```\n",
        "\n",
        "Trong bài này, ta sẽ thử  replace bằng median của toàn bộ cột.\n",
        "\n",
        "Ví dụ: Dùng giá trị median của toàn bộ feature BMI để replace cho các giá trị = 0"
      ]
    },
    {
      "cell_type": "code",
      "metadata": {
        "id": "HIlUJElW-xGA",
        "colab": {
          "base_uri": "https://localhost:8080/",
          "height": 198
        },
        "outputId": "8297de4c-40a4-4bc8-ba3b-888e979d624f"
      },
      "source": [
        "# Calculate the median value for BMI\n",
        "median_bmi = df['BMI'].median()\n",
        "# Replace it in the BMI column of the\n",
        "# dataset where values are 0\n",
        "df['BMI'] = df['BMI'].replace(\n",
        "    to_replace=0, value=median_bmi)\n",
        "df.head()"
      ],
      "execution_count": null,
      "outputs": [
        {
          "output_type": "execute_result",
          "data": {
            "text/html": [
              "<div>\n",
              "<style scoped>\n",
              "    .dataframe tbody tr th:only-of-type {\n",
              "        vertical-align: middle;\n",
              "    }\n",
              "\n",
              "    .dataframe tbody tr th {\n",
              "        vertical-align: top;\n",
              "    }\n",
              "\n",
              "    .dataframe thead th {\n",
              "        text-align: right;\n",
              "    }\n",
              "</style>\n",
              "<table border=\"1\" class=\"dataframe\">\n",
              "  <thead>\n",
              "    <tr style=\"text-align: right;\">\n",
              "      <th></th>\n",
              "      <th>Pregnancies</th>\n",
              "      <th>Glucose</th>\n",
              "      <th>BloodPressure</th>\n",
              "      <th>SkinThickness</th>\n",
              "      <th>Insulin</th>\n",
              "      <th>BMI</th>\n",
              "      <th>DiabetesPedigreeFunction</th>\n",
              "      <th>Age</th>\n",
              "      <th>Outcome</th>\n",
              "    </tr>\n",
              "  </thead>\n",
              "  <tbody>\n",
              "    <tr>\n",
              "      <th>0</th>\n",
              "      <td>6</td>\n",
              "      <td>148</td>\n",
              "      <td>72</td>\n",
              "      <td>35</td>\n",
              "      <td>0</td>\n",
              "      <td>33.6</td>\n",
              "      <td>0.627</td>\n",
              "      <td>50</td>\n",
              "      <td>1</td>\n",
              "    </tr>\n",
              "    <tr>\n",
              "      <th>1</th>\n",
              "      <td>1</td>\n",
              "      <td>85</td>\n",
              "      <td>66</td>\n",
              "      <td>29</td>\n",
              "      <td>0</td>\n",
              "      <td>26.6</td>\n",
              "      <td>0.351</td>\n",
              "      <td>31</td>\n",
              "      <td>0</td>\n",
              "    </tr>\n",
              "    <tr>\n",
              "      <th>2</th>\n",
              "      <td>8</td>\n",
              "      <td>183</td>\n",
              "      <td>64</td>\n",
              "      <td>0</td>\n",
              "      <td>0</td>\n",
              "      <td>23.3</td>\n",
              "      <td>0.672</td>\n",
              "      <td>32</td>\n",
              "      <td>1</td>\n",
              "    </tr>\n",
              "    <tr>\n",
              "      <th>3</th>\n",
              "      <td>1</td>\n",
              "      <td>89</td>\n",
              "      <td>66</td>\n",
              "      <td>23</td>\n",
              "      <td>94</td>\n",
              "      <td>28.1</td>\n",
              "      <td>0.167</td>\n",
              "      <td>21</td>\n",
              "      <td>0</td>\n",
              "    </tr>\n",
              "    <tr>\n",
              "      <th>4</th>\n",
              "      <td>0</td>\n",
              "      <td>137</td>\n",
              "      <td>40</td>\n",
              "      <td>35</td>\n",
              "      <td>168</td>\n",
              "      <td>43.1</td>\n",
              "      <td>2.288</td>\n",
              "      <td>33</td>\n",
              "      <td>1</td>\n",
              "    </tr>\n",
              "  </tbody>\n",
              "</table>\n",
              "</div>"
            ],
            "text/plain": [
              "   Pregnancies  Glucose  BloodPressure  ...  DiabetesPedigreeFunction  Age  Outcome\n",
              "0            6      148             72  ...                     0.627   50        1\n",
              "1            1       85             66  ...                     0.351   31        0\n",
              "2            8      183             64  ...                     0.672   32        1\n",
              "3            1       89             66  ...                     0.167   21        0\n",
              "4            0      137             40  ...                     2.288   33        1\n",
              "\n",
              "[5 rows x 9 columns]"
            ]
          },
          "metadata": {
            "tags": []
          },
          "execution_count": 10
        }
      ]
    },
    {
      "cell_type": "markdown",
      "metadata": {
        "id": "qzj6FFgsDGn0"
      },
      "source": [
        "**TODOs**\n",
        "\n",
        "1.   Thực hiện tương tự để replace toàn bộ các value = 0 ở những feature còn lại **`Insulin, SkinThickness, BloodPressure, Glucose`**\n",
        "\n",
        "\n"
      ]
    },
    {
      "cell_type": "code",
      "metadata": {
        "id": "7VpLD-chW9Mt",
        "colab": {
          "base_uri": "https://localhost:8080/",
          "height": 198
        },
        "outputId": "3538d3f8-1036-49da-8da9-b1c11afa4e40"
      },
      "source": [
        "feature = ['Insulin','SkinThickness','BloodPressure','Glucose']\n",
        "for i in feature :\n",
        "    median = df[i].median()\n",
        "    df[i] = df[i].replace(to_replace = 0, value = median)\n",
        "df.head()"
      ],
      "execution_count": null,
      "outputs": [
        {
          "output_type": "execute_result",
          "data": {
            "text/html": [
              "<div>\n",
              "<style scoped>\n",
              "    .dataframe tbody tr th:only-of-type {\n",
              "        vertical-align: middle;\n",
              "    }\n",
              "\n",
              "    .dataframe tbody tr th {\n",
              "        vertical-align: top;\n",
              "    }\n",
              "\n",
              "    .dataframe thead th {\n",
              "        text-align: right;\n",
              "    }\n",
              "</style>\n",
              "<table border=\"1\" class=\"dataframe\">\n",
              "  <thead>\n",
              "    <tr style=\"text-align: right;\">\n",
              "      <th></th>\n",
              "      <th>Pregnancies</th>\n",
              "      <th>Glucose</th>\n",
              "      <th>BloodPressure</th>\n",
              "      <th>SkinThickness</th>\n",
              "      <th>Insulin</th>\n",
              "      <th>BMI</th>\n",
              "      <th>DiabetesPedigreeFunction</th>\n",
              "      <th>Age</th>\n",
              "      <th>Outcome</th>\n",
              "    </tr>\n",
              "  </thead>\n",
              "  <tbody>\n",
              "    <tr>\n",
              "      <th>0</th>\n",
              "      <td>6</td>\n",
              "      <td>148</td>\n",
              "      <td>72</td>\n",
              "      <td>35</td>\n",
              "      <td>30.5</td>\n",
              "      <td>33.6</td>\n",
              "      <td>0.627</td>\n",
              "      <td>50</td>\n",
              "      <td>1</td>\n",
              "    </tr>\n",
              "    <tr>\n",
              "      <th>1</th>\n",
              "      <td>1</td>\n",
              "      <td>85</td>\n",
              "      <td>66</td>\n",
              "      <td>29</td>\n",
              "      <td>30.5</td>\n",
              "      <td>26.6</td>\n",
              "      <td>0.351</td>\n",
              "      <td>31</td>\n",
              "      <td>0</td>\n",
              "    </tr>\n",
              "    <tr>\n",
              "      <th>2</th>\n",
              "      <td>8</td>\n",
              "      <td>183</td>\n",
              "      <td>64</td>\n",
              "      <td>23</td>\n",
              "      <td>30.5</td>\n",
              "      <td>23.3</td>\n",
              "      <td>0.672</td>\n",
              "      <td>32</td>\n",
              "      <td>1</td>\n",
              "    </tr>\n",
              "    <tr>\n",
              "      <th>3</th>\n",
              "      <td>1</td>\n",
              "      <td>89</td>\n",
              "      <td>66</td>\n",
              "      <td>23</td>\n",
              "      <td>94.0</td>\n",
              "      <td>28.1</td>\n",
              "      <td>0.167</td>\n",
              "      <td>21</td>\n",
              "      <td>0</td>\n",
              "    </tr>\n",
              "    <tr>\n",
              "      <th>4</th>\n",
              "      <td>0</td>\n",
              "      <td>137</td>\n",
              "      <td>40</td>\n",
              "      <td>35</td>\n",
              "      <td>168.0</td>\n",
              "      <td>43.1</td>\n",
              "      <td>2.288</td>\n",
              "      <td>33</td>\n",
              "      <td>1</td>\n",
              "    </tr>\n",
              "  </tbody>\n",
              "</table>\n",
              "</div>"
            ],
            "text/plain": [
              "   Pregnancies  Glucose  BloodPressure  ...  DiabetesPedigreeFunction  Age  Outcome\n",
              "0            6      148             72  ...                     0.627   50        1\n",
              "1            1       85             66  ...                     0.351   31        0\n",
              "2            8      183             64  ...                     0.672   32        1\n",
              "3            1       89             66  ...                     0.167   21        0\n",
              "4            0      137             40  ...                     2.288   33        1\n",
              "\n",
              "[5 rows x 9 columns]"
            ]
          },
          "metadata": {
            "tags": []
          },
          "execution_count": 11
        }
      ]
    },
    {
      "cell_type": "markdown",
      "metadata": {
        "id": "VkptZyhXDXw4"
      },
      "source": [
        "Ta vẽ Boxplot để xem sau khi replace những giá trị bằng 0 thì đồ thị trông như thế nào"
      ]
    },
    {
      "cell_type": "code",
      "metadata": {
        "id": "EBAUsPyrDhnJ",
        "colab": {
          "base_uri": "https://localhost:8080/",
          "height": 885
        },
        "outputId": "43e605ff-c941-4def-de62-3958e2516bfa"
      },
      "source": [
        "plt.figure(figsize=(20,15))\n",
        "sns.boxplot(data=df,orient = 'h',)"
      ],
      "execution_count": null,
      "outputs": [
        {
          "output_type": "execute_result",
          "data": {
            "text/plain": [
              "<matplotlib.axes._subplots.AxesSubplot at 0x7fc917413ba8>"
            ]
          },
          "metadata": {
            "tags": []
          },
          "execution_count": 12
        },
        {
          "output_type": "display_data",
          "data": {
            "image/png": "[encoded data removed]",
            "text/plain": [
              "<Figure size 1440x1080 with 1 Axes>"
            ]
          },
          "metadata": {
            "tags": []
          }
        }
      ]
    },
    {
      "cell_type": "markdown",
      "metadata": {
        "id": "AkKVkHmzEHPc"
      },
      "source": [
        "Đoạn code bên dưới mô tả việc tính q1, q3, min, max cho cột Insulin. Nhìn vào kết quả của giá trị min và max ta dễ dàng kết luận được:\n",
        "\n",
        "1.   Cột Insulin không có low-outlier\n",
        "2.   Những value lớn hơn 273 là outlier\n",
        "\n"
      ]
    },
    {
      "cell_type": "code",
      "metadata": {
        "id": "kaXHoZeGEIJa",
        "colab": {
          "base_uri": "https://localhost:8080/"
        },
        "outputId": "848dd9da-96b4-47aa-e798-dd177231396d"
      },
      "source": [
        "q1_insulin = np.quantile(df['Insulin'], 0.25, interpolation='midpoint')\n",
        "q3_insulin = np.quantile(df['Insulin'], 0.75, interpolation='midpoint')\n",
        "iqr_insulin = q3_insulin - q1_insulin\n",
        "max_insulin = q3_insulin + 1.5 * iqr_insulin\n",
        "min_insulin = q1_insulin - 1.5 * iqr_insulin\n",
        "min_insulin, max_insulin"
      ],
      "execution_count": null,
      "outputs": [
        {
          "output_type": "execute_result",
          "data": {
            "text/plain": [
              "(-115.0, 273.0)"
            ]
          },
          "metadata": {
            "tags": []
          },
          "execution_count": 13
        }
      ]
    },
    {
      "cell_type": "markdown",
      "metadata": {
        "id": "5pd2UYPOFJNo"
      },
      "source": [
        "**TODOs**\n",
        "\n",
        "*   Thực hiện tương tự với toàn bộ các feature còn lại (trừ Outcome) và kết luận các giá trị outlier của chúng"
      ]
    },
    {
      "cell_type": "code",
      "metadata": {
        "id": "UfJ9ttpSW-nK",
        "colab": {
          "base_uri": "https://localhost:8080/"
        },
        "outputId": "095b0683-2ccc-4b0e-a866-bb564bc4ab43"
      },
      "source": [
        "feature_outlier = ['Pregnancies','Glucose','BloodPressure','SkinThickness','Insulin','BMI','DiabetesPedigreeFunction','Age']\n",
        "for i in feature_outlier :\n",
        "    q1 = np.quantile(df[i], 0.25, interpolation='midpoint')\n",
        "    q3 = np.quantile(df[i], 0.75, interpolation='midpoint')\n",
        "    iqr = q3 - q1\n",
        "    max = q3 + 1.5 * iqr\n",
        "    min = q1 - 1.5 * iqr\n",
        "    print(\"Min {} :{:.3f}\\nMax {}: {:.3f}\\n\".format(i,min,i,max))\n"
      ],
      "execution_count": null,
      "outputs": [
        {
          "output_type": "stream",
          "text": [
            "Min Pregnancies :-6.500\n",
            "Max Pregnancies: 13.500\n",
            "\n",
            "Min Glucose :38.000\n",
            "Max Glucose: 202.000\n",
            "\n",
            "Min BloodPressure :40.000\n",
            "Max BloodPressure: 104.000\n",
            "\n",
            "Min SkinThickness :9.500\n",
            "Max SkinThickness: 45.500\n",
            "\n",
            "Min Insulin :-115.000\n",
            "Max Insulin: 273.000\n",
            "\n",
            "Min BMI :13.850\n",
            "Max BMI: 50.250\n",
            "\n",
            "Min DiabetesPedigreeFunction :-0.331\n",
            "Max DiabetesPedigreeFunction: 1.201\n",
            "\n",
            "Min Age :-1.500\n",
            "Max Age: 66.500\n",
            "\n"
          ],
          "name": "stdout"
        }
      ]
    },
    {
      "cell_type": "markdown",
      "metadata": {
        "id": "rJNqgr_3S3E7"
      },
      "source": [
        "## 12.1.4 [0.5 Point] Feature Scaling & Prepare Dataset"
      ]
    },
    {
      "cell_type": "markdown",
      "metadata": {
        "id": "ESMYVVW3TFzd"
      },
      "source": [
        "**TODOs**\n",
        "* Split data into Train and Test Set\n",
        "  * Test size = 0.3, randomstate = 42, stratify = y\n",
        "* Apply StandardScaler"
      ]
    },
    {
      "cell_type": "markdown",
      "metadata": {
        "id": "J6sywsu2S-2E"
      },
      "source": [
        "## 12.1.5 [2 Points] Train and Evaluate Model"
      ]
    },
    {
      "cell_type": "markdown",
      "metadata": {
        "id": "W7-bN8BVT0Cx"
      },
      "source": [
        "**NOTE:** Đây là bài toán phân loại (Classification)\n",
        "\n",
        "**TODOs**\n",
        "* Dùng sklearn tạo và train các model sau: Support Vector Machine, Decision Tree\n",
        "* Dùng keras tạo và train 1 Deep Neural Network\n",
        "* Sau khi train xong, nhớ evaluate performance của model (hãy thử dùng metric f1_score của sklearn) trên 2 Set (Train / Test)\n",
        "* Vẽ Heatmap - Confusion Matrix cho mỗi model\n",
        "* Kết luận trong những model vừa làm, model nào là tôt nhất và tại sao"
      ]
    },
    {
      "cell_type": "markdown",
      "metadata": {
        "id": "JUgUsns3QHEW"
      },
      "source": [
        "**Prepare Data**"
      ]
    },
    {
      "cell_type": "code",
      "metadata": {
        "id": "szxz2e8nVdyp",
        "colab": {
          "base_uri": "https://localhost:8080/"
        },
        "outputId": "eaf101c0-d0e7-4c5f-ab47-263cf8b8b1e5"
      },
      "source": [
        "X = df.iloc[:,:-1].values\n",
        "y = df['Outcome'].values\n",
        "print(X.shape)\n",
        "print(y.shape)\n",
        "from sklearn.preprocessing import StandardScaler\n",
        "from sklearn.model_selection import train_test_split as tts\n",
        "\n",
        "X_train,X_test,y_train,y_test = tts(X,y, shuffle = True, test_size = 0.3, stratify = y, random_state = 42)\n",
        "print(X_train.shape)\n",
        "print(y_train.shape)\n",
        "print(X_test.shape)\n",
        "print(y_test.shape)"
      ],
      "execution_count": null,
      "outputs": [
        {
          "output_type": "stream",
          "text": [
            "(768, 8)\n",
            "(768,)\n",
            "(537, 8)\n",
            "(537,)\n",
            "(231, 8)\n",
            "(231,)\n"
          ],
          "name": "stdout"
        }
      ]
    },
    {
      "cell_type": "code",
      "metadata": {
        "colab": {
          "base_uri": "https://localhost:8080/"
        },
        "id": "PwZPyXn0PsSQ",
        "outputId": "25a627c6-e11a-48db-c15a-13fa135dca59"
      },
      "source": [
        "print(np.unique(y_train,return_counts=True))\n",
        "print(np.unique(y_test,return_counts=True))"
      ],
      "execution_count": null,
      "outputs": [
        {
          "output_type": "stream",
          "text": [
            "(array([0, 1]), array([350, 187]))\n",
            "(array([0, 1]), array([150,  81]))\n"
          ],
          "name": "stdout"
        }
      ]
    },
    {
      "cell_type": "code",
      "metadata": {
        "id": "CDsaf-Z7Ojuz"
      },
      "source": [
        "#StandardScaler\n",
        "scaler = StandardScaler().fit(X_train)\n",
        "X_train_scaled = scaler.transform(X_train)\n",
        "X_test_scaled  = scaler.transform(X_test)"
      ],
      "execution_count": null,
      "outputs": []
    },
    {
      "cell_type": "markdown",
      "metadata": {
        "id": "joPz168SQAd3"
      },
      "source": [
        "**Train model**"
      ]
    },
    {
      "cell_type": "markdown",
      "metadata": {
        "id": "zAlouLLvRm9J"
      },
      "source": [
        "Support Vector Machine"
      ]
    },
    {
      "cell_type": "code",
      "metadata": {
        "colab": {
          "base_uri": "https://localhost:8080/"
        },
        "id": "Kdl6YJJuP4YL",
        "outputId": "652bc06d-f99f-4ba3-a5d0-730467e06cbe"
      },
      "source": [
        "#Dùng sklearn tạo và train các model sau: Support Vector Machine, Decision Tree\n",
        "from sklearn.svm import SVC\n",
        "\n",
        "model_svm = SVC()\n",
        "model_svm.fit(X_train_scaled,y_train)\n",
        "print(model_svm.score(X_train_scaled,y_train))\n",
        "print(model_svm.score(X_test_scaled,y_test))\n",
        "# Finetune SVC\n",
        "# C_values = [0.01, 0.03, 0.1, 0.3, 1, 3, 10, 30, 100]\n",
        "# gamma_values = [0.01, 0.03, 0.1, 0.3, 1, 3, 10, 30, 100]\n",
        "\n",
        "# rbf_search = {'kernel': ['rbf'], 'gamma': gamma_values, 'C': C_values}\n",
        "\n",
        "# linear_poly_search = {'kernel': ['linear','poly'], 'C': C_values}\n",
        "\n",
        "# param_grid = [rbf_search, linear_poly_search]\n",
        "\n",
        "# from sklearn.model_selection import GridSearchCV\n",
        "\n",
        "# model_svm = SVC()\n",
        "# grid = GridSearchCV(model_svm,param_grid,cv=5)\n",
        "# grid.fit(X_train_scaled,y_train)\n",
        "# print(grid.score(X_train_scaled,y_train))\n",
        "# print(grid.score(X_test_scaled,y_test))"
      ],
      "execution_count": null,
      "outputs": [
        {
          "output_type": "stream",
          "text": [
            "0.8472998137802608\n",
            "0.7359307359307359\n"
          ],
          "name": "stdout"
        }
      ]
    },
    {
      "cell_type": "markdown",
      "metadata": {
        "id": "57hLOZs3RqEH"
      },
      "source": [
        "Decision Tree"
      ]
    },
    {
      "cell_type": "code",
      "metadata": {
        "colab": {
          "base_uri": "https://localhost:8080/"
        },
        "id": "zStr6r90Q3It",
        "outputId": "6f5323f6-f54b-4532-f8da-776b2c0c8697"
      },
      "source": [
        "from sklearn.tree import DecisionTreeClassifier\n",
        "\n",
        "model_decisiontree= DecisionTreeClassifier(criterion = 'entropy', max_depth = 4, random_state = 42)\n",
        "model_decisiontree.fit(X_train_scaled,y_train)\n",
        "print(model_decisiontree.score(X_train_scaled,y_train))\n",
        "print(model_decisiontree.score(X_test_scaled,y_test))"
      ],
      "execution_count": null,
      "outputs": [
        {
          "output_type": "stream",
          "text": [
            "0.7951582867783985\n",
            "0.7229437229437229\n"
          ],
          "name": "stdout"
        }
      ]
    },
    {
      "cell_type": "markdown",
      "metadata": {
        "id": "O5IR4qZMS7AH"
      },
      "source": [
        "Deep Neral Network"
      ]
    },
    {
      "cell_type": "code",
      "metadata": {
        "colab": {
          "base_uri": "https://localhost:8080/"
        },
        "id": "hlbYKohGSYm7",
        "outputId": "b2ef9ab9-dd4f-4a12-86da-e2c2cb1e9576"
      },
      "source": [
        "from tensorflow.keras.models import Sequential\n",
        "from tensorflow.keras.layers import Dense\n",
        "\n",
        "model_mlp = Sequential()\n",
        "model_mlp.add(Dense(100,input_shape= X_train_scaled.shape[1:], activation = 'relu'))\n",
        "model_mlp.add(Dense(20,activation = 'relu'))\n",
        "model_mlp.add(Dense(20,activation = 'relu'))\n",
        "model_mlp.add(Dense(1,activation = 'sigmoid'))\n",
        "model_mlp.compile(loss= 'binary_crossentropy',optimizer = 'adam', metrics = 'accuracy')\n",
        "\n",
        "history = model_mlp.fit(X_train_scaled,y_train,epochs = 100, verbose = 1)"
      ],
      "execution_count": null,
      "outputs": [
        {
          "output_type": "stream",
          "text": [
            "Epoch 1/100\n",
            "17/17 [==============================] - 0s 1ms/step - loss: 0.6670 - accuracy: 0.6220\n",
            "Epoch 2/100\n",
            "17/17 [==============================] - 0s 1ms/step - loss: 0.5929 - accuracy: 0.7263\n",
            "Epoch 3/100\n",
            "17/17 [==============================] - 0s 1ms/step - loss: 0.5274 - accuracy: 0.7486\n",
            "Epoch 4/100\n",
            "17/17 [==============================] - 0s 1ms/step - loss: 0.4861 - accuracy: 0.7616\n",
            "Epoch 5/100\n",
            "17/17 [==============================] - 0s 1ms/step - loss: 0.4614 - accuracy: 0.7803\n",
            "Epoch 6/100\n",
            "17/17 [==============================] - 0s 1ms/step - loss: 0.4484 - accuracy: 0.7877\n",
            "Epoch 7/100\n",
            "17/17 [==============================] - 0s 1ms/step - loss: 0.4401 - accuracy: 0.7952\n",
            "Epoch 8/100\n",
            "17/17 [==============================] - 0s 1ms/step - loss: 0.4329 - accuracy: 0.7970\n",
            "Epoch 9/100\n",
            "17/17 [==============================] - 0s 1ms/step - loss: 0.4268 - accuracy: 0.7933\n",
            "Epoch 10/100\n",
            "17/17 [==============================] - 0s 1ms/step - loss: 0.4230 - accuracy: 0.7933\n",
            "Epoch 11/100\n",
            "17/17 [==============================] - 0s 1ms/step - loss: 0.4167 - accuracy: 0.7970\n",
            "Epoch 12/100\n",
            "17/17 [==============================] - 0s 1ms/step - loss: 0.4138 - accuracy: 0.8026\n",
            "Epoch 13/100\n",
            "17/17 [==============================] - 0s 1ms/step - loss: 0.4092 - accuracy: 0.7970\n",
            "Epoch 14/100\n",
            "17/17 [==============================] - 0s 1ms/step - loss: 0.4028 - accuracy: 0.8082\n",
            "Epoch 15/100\n",
            "17/17 [==============================] - 0s 1ms/step - loss: 0.3993 - accuracy: 0.8063\n",
            "Epoch 16/100\n",
            "17/17 [==============================] - 0s 2ms/step - loss: 0.3979 - accuracy: 0.8101\n",
            "Epoch 17/100\n",
            "17/17 [==============================] - 0s 1ms/step - loss: 0.3913 - accuracy: 0.8063\n",
            "Epoch 18/100\n",
            "17/17 [==============================] - 0s 1ms/step - loss: 0.3861 - accuracy: 0.8175\n",
            "Epoch 19/100\n",
            "17/17 [==============================] - 0s 1ms/step - loss: 0.3824 - accuracy: 0.8175\n",
            "Epoch 20/100\n",
            "17/17 [==============================] - 0s 1ms/step - loss: 0.3793 - accuracy: 0.8250\n",
            "Epoch 21/100\n",
            "17/17 [==============================] - 0s 1ms/step - loss: 0.3723 - accuracy: 0.8231\n",
            "Epoch 22/100\n",
            "17/17 [==============================] - 0s 1ms/step - loss: 0.3685 - accuracy: 0.8250\n",
            "Epoch 23/100\n",
            "17/17 [==============================] - 0s 2ms/step - loss: 0.3616 - accuracy: 0.8287\n",
            "Epoch 24/100\n",
            "17/17 [==============================] - 0s 2ms/step - loss: 0.3583 - accuracy: 0.8361\n",
            "Epoch 25/100\n",
            "17/17 [==============================] - 0s 1ms/step - loss: 0.3505 - accuracy: 0.8399\n",
            "Epoch 26/100\n",
            "17/17 [==============================] - 0s 1ms/step - loss: 0.3450 - accuracy: 0.8492\n",
            "Epoch 27/100\n",
            "17/17 [==============================] - 0s 1ms/step - loss: 0.3372 - accuracy: 0.8529\n",
            "Epoch 28/100\n",
            "17/17 [==============================] - 0s 2ms/step - loss: 0.3336 - accuracy: 0.8547\n",
            "Epoch 29/100\n",
            "17/17 [==============================] - 0s 1ms/step - loss: 0.3269 - accuracy: 0.8585\n",
            "Epoch 30/100\n",
            "17/17 [==============================] - 0s 1ms/step - loss: 0.3244 - accuracy: 0.8696\n",
            "Epoch 31/100\n",
            "17/17 [==============================] - 0s 2ms/step - loss: 0.3173 - accuracy: 0.8641\n",
            "Epoch 32/100\n",
            "17/17 [==============================] - 0s 1ms/step - loss: 0.3085 - accuracy: 0.8659\n",
            "Epoch 33/100\n",
            "17/17 [==============================] - 0s 1ms/step - loss: 0.3046 - accuracy: 0.8678\n",
            "Epoch 34/100\n",
            "17/17 [==============================] - 0s 1ms/step - loss: 0.2979 - accuracy: 0.8734\n",
            "Epoch 35/100\n",
            "17/17 [==============================] - 0s 1ms/step - loss: 0.2940 - accuracy: 0.8790\n",
            "Epoch 36/100\n",
            "17/17 [==============================] - 0s 1ms/step - loss: 0.2864 - accuracy: 0.8715\n",
            "Epoch 37/100\n",
            "17/17 [==============================] - 0s 1ms/step - loss: 0.2799 - accuracy: 0.8752\n",
            "Epoch 38/100\n",
            "17/17 [==============================] - 0s 2ms/step - loss: 0.2779 - accuracy: 0.8808\n",
            "Epoch 39/100\n",
            "17/17 [==============================] - 0s 2ms/step - loss: 0.2692 - accuracy: 0.8827\n",
            "Epoch 40/100\n",
            "17/17 [==============================] - 0s 2ms/step - loss: 0.2654 - accuracy: 0.8734\n",
            "Epoch 41/100\n",
            "17/17 [==============================] - 0s 1ms/step - loss: 0.2637 - accuracy: 0.8808\n",
            "Epoch 42/100\n",
            "17/17 [==============================] - 0s 1ms/step - loss: 0.2557 - accuracy: 0.8920\n",
            "Epoch 43/100\n",
            "17/17 [==============================] - 0s 1ms/step - loss: 0.2514 - accuracy: 0.8827\n",
            "Epoch 44/100\n",
            "17/17 [==============================] - 0s 1ms/step - loss: 0.2454 - accuracy: 0.8901\n",
            "Epoch 45/100\n",
            "17/17 [==============================] - 0s 1ms/step - loss: 0.2331 - accuracy: 0.8976\n",
            "Epoch 46/100\n",
            "17/17 [==============================] - 0s 1ms/step - loss: 0.2308 - accuracy: 0.9050\n",
            "Epoch 47/100\n",
            "17/17 [==============================] - 0s 2ms/step - loss: 0.2242 - accuracy: 0.9069\n",
            "Epoch 48/100\n",
            "17/17 [==============================] - 0s 2ms/step - loss: 0.2166 - accuracy: 0.9069\n",
            "Epoch 49/100\n",
            "17/17 [==============================] - 0s 2ms/step - loss: 0.2142 - accuracy: 0.9218\n",
            "Epoch 50/100\n",
            "17/17 [==============================] - 0s 1ms/step - loss: 0.2101 - accuracy: 0.9199\n",
            "Epoch 51/100\n",
            "17/17 [==============================] - 0s 1ms/step - loss: 0.2054 - accuracy: 0.9218\n",
            "Epoch 52/100\n",
            "17/17 [==============================] - 0s 1ms/step - loss: 0.1980 - accuracy: 0.9274\n",
            "Epoch 53/100\n",
            "17/17 [==============================] - 0s 2ms/step - loss: 0.1938 - accuracy: 0.9255\n",
            "Epoch 54/100\n",
            "17/17 [==============================] - 0s 2ms/step - loss: 0.1831 - accuracy: 0.9330\n",
            "Epoch 55/100\n",
            "17/17 [==============================] - 0s 2ms/step - loss: 0.1817 - accuracy: 0.9348\n",
            "Epoch 56/100\n",
            "17/17 [==============================] - 0s 1ms/step - loss: 0.1748 - accuracy: 0.9404\n",
            "Epoch 57/100\n",
            "17/17 [==============================] - 0s 1ms/step - loss: 0.1906 - accuracy: 0.9274\n",
            "Epoch 58/100\n",
            "17/17 [==============================] - 0s 1ms/step - loss: 0.1728 - accuracy: 0.9367\n",
            "Epoch 59/100\n",
            "17/17 [==============================] - 0s 1ms/step - loss: 0.1634 - accuracy: 0.9404\n",
            "Epoch 60/100\n",
            "17/17 [==============================] - 0s 1ms/step - loss: 0.1569 - accuracy: 0.9441\n",
            "Epoch 61/100\n",
            "17/17 [==============================] - 0s 2ms/step - loss: 0.1513 - accuracy: 0.9534\n",
            "Epoch 62/100\n",
            "17/17 [==============================] - 0s 2ms/step - loss: 0.1547 - accuracy: 0.9404\n",
            "Epoch 63/100\n",
            "17/17 [==============================] - 0s 2ms/step - loss: 0.1493 - accuracy: 0.9423\n",
            "Epoch 64/100\n",
            "17/17 [==============================] - 0s 1ms/step - loss: 0.1451 - accuracy: 0.9516\n",
            "Epoch 65/100\n",
            "17/17 [==============================] - 0s 1ms/step - loss: 0.1419 - accuracy: 0.9534\n",
            "Epoch 66/100\n",
            "17/17 [==============================] - 0s 1ms/step - loss: 0.1476 - accuracy: 0.9497\n",
            "Epoch 67/100\n",
            "17/17 [==============================] - 0s 2ms/step - loss: 0.1344 - accuracy: 0.9572\n",
            "Epoch 68/100\n",
            "17/17 [==============================] - 0s 2ms/step - loss: 0.1281 - accuracy: 0.9609\n",
            "Epoch 69/100\n",
            "17/17 [==============================] - 0s 2ms/step - loss: 0.1196 - accuracy: 0.9665\n",
            "Epoch 70/100\n",
            "17/17 [==============================] - 0s 2ms/step - loss: 0.1182 - accuracy: 0.9628\n",
            "Epoch 71/100\n",
            "17/17 [==============================] - 0s 1ms/step - loss: 0.1139 - accuracy: 0.9665\n",
            "Epoch 72/100\n",
            "17/17 [==============================] - 0s 1ms/step - loss: 0.1144 - accuracy: 0.9702\n",
            "Epoch 73/100\n",
            "17/17 [==============================] - 0s 1ms/step - loss: 0.1154 - accuracy: 0.9646\n",
            "Epoch 74/100\n",
            "17/17 [==============================] - 0s 1ms/step - loss: 0.1025 - accuracy: 0.9739\n",
            "Epoch 75/100\n",
            "17/17 [==============================] - 0s 2ms/step - loss: 0.1053 - accuracy: 0.9758\n",
            "Epoch 76/100\n",
            "17/17 [==============================] - 0s 1ms/step - loss: 0.1043 - accuracy: 0.9702\n",
            "Epoch 77/100\n",
            "17/17 [==============================] - 0s 1ms/step - loss: 0.0952 - accuracy: 0.9721\n",
            "Epoch 78/100\n",
            "17/17 [==============================] - 0s 1ms/step - loss: 0.0934 - accuracy: 0.9814\n",
            "Epoch 79/100\n",
            "17/17 [==============================] - 0s 2ms/step - loss: 0.0936 - accuracy: 0.9777\n",
            "Epoch 80/100\n",
            "17/17 [==============================] - 0s 2ms/step - loss: 0.0903 - accuracy: 0.9758\n",
            "Epoch 81/100\n",
            "17/17 [==============================] - 0s 1ms/step - loss: 0.0822 - accuracy: 0.9814\n",
            "Epoch 82/100\n",
            "17/17 [==============================] - 0s 2ms/step - loss: 0.0861 - accuracy: 0.9795\n",
            "Epoch 83/100\n",
            "17/17 [==============================] - 0s 1ms/step - loss: 0.0779 - accuracy: 0.9814\n",
            "Epoch 84/100\n",
            "17/17 [==============================] - 0s 2ms/step - loss: 0.0815 - accuracy: 0.9870\n",
            "Epoch 85/100\n",
            "17/17 [==============================] - 0s 2ms/step - loss: 0.0711 - accuracy: 0.9851\n",
            "Epoch 86/100\n",
            "17/17 [==============================] - 0s 2ms/step - loss: 0.0673 - accuracy: 0.9907\n",
            "Epoch 87/100\n",
            "17/17 [==============================] - 0s 2ms/step - loss: 0.0807 - accuracy: 0.9739\n",
            "Epoch 88/100\n",
            "17/17 [==============================] - 0s 1ms/step - loss: 0.0766 - accuracy: 0.9777\n",
            "Epoch 89/100\n",
            "17/17 [==============================] - 0s 2ms/step - loss: 0.0757 - accuracy: 0.9739\n",
            "Epoch 90/100\n",
            "17/17 [==============================] - 0s 1ms/step - loss: 0.0717 - accuracy: 0.9814\n",
            "Epoch 91/100\n",
            "17/17 [==============================] - 0s 1ms/step - loss: 0.0625 - accuracy: 0.9926\n",
            "Epoch 92/100\n",
            "17/17 [==============================] - 0s 2ms/step - loss: 0.0546 - accuracy: 0.9926\n",
            "Epoch 93/100\n",
            "17/17 [==============================] - 0s 1ms/step - loss: 0.0506 - accuracy: 0.9944\n",
            "Epoch 94/100\n",
            "17/17 [==============================] - 0s 2ms/step - loss: 0.0494 - accuracy: 0.9963\n",
            "Epoch 95/100\n",
            "17/17 [==============================] - 0s 2ms/step - loss: 0.0494 - accuracy: 0.9926\n",
            "Epoch 96/100\n",
            "17/17 [==============================] - 0s 2ms/step - loss: 0.0492 - accuracy: 0.9926\n",
            "Epoch 97/100\n",
            "17/17 [==============================] - 0s 1ms/step - loss: 0.0472 - accuracy: 0.9926\n",
            "Epoch 98/100\n",
            "17/17 [==============================] - 0s 1ms/step - loss: 0.0447 - accuracy: 0.9944\n",
            "Epoch 99/100\n",
            "17/17 [==============================] - 0s 2ms/step - loss: 0.0406 - accuracy: 0.9963\n",
            "Epoch 100/100\n",
            "17/17 [==============================] - 0s 1ms/step - loss: 0.0393 - accuracy: 0.9963\n"
          ],
          "name": "stdout"
        }
      ]
    },
    {
      "cell_type": "code",
      "metadata": {
        "colab": {
          "base_uri": "https://localhost:8080/"
        },
        "id": "kEPyUT-FU0Oy",
        "outputId": "81d36c17-d8bd-47ca-b6f3-57473fb305c0"
      },
      "source": [
        "print(model_mlp.evaluate(X_train_scaled,y_train))\n",
        "print(model_mlp.evaluate(X_test_scaled,y_test))"
      ],
      "execution_count": null,
      "outputs": [
        {
          "output_type": "stream",
          "text": [
            "17/17 [==============================] - 0s 946us/step - loss: 0.0349 - accuracy: 0.9963\n",
            "[0.03494120016694069, 0.9962756037712097]\n",
            "8/8 [==============================] - 0s 1ms/step - loss: 1.3349 - accuracy: 0.7229\n",
            "[1.3348913192749023, 0.7229437232017517]\n"
          ],
          "name": "stdout"
        }
      ]
    },
    {
      "cell_type": "code",
      "metadata": {
        "colab": {
          "base_uri": "https://localhost:8080/"
        },
        "id": "9UTkSAfHVD9N",
        "outputId": "e5d4e70a-ee13-4412-b93b-9013de967086"
      },
      "source": [
        "# from sklearn.metrics import f1_score\n",
        "models = [model_svm,model_decisiontree,model_mlp]\n",
        "for model in models : \n",
        "    y_pred = model.predict(X_test_scaled)\n",
        "    y_pred = np.where(y_pred>0.5,1,0)\n",
        "    score = f1_score(y_test,y_pred)\n",
        "    print('{:.3f}'.format(score))\n"
      ],
      "execution_count": null,
      "outputs": [
        {
          "output_type": "stream",
          "text": [
            "0.567\n",
            "0.549\n",
            "0.579\n"
          ],
          "name": "stdout"
        }
      ]
    },
    {
      "cell_type": "code",
      "metadata": {
        "colab": {
          "base_uri": "https://localhost:8080/",
          "height": 770
        },
        "id": "GCl-q2llYRbM",
        "outputId": "115611ed-fbfe-4105-a6f0-d1bcc8a1074b"
      },
      "source": [
        "from sklearn.metrics import confusion_matrix\n",
        "\n",
        "models = [model_svm,model_decisiontree,model_mlp]\n",
        "\n",
        "for model in models : \n",
        "    y_pred = model.predict(X_test_scaled)\n",
        "    y_pred = np.where(y_pred>0.5,1,0)\n",
        "    cm = confusion_matrix(y_test,y_pred)\n",
        "    plt.figure(figsize = (4,4))\n",
        "    sns.heatmap(cm,annot = True, cmap ='Blues',fmt = '.1f')"
      ],
      "execution_count": null,
      "outputs": [
        {
          "output_type": "display_data",
          "data": {
            "image/png": "[encoded data removed]",
            "text/plain": [
              "<Figure size 288x288 with 2 Axes>"
            ]
          },
          "metadata": {
            "tags": []
          }
        },
        {
          "output_type": "display_data",
          "data": {
            "image/png": "[encoded data removed]",
            "text/plain": [
              "<Figure size 288x288 with 2 Axes>"
            ]
          },
          "metadata": {
            "tags": []
          }
        },
        {
          "output_type": "display_data",
          "data": {
            "image/png": "[encoded data removed]",
            "text/plain": [
              "<Figure size 288x288 with 2 Axes>"
            ]
          },
          "metadata": {
            "tags": []
          }
        }
      ]
    },
    {
      "cell_type": "markdown",
      "metadata": {
        "id": "g0qKuF8Gc2NU"
      },
      "source": [
        ""
      ]
    },
    {
      "cell_type": "code",
      "metadata": {
        "id": "j3gSSIaIbNr_"
      },
      "source": [
        ""
      ],
      "execution_count": null,
      "outputs": []
    }
  ]
}