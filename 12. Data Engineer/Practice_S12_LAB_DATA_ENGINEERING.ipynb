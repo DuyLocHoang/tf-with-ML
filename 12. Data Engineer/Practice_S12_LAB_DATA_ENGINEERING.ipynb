{
  "nbformat": 4,
  "nbformat_minor": 0,
  "metadata": {
    "colab": {
      "name": "Practice S12_LAB_DATA_ENGINEERING.ipynb",
      "provenance": [],
      "collapsed_sections": []
    },
    "kernelspec": {
      "name": "python3",
      "display_name": "Python 3"
    }
  },
  "cells": [
    {
      "cell_type": "markdown",
      "metadata": {
        "id": "mui1yTp_EdDz"
      },
      "source": [
        "<h1><center>\n",
        "\n",
        "![](https://i.imgur.com/jrRGMfx.png)\n",
        "\n",
        "AI PRACTITIONER COURSE \n",
        "\n",
        "PRACTICE LAB - SESSION 2\n",
        "\n",
        "**&copy; 2019 VTCA-COTAI. Internal Use Only.**\n",
        "\n",
        "</center></h1>"
      ]
    },
    {
      "cell_type": "markdown",
      "metadata": {
        "id": "H-meSMVWs02M"
      },
      "source": [
        "# Excercise 1: Ứng dụng K-Means cho bài toán Phân Nhóm Khách Hàng"
      ]
    },
    {
      "cell_type": "markdown",
      "metadata": {
        "id": "Yt_B9UYv25wu"
      },
      "source": [
        "## **Giới thiệu bài toán ứng dụng K-Mean trong marketing**\n",
        "\n",
        "![](http://vukhuc.000webhostapp.com/cotai/pics/kmean_bike_db_diagram.png)\n",
        "\n",
        "1. Yêu cầu bài toán:\n",
        " - Chúng ta đóng vai trò là doanh nghiệp sản xuất xe đạp, sản xuất 97 loại xe với các phân loại khác nhau. Khách hàng của chúng ta là những đại lý bán lẻ.\n",
        " - Dựa vào dữ liệu lịch sử, phân tích để hiểu những gì đã xảy ra trong quá khứ.\n",
        " - Đưa ra khuyến nghị cho chiến lược kinh doanh sắp tới.\n",
        "2. Ý nghĩa từng table:\n",
        " - Bikes (97,6): thông tin các loại xe đạp\n",
        " - Bikeshops (30,6): thông tin các đại lý (khách hàng mua xe đạp)\n",
        " - Orders (15644,6): đơn hàng bán cho các đại lý (khách hàng mua xe đạp)\n",
        "3. Kết quả đạt được sau khi làm bài lab:\n",
        " - Hiểu được các sử dụng thư viện pandas để xử lý dữ liệu có cấu trúc\n",
        " - Biết sử dụng KMean, tìm k tối ưu và cách visualize dữ liệu bằng seaborn\n",
        " - Biết cách phân tích một bài toán thực tế ở mức độ đơn giản"
      ]
    },
    {
      "cell_type": "code",
      "metadata": {
        "id": "EUFQkW0L-0rx"
      },
      "source": [
        "import pandas as pd\n",
        "import numpy as np\n",
        "import seaborn as sns\n",
        "sns.set()"
      ],
      "execution_count": null,
      "outputs": []
    },
    {
      "cell_type": "markdown",
      "metadata": {
        "id": "NTlJb4kmQe7-"
      },
      "source": [
        "##1. Chuẩn bị dữ liệu"
      ]
    },
    {
      "cell_type": "markdown",
      "metadata": {
        "id": "e-SpL9vT9ym5"
      },
      "source": [
        "**DATASET** \n",
        "https://drive.google.com/drive/folders/1uvi36c1YBXbpEokRMwZzZyaqKasqrCoZ?usp=sharing"
      ]
    },
    {
      "cell_type": "code",
      "metadata": {
        "id": "v7-6U3SyipD_",
        "colab": {
          "base_uri": "https://localhost:8080/"
        },
        "outputId": "269cc83a-450b-4eae-d28d-33827bccd07f"
      },
      "source": [
        "from google.colab import drive\n",
        "drive.mount('/content/drive')\n",
        "%cd '/content/drive/My Drive/Colab Notebooks/S11/kmeans-data'\n"
      ],
      "execution_count": null,
      "outputs": [
        {
          "output_type": "stream",
          "text": [
            "Mounted at /content/drive\n",
            "/content/drive/.shortcut-targets-by-id/1uvi36c1YBXbpEokRMwZzZyaqKasqrCoZ/kmeans-data\n"
          ],
          "name": "stdout"
        }
      ]
    },
    {
      "cell_type": "code",
      "metadata": {
        "id": "G7JcpR8pjHF9",
        "colab": {
          "base_uri": "https://localhost:8080/",
          "height": 153
        },
        "outputId": "211dfb34-df33-4d99-c48c-859d015f2eb0"
      },
      "source": [
        "df_bikes = pd.read_csv('bikes.csv')\n",
        "print(df_bikes.shape)\n",
        "df_bikes.head(3)"
      ],
      "execution_count": null,
      "outputs": [
        {
          "output_type": "stream",
          "text": [
            "(97, 6)\n"
          ],
          "name": "stdout"
        },
        {
          "output_type": "execute_result",
          "data": {
            "text/html": [
              "<div>\n",
              "<style scoped>\n",
              "    .dataframe tbody tr th:only-of-type {\n",
              "        vertical-align: middle;\n",
              "    }\n",
              "\n",
              "    .dataframe tbody tr th {\n",
              "        vertical-align: top;\n",
              "    }\n",
              "\n",
              "    .dataframe thead th {\n",
              "        text-align: right;\n",
              "    }\n",
              "</style>\n",
              "<table border=\"1\" class=\"dataframe\">\n",
              "  <thead>\n",
              "    <tr style=\"text-align: right;\">\n",
              "      <th></th>\n",
              "      <th>bike.id</th>\n",
              "      <th>model</th>\n",
              "      <th>category1</th>\n",
              "      <th>category2</th>\n",
              "      <th>frame</th>\n",
              "      <th>price</th>\n",
              "    </tr>\n",
              "  </thead>\n",
              "  <tbody>\n",
              "    <tr>\n",
              "      <th>0</th>\n",
              "      <td>1</td>\n",
              "      <td>Supersix Evo Black Inc.</td>\n",
              "      <td>Road</td>\n",
              "      <td>Elite Road</td>\n",
              "      <td>Carbon</td>\n",
              "      <td>12790</td>\n",
              "    </tr>\n",
              "    <tr>\n",
              "      <th>1</th>\n",
              "      <td>2</td>\n",
              "      <td>Supersix Evo Hi-Mod Team</td>\n",
              "      <td>Road</td>\n",
              "      <td>Elite Road</td>\n",
              "      <td>Carbon</td>\n",
              "      <td>10660</td>\n",
              "    </tr>\n",
              "    <tr>\n",
              "      <th>2</th>\n",
              "      <td>3</td>\n",
              "      <td>Supersix Evo Hi-Mod Dura Ace 1</td>\n",
              "      <td>Road</td>\n",
              "      <td>Elite Road</td>\n",
              "      <td>Carbon</td>\n",
              "      <td>7990</td>\n",
              "    </tr>\n",
              "  </tbody>\n",
              "</table>\n",
              "</div>"
            ],
            "text/plain": [
              "   bike.id                           model category1   category2   frame  price\n",
              "0        1         Supersix Evo Black Inc.      Road  Elite Road  Carbon  12790\n",
              "1        2        Supersix Evo Hi-Mod Team      Road  Elite Road  Carbon  10660\n",
              "2        3  Supersix Evo Hi-Mod Dura Ace 1      Road  Elite Road  Carbon   7990"
            ]
          },
          "metadata": {
            "tags": []
          },
          "execution_count": 5
        }
      ]
    },
    {
      "cell_type": "markdown",
      "metadata": {
        "id": "CCThwvt1_pGX"
      },
      "source": [
        "**Kiểm tra xem các cột ``category1``, ``category2``, ``frame`` chứa các giá trị gì**\n"
      ]
    },
    {
      "cell_type": "code",
      "metadata": {
        "id": "Yb2wbHTi-_ZP",
        "colab": {
          "base_uri": "https://localhost:8080/"
        },
        "outputId": "f206d30c-2dc0-4369-dfdc-9a11fbeac041"
      },
      "source": [
        "# TODO\n",
        "df_bikes.category1.value_counts()"
      ],
      "execution_count": null,
      "outputs": [
        {
          "output_type": "execute_result",
          "data": {
            "text/plain": [
              "Mountain    51\n",
              "Road        46\n",
              "Name: category1, dtype: int64"
            ]
          },
          "metadata": {
            "tags": []
          },
          "execution_count": 6
        }
      ]
    },
    {
      "cell_type": "code",
      "metadata": {
        "colab": {
          "base_uri": "https://localhost:8080/"
        },
        "id": "uT83pycVDEg-",
        "outputId": "0590ebe7-92f7-45b4-9d52-63aaf974d995"
      },
      "source": [
        "df_bikes.category2.value_counts()"
      ],
      "execution_count": null,
      "outputs": [
        {
          "output_type": "execute_result",
          "data": {
            "text/plain": [
              "Elite Road            21\n",
              "Cross Country Race    19\n",
              "Endurance Road        16\n",
              "Trail                 13\n",
              "Sport                  9\n",
              "Over Mountain          8\n",
              "Triathalon             5\n",
              "Cyclocross             4\n",
              "Fat Bike               2\n",
              "Name: category2, dtype: int64"
            ]
          },
          "metadata": {
            "tags": []
          },
          "execution_count": 7
        }
      ]
    },
    {
      "cell_type": "code",
      "metadata": {
        "colab": {
          "base_uri": "https://localhost:8080/"
        },
        "id": "SSheSEgqDHUO",
        "outputId": "b6904cf7-4e93-4bff-a9da-40a9798632e4"
      },
      "source": [
        "df_bikes.frame.value_counts()"
      ],
      "execution_count": null,
      "outputs": [
        {
          "output_type": "execute_result",
          "data": {
            "text/plain": [
              "Carbon      57\n",
              "Aluminum    40\n",
              "Name: frame, dtype: int64"
            ]
          },
          "metadata": {
            "tags": []
          },
          "execution_count": 8
        }
      ]
    },
    {
      "cell_type": "code",
      "metadata": {
        "id": "vlqI8SG3-9tQ",
        "colab": {
          "base_uri": "https://localhost:8080/",
          "height": 153
        },
        "outputId": "57361bc9-fb8b-4e2a-cded-4b7de74a39a2"
      },
      "source": [
        "df_bikeshops = pd.read_csv('bikeshops.csv')\n",
        "print(df_bikeshops.shape)\n",
        "df_bikeshops.head(3)"
      ],
      "execution_count": null,
      "outputs": [
        {
          "output_type": "stream",
          "text": [
            "(30, 6)\n"
          ],
          "name": "stdout"
        },
        {
          "output_type": "execute_result",
          "data": {
            "text/html": [
              "<div>\n",
              "<style scoped>\n",
              "    .dataframe tbody tr th:only-of-type {\n",
              "        vertical-align: middle;\n",
              "    }\n",
              "\n",
              "    .dataframe tbody tr th {\n",
              "        vertical-align: top;\n",
              "    }\n",
              "\n",
              "    .dataframe thead th {\n",
              "        text-align: right;\n",
              "    }\n",
              "</style>\n",
              "<table border=\"1\" class=\"dataframe\">\n",
              "  <thead>\n",
              "    <tr style=\"text-align: right;\">\n",
              "      <th></th>\n",
              "      <th>bikeshop.id</th>\n",
              "      <th>bikeshop.name</th>\n",
              "      <th>bikeshop.city</th>\n",
              "      <th>bikeshop.state</th>\n",
              "      <th>latitude</th>\n",
              "      <th>longitude</th>\n",
              "    </tr>\n",
              "  </thead>\n",
              "  <tbody>\n",
              "    <tr>\n",
              "      <th>0</th>\n",
              "      <td>1</td>\n",
              "      <td>Pittsburgh Mountain Machines</td>\n",
              "      <td>Pittsburgh</td>\n",
              "      <td>PA</td>\n",
              "      <td>40.440625</td>\n",
              "      <td>-79.995886</td>\n",
              "    </tr>\n",
              "    <tr>\n",
              "      <th>1</th>\n",
              "      <td>2</td>\n",
              "      <td>Ithaca Mountain Climbers</td>\n",
              "      <td>Ithaca</td>\n",
              "      <td>NY</td>\n",
              "      <td>42.443961</td>\n",
              "      <td>-76.501881</td>\n",
              "    </tr>\n",
              "    <tr>\n",
              "      <th>2</th>\n",
              "      <td>3</td>\n",
              "      <td>Columbus Race Equipment</td>\n",
              "      <td>Columbus</td>\n",
              "      <td>OH</td>\n",
              "      <td>39.961176</td>\n",
              "      <td>-82.998794</td>\n",
              "    </tr>\n",
              "  </tbody>\n",
              "</table>\n",
              "</div>"
            ],
            "text/plain": [
              "   bikeshop.id                 bikeshop.name  ...   latitude  longitude\n",
              "0            1  Pittsburgh Mountain Machines  ...  40.440625 -79.995886\n",
              "1            2      Ithaca Mountain Climbers  ...  42.443961 -76.501881\n",
              "2            3       Columbus Race Equipment  ...  39.961176 -82.998794\n",
              "\n",
              "[3 rows x 6 columns]"
            ]
          },
          "metadata": {
            "tags": []
          },
          "execution_count": 9
        }
      ]
    },
    {
      "cell_type": "code",
      "metadata": {
        "id": "ZMUgGaksAdZ1",
        "colab": {
          "base_uri": "https://localhost:8080/",
          "height": 153
        },
        "outputId": "2fcb155e-e537-4f4f-a3fe-4dabfb40956c"
      },
      "source": [
        "df_orders = pd.read_csv('orders.csv',index_col=0)\n",
        "print(df_orders.shape)\n",
        "df_orders.head(3)"
      ],
      "execution_count": null,
      "outputs": [
        {
          "output_type": "stream",
          "text": [
            "(15644, 6)\n"
          ],
          "name": "stdout"
        },
        {
          "output_type": "execute_result",
          "data": {
            "text/html": [
              "<div>\n",
              "<style scoped>\n",
              "    .dataframe tbody tr th:only-of-type {\n",
              "        vertical-align: middle;\n",
              "    }\n",
              "\n",
              "    .dataframe tbody tr th {\n",
              "        vertical-align: top;\n",
              "    }\n",
              "\n",
              "    .dataframe thead th {\n",
              "        text-align: right;\n",
              "    }\n",
              "</style>\n",
              "<table border=\"1\" class=\"dataframe\">\n",
              "  <thead>\n",
              "    <tr style=\"text-align: right;\">\n",
              "      <th></th>\n",
              "      <th>order.id</th>\n",
              "      <th>order.line</th>\n",
              "      <th>order.date</th>\n",
              "      <th>customer.id</th>\n",
              "      <th>product.id</th>\n",
              "      <th>quantity</th>\n",
              "    </tr>\n",
              "  </thead>\n",
              "  <tbody>\n",
              "    <tr>\n",
              "      <th>1</th>\n",
              "      <td>1</td>\n",
              "      <td>1</td>\n",
              "      <td>1/7/2011</td>\n",
              "      <td>2</td>\n",
              "      <td>48</td>\n",
              "      <td>1</td>\n",
              "    </tr>\n",
              "    <tr>\n",
              "      <th>2</th>\n",
              "      <td>1</td>\n",
              "      <td>2</td>\n",
              "      <td>1/7/2011</td>\n",
              "      <td>2</td>\n",
              "      <td>52</td>\n",
              "      <td>1</td>\n",
              "    </tr>\n",
              "    <tr>\n",
              "      <th>3</th>\n",
              "      <td>2</td>\n",
              "      <td>1</td>\n",
              "      <td>1/10/2011</td>\n",
              "      <td>10</td>\n",
              "      <td>76</td>\n",
              "      <td>1</td>\n",
              "    </tr>\n",
              "  </tbody>\n",
              "</table>\n",
              "</div>"
            ],
            "text/plain": [
              "   order.id  order.line order.date  customer.id  product.id  quantity\n",
              "1         1           1   1/7/2011            2          48         1\n",
              "2         1           2   1/7/2011            2          52         1\n",
              "3         2           1  1/10/2011           10          76         1"
            ]
          },
          "metadata": {
            "tags": []
          },
          "execution_count": 10
        }
      ]
    },
    {
      "cell_type": "markdown",
      "metadata": {
        "id": "X-Y2o4cnCQyG"
      },
      "source": [
        "**TODOs**\n",
        "1. Tìm cách dùng hàm ``merge(how='inner')`` của pandas để **join** 3 Dataframe lại với nhau\n"
      ]
    },
    {
      "cell_type": "code",
      "metadata": {
        "id": "tnBiF6u6C4lN",
        "colab": {
          "base_uri": "https://localhost:8080/",
          "height": 750
        },
        "outputId": "cdb00278-bdc9-41d6-f04c-c6042ccb1a9a"
      },
      "source": [
        "results = pd.merge(df_bikes,how = 'inner')\n",
        "# result.head()"
      ],
      "execution_count": null,
      "outputs": [
        {
          "output_type": "stream",
          "text": [
            "ERROR:root:Internal Python error in the inspect module.\n",
            "Below is the traceback from this internal error.\n",
            "\n"
          ],
          "name": "stderr"
        },
        {
          "output_type": "stream",
          "text": [
            "Traceback (most recent call last):\n",
            "  File \"/usr/local/lib/python3.6/dist-packages/IPython/core/interactiveshell.py\", line 2882, in run_code\n",
            "    exec(code_obj, self.user_global_ns, self.user_ns)\n",
            "  File \"<ipython-input-24-afeb0539adcf>\", line 1, in <module>\n",
            "    results = results.merge(df_bikes,how = 'inner')\n",
            "NameError: name 'results' is not defined\n",
            "\n",
            "During handling of the above exception, another exception occurred:\n",
            "\n",
            "Traceback (most recent call last):\n",
            "  File \"/usr/local/lib/python3.6/dist-packages/IPython/core/interactiveshell.py\", line 1823, in showtraceback\n",
            "    stb = value._render_traceback_()\n",
            "AttributeError: 'NameError' object has no attribute '_render_traceback_'\n",
            "\n",
            "During handling of the above exception, another exception occurred:\n",
            "\n",
            "Traceback (most recent call last):\n",
            "  File \"/usr/local/lib/python3.6/dist-packages/IPython/core/ultratb.py\", line 1132, in get_records\n",
            "    return _fixed_getinnerframes(etb, number_of_lines_of_context, tb_offset)\n",
            "  File \"/usr/local/lib/python3.6/dist-packages/IPython/core/ultratb.py\", line 313, in wrapped\n",
            "    return f(*args, **kwargs)\n",
            "  File \"/usr/local/lib/python3.6/dist-packages/IPython/core/ultratb.py\", line 358, in _fixed_getinnerframes\n",
            "    records = fix_frame_records_filenames(inspect.getinnerframes(etb, context))\n",
            "  File \"/usr/lib/python3.6/inspect.py\", line 1490, in getinnerframes\n",
            "    frameinfo = (tb.tb_frame,) + getframeinfo(tb, context)\n",
            "  File \"/usr/lib/python3.6/inspect.py\", line 1448, in getframeinfo\n",
            "    filename = getsourcefile(frame) or getfile(frame)\n",
            "  File \"/usr/lib/python3.6/inspect.py\", line 696, in getsourcefile\n",
            "    if getattr(getmodule(object, filename), '__loader__', None) is not None:\n",
            "  File \"/usr/lib/python3.6/inspect.py\", line 725, in getmodule\n",
            "    file = getabsfile(object, _filename)\n",
            "  File \"/usr/lib/python3.6/inspect.py\", line 709, in getabsfile\n",
            "    return os.path.normcase(os.path.abspath(_filename))\n",
            "  File \"/usr/lib/python3.6/posixpath.py\", line 383, in abspath\n",
            "    cwd = os.getcwd()\n",
            "FileNotFoundError: [Errno 2] No such file or directory\n"
          ],
          "name": "stdout"
        },
        {
          "output_type": "error",
          "ename": "NameError",
          "evalue": "ignored",
          "traceback": [
            "\u001b[0;31m---------------------------------------------------------------------------\u001b[0m"
          ]
        }
      ]
    },
    {
      "cell_type": "code",
      "metadata": {
        "id": "gZAFdU5cBRZk"
      },
      "source": [
        "df_merge = df_merge.groupby(['bikeshop.name','model','category1','category2','frame','price'])['quantity'].agg(quantity='sum').reset_index()\n",
        "print(df_merge.shape)\n",
        "df_merge.head(3)"
      ],
      "execution_count": null,
      "outputs": []
    },
    {
      "cell_type": "markdown",
      "metadata": {
        "id": "NR6dZ5ksRHAN"
      },
      "source": [
        "##2. Viết các hàm tiện ích  "
      ]
    },
    {
      "cell_type": "code",
      "metadata": {
        "id": "OtS0IGv7ZG6A"
      },
      "source": [
        "from sklearn.cluster import KMeans\n",
        "from sklearn.metrics import silhouette_score\n",
        "from yellowbrick.cluster import SilhouetteVisualizer\n",
        "from scipy.spatial.distance import cdist\n",
        "import matplotlib.pyplot as plt\n",
        "\n",
        "def apply_kmeans(X, k):\n",
        "  kmeans = KMeans(n_clusters = k).fit(X)\n",
        "  pred = kmeans.labels_\n",
        "  return pd.concat([X,pd.DataFrame({'index':X.index,'cluster':pred}).set_index('index')], axis=1)\n",
        "\n",
        "def plot_silhouette(X, max_k, axs):\n",
        "  sil = []\n",
        "  K=range(2, max_k)\n",
        "  for k in K:\n",
        "    kmeans = KMeans(n_clusters = k).fit(X)\n",
        "    labels = kmeans.labels_\n",
        "    sil.append(silhouette_score(X, labels, metric = 'euclidean'))\n",
        "  # Plot the silhouette_score\n",
        "  axs.plot(K, sil)\n",
        "  axs.set_xlabel('k')\n",
        "  axs.set_ylabel('silhouette score')\n",
        "  axs.set_title('Silhouette Method')\n",
        "\n",
        "def plot_elbow(X,n_MaxK,axs):\n",
        "  K=range(1,n_MaxK)\n",
        "  W = []\n",
        "  for k in K:\n",
        "    kmeans = KMeans(n_clusters = k).fit(X)\n",
        "    W.append(kmeans.inertia_)\n",
        "  # Plot the elbow\n",
        "  axs.plot(K, W)\n",
        "  axs.set_xlabel('k')\n",
        "  axs.set_ylabel('Inertia')\n",
        "  axs.set_title('Elbow Method')\n",
        "\n",
        "def silhouette_image(X, min_k=2, max_k=10):\n",
        "  fig, ax = plt.subplots(max_k-min_k+1, 1, figsize=(8,int(max_k * 4)))\n",
        "  for i in range(min_k, max_k+1):\n",
        "    ax[i-min_k].grid(False)\n",
        "    ax[i-min_k].get_yaxis().set_visible(False)\n",
        "    km = KMeans(n_clusters=i, random_state=42)\n",
        "    visualizer = SilhouetteVisualizer(km, colors='yellowbrick', ax=ax[i-min_k])\n",
        "    visualizer.fit(X)"
      ],
      "execution_count": null,
      "outputs": []
    },
    {
      "cell_type": "code",
      "metadata": {
        "id": "hoyNi5GPffCy"
      },
      "source": [
        "fig, (ax1, ax2) = plt.subplots(1, 2, figsize=(15,5))\n",
        "fig.suptitle('Optimal k')\n",
        "plot_silhouette(df_merge[['price']], 10, ax1)\n",
        "plot_elbow(df_merge[['price']], 10, ax2)"
      ],
      "execution_count": null,
      "outputs": []
    },
    {
      "cell_type": "code",
      "metadata": {
        "id": "l6bjFV2fsJNv"
      },
      "source": [
        "silhouette_image(df_merge[['price']],2,5)"
      ],
      "execution_count": null,
      "outputs": []
    },
    {
      "cell_type": "markdown",
      "metadata": {
        "id": "QTLrIvvKRR4v"
      },
      "source": [
        "##3. Thử phân cụm theo giá sản phẩm"
      ]
    },
    {
      "cell_type": "code",
      "metadata": {
        "id": "NHMRKJ4etVgG"
      },
      "source": [
        "df=df_merge.copy(True)\n",
        "df_price_temp = apply_kmeans(df[['price']], 2)\n",
        "df_price_temp.head()"
      ],
      "execution_count": null,
      "outputs": []
    },
    {
      "cell_type": "code",
      "metadata": {
        "id": "pjbQISyWt9Uy"
      },
      "source": [
        "# TODO\n",
        "# 1. Tim cach in ra cac gia tri min, max trong df_price_temp theo tung cluster"
      ],
      "execution_count": null,
      "outputs": []
    },
    {
      "cell_type": "code",
      "metadata": {
        "id": "zbsjM97ThdCu"
      },
      "source": [
        "df['price'] = pd.cut(df_price_temp.price,bins=[415,4800,12790])\n",
        "# df['price'] = pd.qcut(df_price_temp.price,2)\n",
        "df['price'].astype(str)\n",
        "df"
      ],
      "execution_count": null,
      "outputs": []
    },
    {
      "cell_type": "markdown",
      "metadata": {
        "id": "rGidRtKGRlZ8"
      },
      "source": [
        "##4. Transform dữ liệu để KMean"
      ]
    },
    {
      "cell_type": "code",
      "metadata": {
        "id": "x1ikW58vu8Ya"
      },
      "source": [
        "df_t = pd.pivot_table(df, index=['model','category1','category2','frame','price'], columns=['bikeshop.name'], values=['quantity'])\n",
        "df_t = df_t.reset_index()\n",
        "df_t"
      ],
      "execution_count": null,
      "outputs": []
    },
    {
      "cell_type": "code",
      "metadata": {
        "id": "H1HKxYjOh6I2"
      },
      "source": [
        "df_t.drop(columns=['model','category1','category2','frame','price'],inplace=True)\n",
        "df_t"
      ],
      "execution_count": null,
      "outputs": []
    },
    {
      "cell_type": "markdown",
      "metadata": {
        "id": "6d9JZIIrSKM2"
      },
      "source": [
        "## 5. Xử lý missing value và scale dữ liệu"
      ]
    },
    {
      "cell_type": "code",
      "metadata": {
        "id": "VZi6_7FxKIr8"
      },
      "source": [
        "# TODO\n",
        "# Tim cach fill cac gia tri NaN bang 0\n",
        "# Apply StandardScaler\n",
        "\n",
        "\n",
        "df_k = df_t.T.reset_index().drop(columns=['level_0'], axis=1).set_index('bikeshop.name')"
      ],
      "execution_count": null,
      "outputs": []
    },
    {
      "cell_type": "markdown",
      "metadata": {
        "id": "yN9aNPEFSWhN"
      },
      "source": [
        "## 7. Tìm số cụm tối ưu và phân cụm\n"
      ]
    },
    {
      "cell_type": "markdown",
      "metadata": {
        "id": "AC3RkVRo0asQ"
      },
      "source": [
        "### 7.1 Tìm số cụm tối ưu"
      ]
    },
    {
      "cell_type": "code",
      "metadata": {
        "id": "-byW9Ue7Ikk6"
      },
      "source": [
        "fig, (ax1, ax2) = plt.subplots(1, 2, figsize=(15,5))\n",
        "fig.suptitle('Optimal k')\n",
        "plot_silhouette(df_k,30,ax1)\n",
        "plot_elbow(df_k,30,ax2)"
      ],
      "execution_count": null,
      "outputs": []
    },
    {
      "cell_type": "markdown",
      "metadata": {
        "id": "Oq9DtiProvpI"
      },
      "source": [
        "### 7.2 Thực hiện phân cụm"
      ]
    },
    {
      "cell_type": "code",
      "metadata": {
        "id": "0UqWLoPXLqUj"
      },
      "source": [
        "df_r = apply_kmeans(df_k, 3)['cluster'].reset_index()\n",
        "df_r.sort_values(by='cluster')"
      ],
      "execution_count": null,
      "outputs": []
    },
    {
      "cell_type": "markdown",
      "metadata": {
        "id": "ZfFqoP8-o052"
      },
      "source": [
        "### 7.3 Vẽ thử các cửa hàng về vị trí địa lý và giá trị cụm của nó\n",
        "- Chúng ta phân cụm theo số lượng sản phẩm mà của hàng mua nên phân cụm này về lý thuyết sẽ không liên quan đến vị trí địa lý của cửa hàng"
      ]
    },
    {
      "cell_type": "code",
      "metadata": {
        "id": "BC6vbFkDj7Lr"
      },
      "source": [
        "na_loc = pd.merge(df_bikeshops,df_r, how='right',right_on='index', left_on='bikeshop.name')\n",
        "sns.scatterplot(data=na_loc,x='latitude',y='longitude',hue='cluster')\n",
        "# na_loc.columns\n"
      ],
      "execution_count": null,
      "outputs": []
    },
    {
      "cell_type": "markdown",
      "metadata": {
        "id": "PToQUKB9Sqp_"
      },
      "source": [
        "## 8. Ghép dữ liệu sau khi phân cụm với dữ liệu ban đầu"
      ]
    },
    {
      "cell_type": "code",
      "metadata": {
        "id": "HEnSSR8YjcIl"
      },
      "source": [
        "df_c = pd.merge(df,df_r,how='left',left_on='bikeshop.name', right_on='index')\n",
        "df_c"
      ],
      "execution_count": null,
      "outputs": []
    },
    {
      "cell_type": "markdown",
      "metadata": {
        "id": "uUsFrKTKQKNi"
      },
      "source": [
        "## 9. Plot dữ liệu sau khi phân cụm để hiểu rõ hơn từng cụm (dán nhãn cho từng cụm)"
      ]
    },
    {
      "cell_type": "code",
      "metadata": {
        "id": "71RZJBfbsoTN"
      },
      "source": [
        "sns.catplot(data=df_c,x='category1', y='quantity', col='frame', kind='bar',hue='cluster',ci=None)"
      ],
      "execution_count": null,
      "outputs": []
    },
    {
      "cell_type": "code",
      "metadata": {
        "id": "_HaaJ_CZZFYj"
      },
      "source": [
        "filter = (df_c['category1'] == 'Mountain') & (df_c['frame']=='Aluminum')\n",
        "df_c[filter].sort_values(by=['quantity','cluster'],ascending=False).head(50)"
      ],
      "execution_count": null,
      "outputs": []
    },
    {
      "cell_type": "code",
      "metadata": {
        "id": "6PcsKqTIQ4s-"
      },
      "source": [
        "g=sns.catplot(data=df_c,x='index',y='quantity', col='cluster', kind='bar',hue='frame',ci=None,sharex=False,margin_titles=True)\n",
        "temp=[plt.setp(ax.get_xticklabels(), rotation=90) for ax in g.axes.flat]"
      ],
      "execution_count": null,
      "outputs": []
    },
    {
      "cell_type": "code",
      "metadata": {
        "id": "DMeBzp80Keac"
      },
      "source": [
        "g=sns.catplot(data=df_c,x='category2',y='quantity',hue='category1',col='cluster', row='frame',kind='bar',ci=False, sharex=False, margin_titles=True,)\n",
        "# g=sns.catplot(data=df_c,x='category2',y='quantity', col='frame', kind='bar',hue='cluster',ci=None, height=10)\n",
        "temp=[plt.setp(ax.get_xticklabels(), rotation=90) for ax in g.axes.flat]\n",
        "g.fig.tight_layout()\n"
      ],
      "execution_count": null,
      "outputs": []
    },
    {
      "cell_type": "code",
      "metadata": {
        "id": "0tJoiBocs5kU"
      },
      "source": [
        "g = sns.catplot(data=df_c,x='category2',y='quantity', col='category1', row='frame', kind='bar',hue='cluster', sharex=False, margin_titles=True,ci=None)\n",
        "temp=[plt.setp(ax.get_xticklabels(), rotation=90) for ax in g.axes.flat]\n",
        "g.fig.tight_layout()\n"
      ],
      "execution_count": null,
      "outputs": []
    },
    {
      "cell_type": "markdown",
      "metadata": {
        "id": "_5t7roxvBuxc"
      },
      "source": [
        "# Excercise 2: Data engineering with Titanic Dataset"
      ]
    },
    {
      "cell_type": "markdown",
      "metadata": {
        "id": "NJsWih7n0Pxc"
      },
      "source": [
        "**DATASET LINK** https://drive.google.com/drive/folders/1C8kZeA0_kwlQG2Oxd3pPqI4I34Fikogi?usp=sharing"
      ]
    },
    {
      "cell_type": "markdown",
      "metadata": {
        "_uuid": "20c66c96b3cf0abd94f514e362a80a084b9ac562",
        "id": "iVMtPCvR7G_i"
      },
      "source": [
        "\n",
        "## Machine Learning Workflow\n",
        "\n",
        "1. Define Problem\n",
        "1. Specify Inputs & Outputs\n",
        "1. Exploratory Data Analysis\n",
        "1. Data Collection\n",
        "1. Data Preprocessing\n",
        "1. Data Cleaning\n",
        "1. Visualization\n",
        "1. Model Design, Training, and Offline Evaluation\n",
        "1. Model Deployment, Online Evaluation, and Monitoring\n",
        "1. Model Maintenance, Diagnosis, and Retraining\n"
      ]
    },
    {
      "cell_type": "markdown",
      "metadata": {
        "_uuid": "1bef8401fc30b062fd63af4dc5a8cb6a0e1e7cad",
        "id": "kPHUUBan7G_q"
      },
      "source": [
        "## Các đặc trưng của tập dữ liệu\n",
        "Tàu Titanic bị đắm vào **15 tháng 4 năm 1912**, làm chết **1502 / 2224** hành khách và thủy thủ\n",
        "\n",
        "Trong tập dữ liệu về tàu Titanic này, chúng ta sẽ có **12 đặc trưng như sau**:\n",
        "\n",
        "Variable | Name\tDescription \n",
        "--- | --- \n",
        "Survived |\tSurvived (1) or died (0)\n",
        "Pclass |\tPassenger's class\n",
        "Name\t| Passenger's name\n",
        "Sex\t| Passenger's sex\n",
        "Age\t| Passenger's age\n",
        "SibSp\t| Number of siblings/spouses aboard\n",
        "Parch\t| Number of parents/children aboard\n",
        "Ticket\t| Ticket number\n",
        "Fare\t| Fare\n",
        "Cabin\t| Cabin\n",
        "Embarked\t| Port of embarkation\n",
        "\n",
        "Chi tiết: https://www.kaggle.com/c/titanic/data\n",
        "\n"
      ]
    },
    {
      "cell_type": "code",
      "metadata": {
        "_cell_guid": "b1076dfc-b9ad-4769-8c92-a6c4dae69d19",
        "_kg_hide-input": true,
        "_uuid": "8f2839f25d086af736a60e9eeb907d3b93b6e0e5",
        "id": "9j_RmvVt7HAS"
      },
      "source": [
        "import warnings\n",
        "import json\n",
        "import sys\n",
        "import csv\n",
        "import os\n",
        "\n",
        "\n",
        "import pandas as pd\n",
        "\n",
        "import matplotlib as mpl\n",
        "import matplotlib.pyplot as plt\n",
        "import seaborn as sns\n",
        "\n",
        "import scipy\n",
        "import numpy as np\n",
        "np.random.seed(1612)"
      ],
      "execution_count": null,
      "outputs": []
    },
    {
      "cell_type": "code",
      "metadata": {
        "_kg_hide-input": true,
        "_uuid": "cb7e4af0977f267f0055ef6c7b9d7081cbaeb889",
        "id": "FVIYJfS37HBJ"
      },
      "source": [
        "sns.set(style='white', context='notebook', palette='deep')\n",
        "warnings.filterwarnings('ignore')\n",
        "mpl.style.use('ggplot')\n",
        "sns.set_style('white')\n",
        "%matplotlib inline"
      ],
      "execution_count": null,
      "outputs": []
    },
    {
      "cell_type": "code",
      "metadata": {
        "id": "Y4_EMOuTOA5i"
      },
      "source": [
        "from google.colab import drive\n",
        "drive.mount('/content/drive')"
      ],
      "execution_count": null,
      "outputs": []
    },
    {
      "cell_type": "markdown",
      "metadata": {
        "_uuid": "04ff1a533119d589baee777c21194a951168b0c7",
        "id": "a4JKE33_7HBP"
      },
      "source": [
        "## Exploratory Data Analysis(EDA)\n",
        "*   Data Collection\n",
        "*   Visualization\n",
        "*   Data Preprocessing\n",
        "*   Data Cleaning\n",
        "\n",
        "<img src=\"http://s9.picofile.com/file/8338476134/EDA.png\">"
      ]
    },
    {
      "cell_type": "markdown",
      "metadata": {
        "_uuid": "cedecea930b278f86292367cc28d2996a235a169",
        "id": "63zD-4ME7HBQ"
      },
      "source": [
        "## Data Collection\n",
        "Đây là quá trình thu thập bất kì dữ liệu nào đáng chú ý, có tiềm năng giải đáp vấn đầ của chúng ta."
      ]
    },
    {
      "cell_type": "code",
      "metadata": {
        "_kg_hide-input": true,
        "_uuid": "9269ae851b744856bce56840637030a16a5877e1",
        "id": "-kVIMEM27HBT"
      },
      "source": [
        "df_train = pd.read_csv('/content/drive/My Drive/COTAI_Training/12. DataEngineer/titanic/train.csv')\n",
        "df_train.head()"
      ],
      "execution_count": null,
      "outputs": []
    },
    {
      "cell_type": "code",
      "metadata": {
        "id": "bGPuf5KTS049"
      },
      "source": [
        "df_test= pd.read_csv('/content/drive/My Drive/COTAI_Training/12. DataEngineer/titanic/test.csv')\n",
        "df_test.head()"
      ],
      "execution_count": null,
      "outputs": []
    },
    {
      "cell_type": "markdown",
      "metadata": {
        "_uuid": "58ed9c838069f54de5cf90b20a774c3e236149b3",
        "id": "dyTQR5Q47HBY"
      },
      "source": [
        "><font color=\"red\"><b>Note: </b></font>\n",
        "\n",
        "* Cách gọi khác của 1 dòng **dòng**: observation, sample, example, instance, record\n",
        "* Cách gọi khác của 1 **cột**: feature, attribute"
      ]
    },
    {
      "cell_type": "markdown",
      "metadata": {
        "id": "6XaUbZMOPpsi"
      },
      "source": [
        "Cách xem ngẫu nhiên một vài dòng trong tập dữ liệu"
      ]
    },
    {
      "cell_type": "code",
      "metadata": {
        "id": "W2J_MXVAPwZ7"
      },
      "source": [
        "df_train.sample(5) "
      ],
      "execution_count": null,
      "outputs": []
    },
    {
      "cell_type": "markdown",
      "metadata": {
        "id": "QnYfm4lRP6E8"
      },
      "source": [
        "Xem qua thống kê sơ bộ của các cột bằng describe()"
      ]
    },
    {
      "cell_type": "code",
      "metadata": {
        "id": "QEj3o-9cP6_S"
      },
      "source": [
        "df_train.describe() "
      ],
      "execution_count": null,
      "outputs": []
    },
    {
      "cell_type": "markdown",
      "metadata": {
        "_uuid": "055772bd170aa8018aabd85106b76675802c33b3",
        "id": "w1FXIedg7HBp"
      },
      "source": [
        "\n",
        "## Visualization\n"
      ]
    },
    {
      "cell_type": "markdown",
      "metadata": {
        "id": "p84M9RT_PC6Y"
      },
      "source": [
        "**Lọc ra những giá trị có thể xuất hiện trong từng cột**"
      ]
    },
    {
      "cell_type": "code",
      "metadata": {
        "id": "-ftHgWGETz8j"
      },
      "source": [
        "# TODO\n",
        "# 1. Print out all unique values\n",
        "\n"
      ],
      "execution_count": null,
      "outputs": []
    },
    {
      "cell_type": "markdown",
      "metadata": {
        "id": "Zgek1BflPVvf"
      },
      "source": [
        "**Đếm số lượng unique value**"
      ]
    },
    {
      "cell_type": "code",
      "metadata": {
        "id": "z8pM-kcXPZM9"
      },
      "source": [
        "# TODO"
      ],
      "execution_count": null,
      "outputs": []
    },
    {
      "cell_type": "markdown",
      "metadata": {
        "id": "5CkEbmyq2aF9"
      },
      "source": [
        "### Count Plot"
      ]
    },
    {
      "cell_type": "markdown",
      "metadata": {
        "id": "lCAWG2hSz-07"
      },
      "source": [
        "**Survived vs Sex**"
      ]
    },
    {
      "cell_type": "code",
      "metadata": {
        "id": "e6VaVNI-TTWs"
      },
      "source": [
        "plt.figure(figsize=(15,5))\n",
        "\n",
        "plt.subplot(1,3,1)\n",
        "sns.countplot(df_train.Sex)\n",
        "plt.title('Count plot for Sex')\n",
        "\n",
        "plt.subplot(1,3,2)\n",
        "sns.countplot(df_train.Survived)\n",
        "plt.title('Number of passenger Survived')\n",
        "\n",
        "plt.subplot(1,3,3)\n",
        "sns.countplot(x=\"Survived\", hue=\"Sex\", data=df_train)\n",
        "plt.title('Number of passenger Survived')"
      ],
      "execution_count": null,
      "outputs": []
    },
    {
      "cell_type": "markdown",
      "metadata": {
        "id": "nnMQBPtC0HmK"
      },
      "source": [
        "**Survived vs Pclass**"
      ]
    },
    {
      "cell_type": "code",
      "metadata": {
        "id": "L7FH1vawzy4O"
      },
      "source": [
        "# TODO"
      ],
      "execution_count": null,
      "outputs": []
    },
    {
      "cell_type": "markdown",
      "metadata": {
        "_uuid": "b0014a7a52e714996bc443981c853095926d20e5",
        "id": "yn1lgNPq7HBq"
      },
      "source": [
        "### Scatter Plot\n",
        "\n",
        "[Scatter plot](https://en.wikipedia.org/wiki/Scatter_plot) Xác định quan hệ giữa 2 đặc trưng.\n",
        "\n"
      ]
    },
    {
      "cell_type": "markdown",
      "metadata": {
        "id": "uzxhoFx3mE3a"
      },
      "source": [
        "**Survived vs Pclass vs Fare vs Age**"
      ]
    },
    {
      "cell_type": "code",
      "metadata": {
        "_kg_hide-input": true,
        "_uuid": "af099546eed64ebc796403d4139cb4c977c27b03",
        "id": "8PopSalL7HB0"
      },
      "source": [
        "#https://seaborn.pydata.org/generated/seaborn.FacetGrid.html\n",
        "\n",
        "g = sns.FacetGrid(df_train, hue=\"Survived\", col=\"Pclass\", margin_titles=True,\n",
        "                  palette={1:\"seagreen\", 0:\"gray\"}) \n",
        "g=g.map(plt.scatter, \"Fare\", \"Age\", edgecolor=\"w\").add_legend();"
      ],
      "execution_count": null,
      "outputs": []
    },
    {
      "cell_type": "markdown",
      "metadata": {
        "id": "GTwlWR5VmUb-"
      },
      "source": [
        "**Survived vs Pclass vs SibSp vs Parch**"
      ]
    },
    {
      "cell_type": "code",
      "metadata": {
        "id": "CqXN4eoW31ZH"
      },
      "source": [
        "# TODO"
      ],
      "execution_count": null,
      "outputs": []
    },
    {
      "cell_type": "markdown",
      "metadata": {
        "_uuid": "d1c7b62b5f8cba427bca13049256365141655372",
        "id": "st7R7FYW7HCJ"
      },
      "source": [
        "\n",
        "### Box\n",
        "Box là phương pháp mô ta dữ liệu số thông qua những phần tư của chúng.\n",
        "Chi tiết: \n",
        "- https://www.khanacademy.org/math/statistics-probability/summarizing-quantitative-data/box-whisker-plots/a/box-plot-review\n",
        "- https://www.khanacademy.org/math/statistics-probability/summarizing-quantitative-data/box-whisker-plots/a/identifying-outliers-iqr-rule\n",
        "<img src=\"https://miro.medium.com/max/13500/1*2c21SkzJMf3frPXPAR_gZA.png\">\n"
      ]
    },
    {
      "cell_type": "markdown",
      "metadata": {
        "id": "Rcv8QRneI1pf"
      },
      "source": [
        "**Example**\n",
        "\n",
        "![boxplot](https://i.imgur.com/Mcw6vXv.png)"
      ]
    },
    {
      "cell_type": "code",
      "metadata": {
        "_kg_hide-input": true,
        "_uuid": "7b193e4aa7e6fb337d3f65c334849094addd097a",
        "id": "mbP7WkE17HCL"
      },
      "source": [
        "ax= sns.boxplot(x=\"Pclass\", y=\"Age\", data=df_train)\n",
        "plt.show()"
      ],
      "execution_count": null,
      "outputs": []
    },
    {
      "cell_type": "markdown",
      "metadata": {
        "_uuid": "743a92c3c2fff1a1f99845518247f7971ad18b7c",
        "id": "pzLreWJY7HCQ"
      },
      "source": [
        "\n",
        "### Histogram"
      ]
    },
    {
      "cell_type": "code",
      "metadata": {
        "_kg_hide-input": true,
        "_uuid": "5da0520ed3e738ee8814b2d91843ed4acec2b6e6",
        "id": "GdR2nt4c7HCR"
      },
      "source": [
        "# histograms\n",
        "df_train.hist(figsize=(15,10),bins=40)\n",
        "plt.figure()"
      ],
      "execution_count": null,
      "outputs": []
    },
    {
      "cell_type": "markdown",
      "metadata": {
        "id": "NiQ7RSPQNOrF"
      },
      "source": [
        "### Correlation Heatmap"
      ]
    },
    {
      "cell_type": "code",
      "metadata": {
        "id": "4Pgg-RdCNQxO"
      },
      "source": [
        "# TODO\n",
        "# 1. Find correlation matrix using df.corr()\n",
        "# 2. Plot heatmap\n"
      ],
      "execution_count": null,
      "outputs": []
    },
    {
      "cell_type": "markdown",
      "metadata": {
        "_uuid": "91dda1f631cf4ed362162501aaaac6d19cfd6cc7",
        "id": "DGYJCxIk7HFY"
      },
      "source": [
        "## Data Preprocessing\n",
        "**Data preprocessing** là kĩ thuật chuẩn hóa, làm sạch dữ liệu trước khi đưa vào thuật toán.\n",
        "Một vài bước tiêu biểu của Data preprocessing:\n",
        "* Xử lý dữ liệu không cân bằng\n",
        "* Xử lý dữ liệu bị thiếu\n",
        "* Xử lý nhiễu (https://towardsdatascience.com/ways-to-detect-and-remove-the-outliers-404d16608dba)\n",
        "* Chuẩn hóa dữ liệu (https://medium.com/@urvashilluniya/why-data-normalization-is-necessary-for-machine-learning-models-681b65a05029)\n",
        "* Chọn lọc đặc trưng (https://medium.com/analytics-vidhya/feature-selection-using-scikit-learn-5b4362e0c19b)"
      ]
    },
    {
      "cell_type": "markdown",
      "metadata": {
        "_uuid": "581b90e6a869c3793472c7edd59091d6d6342fb2",
        "id": "Jy-9EZ6y7HFZ"
      },
      "source": [
        " ## Types of features\n",
        "Features:\n",
        "* số \n",
        "* theo từng mục (category)\n",
        "* ngày tháng (datetime)\n",
        "\n",
        "### Hãy xác định dạng đặc trưng trong tập dữ liệu:\n"
      ]
    },
    {
      "cell_type": "code",
      "metadata": {
        "id": "wo0-9NzAMezn"
      },
      "source": [
        "# TODO\n",
        "# 1. check data type of each columns\n"
      ],
      "execution_count": null,
      "outputs": []
    },
    {
      "cell_type": "markdown",
      "metadata": {
        "_uuid": "73ab30f86273b590a51fc363d9bf78c2709558fa",
        "id": "-y4rapQG7HFa"
      },
      "source": [
        "## Data exploration"
      ]
    },
    {
      "cell_type": "code",
      "metadata": {
        "_kg_hide-input": true,
        "_uuid": "4b45251be7be77333051fe738639104ae1005fa5",
        "id": "BIfxVarS7HFd"
      },
      "source": [
        "# shape\n",
        "print(df_train.shape)"
      ],
      "execution_count": null,
      "outputs": []
    },
    {
      "cell_type": "markdown",
      "metadata": {
        "_uuid": "a6315bf510cecb907b2d23aad25faf6ccad32ac4",
        "id": "B43NqHRJ7HF1"
      },
      "source": [
        ">  <font color=\"red\"><b>Note:</b></font>\n",
        "how many NA elements in every column\n"
      ]
    },
    {
      "cell_type": "code",
      "metadata": {
        "id": "mjlAG0SfB4Ke"
      },
      "source": [
        "df_train.isnull()"
      ],
      "execution_count": null,
      "outputs": []
    },
    {
      "cell_type": "code",
      "metadata": {
        "id": "GJaC8zNrOWTF"
      },
      "source": [
        "# TODO \n",
        "# 1. Check null on df_train and df_test"
      ],
      "execution_count": null,
      "outputs": []
    },
    {
      "cell_type": "markdown",
      "metadata": {
        "id": "tZ2xcb2QQtu5"
      },
      "source": [
        "**Xóa cột**"
      ]
    },
    {
      "cell_type": "code",
      "metadata": {
        "id": "633VeukQQvvN"
      },
      "source": [
        "# TODO\n",
        "# 1. Drop 4 columns Embarked, PassengerId, Cabin, Ticket\n"
      ],
      "execution_count": null,
      "outputs": []
    },
    {
      "cell_type": "markdown",
      "metadata": {
        "_uuid": "414a457068cc1e0390f7be45ad85cab0cab3cb72",
        "id": "hiUbTh1q7HGF"
      },
      "source": [
        "**Xóa những dòng có giá trị NA**"
      ]
    },
    {
      "cell_type": "code",
      "metadata": {
        "_kg_hide-input": true,
        "_uuid": "e8e124ca20643ad307d9bfdc34328d548c6ddcbc",
        "id": "83GuMdZ-7HGH"
      },
      "source": [
        "# remove rows that have NA's\n",
        "df_test['Fare'] = df_test['Fare'].dropna()"
      ],
      "execution_count": null,
      "outputs": []
    },
    {
      "cell_type": "markdown",
      "metadata": {
        "id": "EmpYbhRdNIHB"
      },
      "source": [
        "**Replace giá trị NA bằng giá trị khác**"
      ]
    },
    {
      "cell_type": "code",
      "metadata": {
        "id": "DlkJaRCnNHz6"
      },
      "source": [
        "df_train.loc[df_train.Age.isnull(), 'Age'] = df_train.groupby(\"Pclass\").Age.transform('median')\n",
        "\n",
        "df_test.loc[df_train.Age.isnull(), 'Age'] = df_test.groupby(\"Pclass\").Age.transform('median')"
      ],
      "execution_count": null,
      "outputs": []
    },
    {
      "cell_type": "markdown",
      "metadata": {
        "_uuid": "166e019ad0c531d7b82447eadbd61fb09a062047",
        "id": "9UHRnUf77HIQ"
      },
      "source": [
        "## Feature transformations\n",
        "Chúng ta sẽ chuyển đổi dữ liệu sang một dạng mới với kì vọng sẽ đem lại giá trị tốt hơn cho việc phân tích, đưa ra quyết định\n",
        "Ở đây chúng ta sẽ biến đổi:\n",
        "1. Name\n",
        "1. Age\n",
        "1. SibSp & Parch\n",
        "\n"
      ]
    },
    {
      "cell_type": "markdown",
      "metadata": {
        "id": "vgHMEfy-TwbL"
      },
      "source": [
        "**Transform Name**"
      ]
    },
    {
      "cell_type": "code",
      "metadata": {
        "id": "ZClkqLlEWBic"
      },
      "source": [
        "df_train['Name'].head(10)"
      ],
      "execution_count": null,
      "outputs": []
    },
    {
      "cell_type": "code",
      "metadata": {
        "id": "YmJYODRxUAtZ"
      },
      "source": [
        "df_train['Name'] = df_train.Name.str.extract(' ([A-Za-z]+)\\.', expand = False)\n",
        "df_test['Name'] = df_test.Name.str.extract(' ([A-Za-z]+)\\.', expand = False)"
      ],
      "execution_count": null,
      "outputs": []
    },
    {
      "cell_type": "code",
      "metadata": {
        "id": "j2nlIWxaULin"
      },
      "source": [
        "df_train['Name'].unique().tolist()"
      ],
      "execution_count": null,
      "outputs": []
    },
    {
      "cell_type": "code",
      "metadata": {
        "id": "aF93M8CXTxI9"
      },
      "source": [
        "df_train.rename(columns={'Name' : 'Title'}, inplace=True)\n",
        "df_train['Title'] = df_train['Title'].replace(['Rev', 'Dr', 'Col', 'Ms', 'Mlle', 'Major', 'Countess', \n",
        "                                       'Capt', 'Dona', 'Jonkheer', 'Lady', 'Sir', 'Mme', 'Don'], 'Other')\n",
        "                                      \n",
        "df_test.rename(columns={'Name' : 'Title'}, inplace=True)\n",
        "df_test['Title'] = df_test['Title'].replace(['Rev', 'Dr', 'Col', 'Ms', 'Mlle', 'Major', 'Countess', \n",
        "                                       'Capt', 'Dona', 'Jonkheer', 'Lady', 'Sir', 'Mme', 'Don'], 'Other')"
      ],
      "execution_count": null,
      "outputs": []
    },
    {
      "cell_type": "code",
      "metadata": {
        "id": "A7UL8ANWUbgC"
      },
      "source": [
        "df_train.Title.value_counts()"
      ],
      "execution_count": null,
      "outputs": []
    },
    {
      "cell_type": "markdown",
      "metadata": {
        "id": "GxQrn6DfU5q3"
      },
      "source": [
        "**Transform Age**"
      ]
    },
    {
      "cell_type": "code",
      "metadata": {
        "id": "EB6OOZFUU8zi"
      },
      "source": [
        "bins = (0, 5, 12, 18, 25, 35, 60, 120)\n",
        "group_names = [ 'Baby', 'Child', 'Teenager', 'Student', 'Young Adult', 'Adult', 'Senior']\n",
        "categories = pd.cut(df_train.Age, bins, labels=group_names)\n",
        "df_train.Age = categories\n",
        "df_test.Age = categories"
      ],
      "execution_count": null,
      "outputs": []
    },
    {
      "cell_type": "code",
      "metadata": {
        "id": "r2cZTlnLVLqT"
      },
      "source": [
        "df_train.Age.value_counts()"
      ],
      "execution_count": null,
      "outputs": []
    },
    {
      "cell_type": "markdown",
      "metadata": {
        "id": "gPbwpTRAVS3s"
      },
      "source": [
        "**Transform SibSp & Parch**"
      ]
    },
    {
      "cell_type": "code",
      "metadata": {
        "id": "odyA9LfRVeny"
      },
      "source": [
        "df_train['FamilySize'] = df_train['SibSp'] + df_train['Parch'] + 1\n",
        "df_test['FamilySize'] = df_test['SibSp'] + df_test['Parch'] + 1"
      ],
      "execution_count": null,
      "outputs": []
    },
    {
      "cell_type": "code",
      "metadata": {
        "id": "WeqihBypVrji"
      },
      "source": [
        "df_train = df_train.drop(columns=['SibSp','Parch'])\n",
        "df_test = df_test.drop(columns=['SibSp','Parch'])"
      ],
      "execution_count": null,
      "outputs": []
    },
    {
      "cell_type": "code",
      "metadata": {
        "id": "1OJxkQiIW6eN"
      },
      "source": [
        "df_train.FamilySize"
      ],
      "execution_count": null,
      "outputs": []
    },
    {
      "cell_type": "markdown",
      "metadata": {
        "_uuid": "460e83e7cdb3db098cff0a82432a729619aac918",
        "id": "eFjB0daq7HIW"
      },
      "source": [
        "## Feature Encoding\n",
        "\n",
        "Apply One Hot Encoding for all categorical columns"
      ]
    },
    {
      "cell_type": "code",
      "metadata": {
        "id": "NzkFJU_bZOhd"
      },
      "source": [
        "df_train.head()"
      ],
      "execution_count": null,
      "outputs": []
    },
    {
      "cell_type": "markdown",
      "metadata": {
        "id": "tx-kzcG2ZS8A"
      },
      "source": [
        "**Encode Sex column**"
      ]
    },
    {
      "cell_type": "code",
      "metadata": {
        "_kg_hide-input": true,
        "_uuid": "b06cb1191a0f52a904c52a918d1f999536e79bda",
        "id": "TDVyCqlz7HIi"
      },
      "source": [
        "df_train['Sex'] = df_train['Sex'].map({'male':1,'female':0})\n",
        "df_test['Sex'] = df_test['Sex'].map({'male':1,'female':0})"
      ],
      "execution_count": null,
      "outputs": []
    },
    {
      "cell_type": "code",
      "metadata": {
        "id": "Kdh4oE16aofe"
      },
      "source": [
        "df_train.head()"
      ],
      "execution_count": null,
      "outputs": []
    },
    {
      "cell_type": "markdown",
      "metadata": {
        "id": "bFI5hMaqZ3wl"
      },
      "source": [
        "**Encode other columns**"
      ]
    },
    {
      "cell_type": "code",
      "metadata": {
        "id": "-JwlHXAjaC5P"
      },
      "source": [
        "df_train = pd.get_dummies(df_train)\n",
        "df_test = pd.get_dummies(df_test)\n",
        "df_train.head()"
      ],
      "execution_count": null,
      "outputs": []
    },
    {
      "cell_type": "markdown",
      "metadata": {
        "id": "PZ_qcnyya_qu"
      },
      "source": [
        "## Prepare dataset"
      ]
    },
    {
      "cell_type": "markdown",
      "metadata": {
        "id": "6mwzxe5S8qt6"
      },
      "source": [
        "**Lấy ra label y**"
      ]
    },
    {
      "cell_type": "code",
      "metadata": {
        "id": "_ksHLGd68sX0"
      },
      "source": [
        "# TODO\n",
        "# 1. get y from column Suvived\n",
        "# 2. drop column Survived"
      ],
      "execution_count": null,
      "outputs": []
    },
    {
      "cell_type": "markdown",
      "metadata": {
        "_uuid": "7b6aa3e1e00043b658ba2111f4296c598a3ccfd2",
        "id": "hVaThlQI7HIr"
      },
      "source": [
        "**Train / Validation Split**"
      ]
    },
    {
      "cell_type": "code",
      "metadata": {
        "_uuid": "0921e1c0ee59db81f42300294bc37428659a2ce9",
        "id": "M4CTrsomIflM"
      },
      "source": [
        "# TODO\n",
        "# test_size=0.3 and stratify=y"
      ],
      "execution_count": null,
      "outputs": []
    },
    {
      "cell_type": "markdown",
      "metadata": {
        "id": "6xA6Y7NnbBrH"
      },
      "source": [
        "**Feature Scaling**"
      ]
    },
    {
      "cell_type": "code",
      "metadata": {
        "id": "LnpeuG31E98C"
      },
      "source": [
        "# TODO\n",
        "\n",
        "\n"
      ],
      "execution_count": null,
      "outputs": []
    },
    {
      "cell_type": "markdown",
      "metadata": {
        "id": "Aw2I0eWT2OLF"
      },
      "source": [
        "## 2D Visualization"
      ]
    },
    {
      "cell_type": "markdown",
      "metadata": {
        "id": "QO1a6sMR2TBO"
      },
      "source": [
        "### PCA"
      ]
    },
    {
      "cell_type": "code",
      "metadata": {
        "id": "_4MNKcCc2asZ"
      },
      "source": [
        "# TODO\n",
        "# 1. import PCA\n",
        "# 2. Initializa pca with 2 components\n",
        "# 3. Apply pca on X_train\n",
        "# 3. Name the new variable df_pca\n"
      ],
      "execution_count": null,
      "outputs": []
    },
    {
      "cell_type": "code",
      "metadata": {
        "id": "AcLL56SI20Hh"
      },
      "source": [
        "plt.figure(figsize =(8, 8))\n",
        "sns.scatterplot(df_pca[:,0], df_pca[:,1], hue=y_train, legend='full')"
      ],
      "execution_count": null,
      "outputs": []
    },
    {
      "cell_type": "markdown",
      "metadata": {
        "id": "c4_K34QX2U_q"
      },
      "source": [
        "### T-SNE"
      ]
    },
    {
      "cell_type": "code",
      "metadata": {
        "id": "V3OWZBwP3DY_"
      },
      "source": [
        "from sklearn.manifold import TSNE\n",
        "\n",
        "tsne = TSNE()\n",
        "df_tsne = tsne.fit_transform(X_train)\n",
        "\n",
        "plt.figure(figsize =(8, 8))\n",
        "sns.scatterplot(df_tsne[:,0], df_tsne[:,1], hue=y_train, legend='full')"
      ],
      "execution_count": null,
      "outputs": []
    },
    {
      "cell_type": "markdown",
      "metadata": {
        "_uuid": "3d240a0df576395a9c08df161df732bba89fda1e",
        "id": "XaiI_8LS7HKU"
      },
      "source": [
        "## Ensemble Model"
      ]
    },
    {
      "cell_type": "markdown",
      "metadata": {
        "id": "iaOoz_-Yc5ft"
      },
      "source": [
        "### Logistic Regression"
      ]
    },
    {
      "cell_type": "code",
      "metadata": {
        "_kg_hide-input": true,
        "_uuid": "70478a52a315460748cce36779e25dbb4d109258",
        "id": "QAIcGOkD7HKV"
      },
      "source": [
        "# TODO\n",
        "# 1. Define LogisticRegression model\n",
        "# 2. Fit on Train\n"
      ],
      "execution_count": null,
      "outputs": []
    },
    {
      "cell_type": "code",
      "metadata": {
        "_kg_hide-input": true,
        "_uuid": "a0fb319adb2974342f5825b77cedfb7969d06fda",
        "id": "GQesSMkk7HKZ"
      },
      "source": [
        "# TODO\n",
        "# 1. Use score() function on 2 Sets\n"
      ],
      "execution_count": null,
      "outputs": []
    },
    {
      "cell_type": "markdown",
      "metadata": {
        "id": "z14KfBBFd6m_"
      },
      "source": [
        "### Support Vector Machine"
      ]
    },
    {
      "cell_type": "code",
      "metadata": {
        "id": "fE550aYMAB-4"
      },
      "source": [
        "C_values = [0.01, 0.1, 1, 3]\n",
        "gamma_values = [0.01, 0.1, 1, 3]\n",
        "kernel_values = ['linear', 'poly', 'rbf']\n",
        "\n",
        "param_grid = {\n",
        "    'kernel': kernel_values,\n",
        "    'C': C_values,\n",
        "    'gamma': gamma_values\n",
        "}"
      ],
      "execution_count": null,
      "outputs": []
    },
    {
      "cell_type": "code",
      "metadata": {
        "id": "TXnLoc3BeK96"
      },
      "source": [
        "# TODO\n",
        "# 1. import SVC, GridSearchCV\n",
        "# 3. khởi tạo GridSearchCV với số k-fold (cv) = 3\n",
        "# 4. fit trên Train Set \n",
        "# 5. lấy ra best model\n",
        "# 6. \n"
      ],
      "execution_count": null,
      "outputs": []
    },
    {
      "cell_type": "code",
      "metadata": {
        "id": "vum6yBpwf-y_"
      },
      "source": [
        "# TODO\n",
        "# 1. Use score() function on 2 Sets\n"
      ],
      "execution_count": null,
      "outputs": []
    },
    {
      "cell_type": "markdown",
      "metadata": {
        "id": "UmPSQ27Teuyg"
      },
      "source": [
        "### Decision Tree"
      ]
    },
    {
      "cell_type": "code",
      "metadata": {
        "id": "f-dkPG-oeuIy"
      },
      "source": [
        "params = {\n",
        "    'criterion': ['entropy','gini'],\n",
        "    'max_depth': [3,5,7],\n",
        "    'min_samples_split': np.linspace(0.1, 1.0, 10), \n",
        "    'max_features':  ['auto', 'log2']\n",
        "}\n",
        "\n",
        "# TODO\n",
        "# 1. import Decision Tree\n",
        "# 3. khởi tạo GridSearchCV với số k-fold (cv) = 2\n",
        "# 4. fit trên Train Set \n",
        "# 5. lấy ra best model\n",
        "\n"
      ],
      "execution_count": null,
      "outputs": []
    },
    {
      "cell_type": "code",
      "metadata": {
        "id": "y3nWXzG5gO1J"
      },
      "source": [
        "# TODO\n",
        "# 1. Use score() function on 2 Sets\n"
      ],
      "execution_count": null,
      "outputs": []
    },
    {
      "cell_type": "markdown",
      "metadata": {
        "id": "s7uObNWXgWqC"
      },
      "source": [
        "### Random Forest"
      ]
    },
    {
      "cell_type": "code",
      "metadata": {
        "id": "6PR7wqEGgYEV"
      },
      "source": [
        " param_grid_random={'criterion': ['gini', 'entropy'],\n",
        "            'max_depth': [3, 5, 7],\n",
        "            'max_features': ['auto', 'log2'],\n",
        "            'n_estimators': [100, 300, 500]})\n",
        "\n",
        "# TODO\n",
        "# 1. Import RandomForestClassifier\n",
        "# 2. khởi tạo GridSearchCV với số k-fold (cv) = 2\n",
        "# 3. fit trên Train Set \n",
        "# 4. lấy ra best model\n",
        "\n"
      ],
      "execution_count": null,
      "outputs": []
    },
    {
      "cell_type": "code",
      "metadata": {
        "id": "w50f2SAPgrta"
      },
      "source": [
        "# TODO\n",
        "# 1. Use score() function on 2 Sets\n"
      ],
      "execution_count": null,
      "outputs": []
    },
    {
      "cell_type": "markdown",
      "metadata": {
        "id": "3_BtWp2OhTm1"
      },
      "source": [
        "### Voting Classifier"
      ]
    },
    {
      "cell_type": "markdown",
      "metadata": {
        "id": "8JjuA6Ugh6Q4"
      },
      "source": [
        "voting = {'hard', 'soft'}\n",
        "\n",
        "If 'hard', uses predicted class labels for majority rule voting. Else if 'soft', predicts the class label based on the argmax of the sums of the predicted probabilities, which is recommended for an ensemble of well-calibrated classifiers."
      ]
    },
    {
      "cell_type": "code",
      "metadata": {
        "id": "FFbtTTSihVEj"
      },
      "source": [
        "from sklearn.ensemble import VotingClassifier\n",
        "\n",
        "ensemble = VotingClassifier(estimators=[\n",
        "                              ('Logistic Regression', logreg), \n",
        "                              ('SVM', svc), \n",
        "                              ('Decision Tree', decision_tree), \n",
        "                              ('Random Forest', random_forest)\n",
        "                              ],\n",
        "                            voting='hard',\n",
        "                            n_jobs=-1)\n",
        "\n",
        "\n",
        "\n",
        "ensemble.fit(X_train, y_train)"
      ],
      "execution_count": null,
      "outputs": []
    },
    {
      "cell_type": "code",
      "metadata": {
        "id": "UcYT_7tfifSO"
      },
      "source": [
        "# TODO\n",
        "# 1. Use score() function on 2 Sets\n"
      ],
      "execution_count": null,
      "outputs": []
    },
    {
      "cell_type": "markdown",
      "metadata": {
        "id": "zEHaCLywi51k"
      },
      "source": [
        "**Confusion Matrix**"
      ]
    },
    {
      "cell_type": "code",
      "metadata": {
        "id": "K15ddp5FioH4"
      },
      "source": [
        "# TODO\n",
        "# 1. Import confusion matrix from sklearn\n",
        "# 2. Use confusion_matrix to draw a heatmap\n",
        "# 3. if your heatmap show 8e+2 numbers. Insise heatmap() function, put a parameter fmt='.1f'  \n"
      ],
      "execution_count": null,
      "outputs": []
    }
  ]
}