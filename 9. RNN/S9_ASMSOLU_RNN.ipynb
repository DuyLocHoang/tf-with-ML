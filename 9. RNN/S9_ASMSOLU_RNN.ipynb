{
  "nbformat": 4,
  "nbformat_minor": 0,
  "metadata": {
    "colab": {
      "name": "S9_ASMSOLU_RNN.ipynb",
      "provenance": [],
      "collapsed_sections": []
    },
    "kernelspec": {
      "name": "python3",
      "display_name": "Python 3"
    },
    "accelerator": "GPU"
  },
  "cells": [
    {
      "cell_type": "markdown",
      "metadata": {
        "id": "BrqCNCRY68BQ"
      },
      "source": [
        "<h1><center>\n",
        "\n",
        "![](https://i.imgur.com/jrRGMfx.png)\n",
        "\n",
        "AI PRACTITIONER COURSE \n",
        "\n",
        "ASSIGNMENT - SESSION 9 - Recurrent Neural Network\n",
        "\n",
        "**&copy; 2020 VTCA-COTAI. Internal Use Only.**\n",
        "\n",
        "</center></h1>"
      ]
    },
    {
      "cell_type": "markdown",
      "metadata": {
        "id": "Ynwc5pN5REuS"
      },
      "source": [
        "# 9.1 Theory Review\n",
        "\n",
        "## 9.1.1 [2 Point] RNN equations\n",
        "- Draw diagram as in slide 10 and write down equations of vanila RNN for 3 timesteps with inputs $\\mathbf{x}_t$, 1 hidden layer $\\mathbf{h}_t$, and 1 softmax layer for output $\\mathbf{\\hat{y}}_t$.\n",
        "- Vẽ lưu đồ như ở slide 10 và viết công thức cụ thể của RNN cơ bản cho 1 chuỗi 3 cặp input-output $\\{(\\mathbf{x}_t, \\mathbf{y}_t)\\}_{t=1}^3$, với 1 lớp ẩn $\\mathbf{h}_t$, 1 lớp softmax phân loại đầu ra $\\mathbf{\\hat{y}}_t$. \n",
        "\n",
        "**Answers**:\n",
        "- $\\mathbf{{h}}_t = \\gamma(W_h\\mathbf{h}_{t-1} + W_x\\mathbf{x}_{t} + \\mathbf{b}_h)$\n",
        "- $\\mathbf{\\hat{y}}_t = s(W_y\\mathbf{h}_t + \\mathbf{b}_y)$\n",
        "\n",
        "## 9.1.2 [1 Point] Weight-sharing in time\n",
        "- What is weight-sharing in RNN and why is it useful?\n",
        "- Chia sẻ tham số theo thời gian trong RNN là gì và vì sao nó có ích?\n",
        "\n",
        "**Answers**:\n",
        "- When we *unroll* an RNN in time, we have a cascade of FNNs (feed-forward) with exactly *same* set of parameters $(W_h, W_x, W_y, b_h, b_y)$. This is called \"weight-sharing in time\" and it helps reduce the number of learning parameters, making RNNs very efficient models for training.\n",
        "- Khi ta \"trải\" 1 mạng hồi quy RNN theo thời gian, ta được 1 chuỗi các mạng lan truyền thuận nối tiếp nhau, và các mạng này *có cùng bộ tham số*. Đây gọi là \"chia sẻ tham số theo thời gian\", giúp giảm số tham số cần phải huấn luyện, làm cho mô hình học tốt hơn.\n",
        "\n",
        "## 9.1.3 [1 Point] BPTT training\n",
        "- Explain briefly gradient-based training method for RNN.\n",
        "- Giải thích ngắn gọn (tự viết lại) phương pháp huấn luyện RNN theo đạo hàm.\n",
        "\n",
        "**Answers**:\n",
        "- Gradient-based method: backpropagation through time (BPTT) \n",
        "  1. Treat the unfolded network as a big feed-forward network. \n",
        "  2. The whole input sequence is given to the FFNN. \n",
        "  3. The weight updates are computed for each copy in the unfolded network using the usual back-propagation method.\n",
        "  4. All the updates are then summed (or averaged) and then applied to the RNN (shared) weights.\n",
        "- Lan truyền ngược thời gian:\n",
        "  1. \"Trải\" RNN ra thành 1 chuỗi kết nối các mạng lan truyền thuận\n",
        "  2. Chuỗi input/output được đưa vào từng mạng\n",
        "  3. Đạo hàm được tính cho từng mạng bằng phương pháp lan truyền ngược\n",
        "  4. Vì bộ trọng số *được chia sẻ* nên ta tổng các thay đổi lại hoặc tính trung bình, rồi cập nhật.\n",
        "\n"
      ]
    },
    {
      "cell_type": "markdown",
      "metadata": {
        "id": "dvgfSVgPRG-8"
      },
      "source": [
        "# 9.2 [2 Points] Coding"
      ]
    },
    {
      "cell_type": "markdown",
      "metadata": {
        "id": "qIoSl5EG6-vL"
      },
      "source": [
        "Ở homework này, chúng ta sẽ thực hành dùng mạng RNN để dự đoán nhiệt độ cho ngày tiếp theo.\n",
        "\n",
        "Dataset được download từ link này https://climexp.knmi.nl/data/tdaily_cet.dat. Bao gồm nhiệt độ trung bình mỗi ngày ở nước Anh, thu thập từ ngày 01-01-1772 đến 11-11-2020.\n",
        "\n",
        "Cell bên dưới sẽ download dữ liệu về dưới dạng .txt\n"
      ]
    },
    {
      "cell_type": "code",
      "metadata": {
        "id": "XXe-AHBdl0z-",
        "colab": {
          "base_uri": "https://localhost:8080/"
        },
        "outputId": "e862f344-b250-4cd6-a260-125772c6ccfa"
      },
      "source": [
        "!wget --no-check-certificate https://climexp.knmi.nl/data/tdaily_cet.dat -O /content/tdaily_cet.dat.txt"
      ],
      "execution_count": null,
      "outputs": [
        {
          "output_type": "stream",
          "text": [
            "--2020-12-08 08:27:32--  https://climexp.knmi.nl/data/tdaily_cet.dat\n",
            "Resolving climexp.knmi.nl (climexp.knmi.nl)... 145.100.58.44\n",
            "Connecting to climexp.knmi.nl (climexp.knmi.nl)|145.100.58.44|:443... connected.\n",
            "HTTP request sent, awaiting response... 200 OK\n",
            "Length: 2182489 (2.1M)\n",
            "Saving to: ‘/content/tdaily_cet.dat.txt’\n",
            "\n",
            "/content/tdaily_cet 100%[===================>]   2.08M  3.64MB/s    in 0.6s    \n",
            "\n",
            "2020-12-08 08:27:33 (3.64 MB/s) - ‘/content/tdaily_cet.dat.txt’ saved [2182489/2182489]\n",
            "\n"
          ],
          "name": "stdout"
        }
      ]
    },
    {
      "cell_type": "markdown",
      "metadata": {
        "id": "-2vBs1XK7wsG"
      },
      "source": [
        "**Import các thư viện cần thiết**"
      ]
    },
    {
      "cell_type": "code",
      "metadata": {
        "id": "lEVaZcCHbMpT"
      },
      "source": [
        "import tensorflow as tf\n",
        "import numpy as np\n",
        "import matplotlib.pyplot as plt"
      ],
      "execution_count": null,
      "outputs": []
    },
    {
      "cell_type": "markdown",
      "metadata": {
        "id": "wp0Npsu972-w"
      },
      "source": [
        "**Hàm để đọc dữ liệu từ file .txt đã download**"
      ]
    },
    {
      "cell_type": "code",
      "metadata": {
        "id": "Vq0ZZwqXahLU"
      },
      "source": [
        "def get_data():  \n",
        "  data_file = \"/content/tdaily_cet.dat.txt\"\n",
        "  f = open(data_file)\n",
        "  data = f.read()\n",
        "  # print(data)\n",
        "  f.close()\n",
        "  lines = data.split('\\n')\n",
        "  temperatures=[]\n",
        "  day = []\n",
        "  for line in lines:\n",
        "      if line and line.find('#') == -1:\n",
        "          linedata = line.split()\n",
        "          day.append(linedata[0])\n",
        "          # print(linedata[1])\n",
        "          temperatures.append(float(linedata[1]))\n",
        "  day = np.asarray(day)\n",
        "  series = np.asarray(temperatures)\n",
        "  time = np.arange(len(temperatures), dtype=\"int\")\n",
        "\n",
        "  return time, series, day\n"
      ],
      "execution_count": null,
      "outputs": []
    },
    {
      "cell_type": "markdown",
      "metadata": {
        "id": "xmZDg6R28PQP"
      },
      "source": [
        "Các biến trả ra của hàm get_data gồm\n",
        "- time: kiểu dữ liệu list-int, đại diện cho số ngày (từ ``0`` đến ``90895``)\n",
        "- day: kiểu dữ liệu list-string, đại diện cho ngày thực tế (từ ``17720101`` đến ``20201111``)\n",
        "- series: kiểu dữ liệu list-float, đại diện cho nhiệt độ trung bình mỗi ngày"
      ]
    },
    {
      "cell_type": "code",
      "metadata": {
        "id": "e-HBgiunlapp",
        "colab": {
          "base_uri": "https://localhost:8080/"
        },
        "outputId": "108cd473-0c70-4c91-adbf-cd9a8e9e2570"
      },
      "source": [
        "time, series, day = get_data()\n",
        "print('Length of time:',len(time))\n",
        "print('Length of series:',len(series))\n",
        "print('Length of day:',len(day))"
      ],
      "execution_count": null,
      "outputs": [
        {
          "output_type": "stream",
          "text": [
            "Length of time: 90896\n",
            "Length of series: 90896\n",
            "Length of day: 90896\n"
          ],
          "name": "stdout"
        }
      ]
    },
    {
      "cell_type": "markdown",
      "metadata": {
        "id": "OYJlIPxG98go"
      },
      "source": [
        "**Chia train test**"
      ]
    },
    {
      "cell_type": "markdown",
      "metadata": {
        "id": "T715UTP29-_o"
      },
      "source": [
        "Ta lấy ra dữ liệu của 60000 ngày đầu tiên làm train, 10000 ngày tiếp theo làm validation và toàn bộ ngày còn lại làm test"
      ]
    },
    {
      "cell_type": "code",
      "metadata": {
        "id": "oqBiOdisaxMl"
      },
      "source": [
        "split_train_time = 60000\n",
        "split_val_time = split_train_time + 10000\n",
        "time_train = time[:split_train_time]\n",
        "x_train = series[:split_train_time]\n",
        "time_val = time[split_train_time:split_val_time]\n",
        "x_val = series[split_train_time:split_val_time]\n",
        "time_test = time[split_val_time:]\n",
        "x_test = series[split_val_time:]"
      ],
      "execution_count": null,
      "outputs": []
    },
    {
      "cell_type": "markdown",
      "metadata": {
        "id": "CXOwl_46-IpM"
      },
      "source": [
        "**Standardization**\n",
        "\n",
        "Tính giá trị **trung bình** và **độ lệch chuẩn** trên tập train. Sau đó thực hiện Standardization trên cả tập Train và tập Test"
      ]
    },
    {
      "cell_type": "code",
      "metadata": {
        "id": "7RzUF2s8-OYD"
      },
      "source": [
        "mean = x_train.mean(axis=0)\n",
        "std = x_train.std(axis=0)\n",
        "\n",
        "x_train-=mean\n",
        "x_train/=std\n",
        "\n",
        "x_val-=mean\n",
        "x_val/=std\n",
        "\n",
        "x_test-=mean\n",
        "x_test/=std"
      ],
      "execution_count": null,
      "outputs": []
    },
    {
      "cell_type": "markdown",
      "metadata": {
        "id": "-RFoLJpM_E4N"
      },
      "source": [
        "**Visualize data**"
      ]
    },
    {
      "cell_type": "code",
      "metadata": {
        "id": "rlpYb3OhavB3"
      },
      "source": [
        "def plot_series(time, series, start=0, end=None):\n",
        "  plt.plot(time[start:end], series[start:end])\n",
        "  plt.xlabel(\"Time\")\n",
        "  plt.ylabel(\"Value\")\n",
        "  plt.grid(True)"
      ],
      "execution_count": null,
      "outputs": []
    },
    {
      "cell_type": "code",
      "metadata": {
        "id": "cpCJy1cBa0YM",
        "colab": {
          "base_uri": "https://localhost:8080/",
          "height": 388
        },
        "outputId": "aee28f96-e1ca-43cf-b633-830daec5e369"
      },
      "source": [
        "plt.figure(figsize=(20, 6))\n",
        "plot_series(time_test, x_test)"
      ],
      "execution_count": null,
      "outputs": [
        {
          "output_type": "display_data",
          "data": {
            "image/png": "[encoded data removed]",
            "text/plain": [
              "<Figure size 1440x432 with 1 Axes>"
            ]
          },
          "metadata": {
            "tags": [],
            "needs_background": "light"
          }
        }
      ]
    },
    {
      "cell_type": "markdown",
      "metadata": {
        "id": "djNgexAi_kGT"
      },
      "source": [
        "Hình trên là toàn bộ dữ liệu trong tập Test (12896 ngày)\n",
        "\n",
        "Ta cần viết hàm để chia tập dữ liệu lớn này thành nhiều mẫu nhỏ, mỗi mẫu gồm ``n`` time-step (ví dụ với bài lab trên lớp sẽ là 8000 mẫu cho tập train, 50 time-step mỗi mẫu)\n",
        "\n",
        "Các tham số truyền vào hàm ``windowed_dataset`` cần quan tâm gồm:\n",
        "- series: Bộ dữ liệu cần chia nhỏ.\n",
        "- window_size: time_step cho từng mẫu\n",
        "\n",
        "Ở đây chúng ta dùng class ``tf.data.Dataset`` của Tensorflow 2 để lưu trữ dữ liệu.\n",
        "\n",
        "**Lưu ý:** Mỗi framework Deep Learning đều có 1 class ``Dataset`` của riêng chúng với chức năng tương tự nhau và mang đến rất nhiều ưu điểm khi thực hiện tiền xử lý dữ liệu. Do đó khuyến khích học viên tìm hiểu thêm về class này để có thể tự sử dụng."
      ]
    },
    {
      "cell_type": "markdown",
      "metadata": {
        "id": "eMS2l5XSENse"
      },
      "source": [
        "**Chia dữ liệu thành từng cụm nhỏ**"
      ]
    },
    {
      "cell_type": "code",
      "metadata": {
        "id": "IOSV1QOAa2T7"
      },
      "source": [
        "def windowed_dataset(series, window_size, batch_size, shuffle_buffer):\n",
        "  series = tf.expand_dims(series, axis=-1)\n",
        "  dataset = tf.data.Dataset.from_tensor_slices(series)\n",
        "  dataset = dataset.window(window_size + 1, shift=1, drop_remainder=True)\n",
        "  dataset = dataset.flat_map(lambda window: window.batch(window_size + 1))\n",
        "  dataset = dataset.shuffle(shuffle_buffer).map(lambda window: (window[:-1], window[-1]))\n",
        "  dataset = dataset.batch(batch_size).prefetch(1)\n",
        "  return dataset"
      ],
      "execution_count": null,
      "outputs": []
    },
    {
      "cell_type": "markdown",
      "metadata": {
        "id": "UuP1ZCUfFlYP"
      },
      "source": [
        "Ta khai báo window_size = 60, tương ứng với lấy dữ liệu của mỗi 60 ngày thành 1 cụm (sample) để train và test.\n",
        "\n",
        "Sau đó gọi hàm ``windowed_dataset`` truyền vào ``x_train`` và ``x_test``"
      ]
    },
    {
      "cell_type": "code",
      "metadata": {
        "id": "FYSulAHUD1YQ"
      },
      "source": [
        "window_size = 60\n",
        "batch_size = 120\n",
        "shuffle_buffer_size = 240\n",
        "\n",
        "train_dataset = windowed_dataset(x_train, window_size, batch_size, shuffle_buffer_size)\n",
        "val_dataset = windowed_dataset(x_val, window_size, batch_size, shuffle_buffer_size)\n",
        "test_dataset = windowed_dataset(x_test, window_size, batch_size, shuffle_buffer_size)"
      ],
      "execution_count": null,
      "outputs": []
    },
    {
      "cell_type": "markdown",
      "metadata": {
        "id": "syyJSmVsKPJe"
      },
      "source": [
        "**Lưu ý:** khi gọi hàm ``fit``, ta làm như sau\n",
        "\n",
        "```\n",
        "model.fit(train_dataset, validation_data=val_dataset)\n",
        "```"
      ]
    },
    {
      "cell_type": "markdown",
      "metadata": {
        "id": "KNWEGst0D603"
      },
      "source": [
        "## 9.2.1 [2 Points] Xây dựng và huấn luyện mô hình"
      ]
    },
    {
      "cell_type": "markdown",
      "metadata": {
        "id": "2CPwfb4RGHIv"
      },
      "source": [
        "**TODOs**\n",
        "1. Xây dựng và huấn luyện mô hình để dự báo nhiệt độ, học viên tự do sử dụng các layer sau ``SimpleRNN, GRU, LSTM``\n",
        "1. Bài toán này yêu cầu dự báo giá trị của 1 điểm dữ liệu mới, tương ứng với phần đầu của bài lab trên lớp.\n",
        "1. Sử dụng ``input_shape=[None, 1]``, None nghĩa là có thể sử dụng số time-step (window_size) bất kì. \n",
        "1. Đối với hàm loss, có thể truyền vào ``tf.keras.losses.Huber()`` hoặc ``'mse'``\n",
        "1. Lưu ý: cách sử dụng tham số ``return_sequences=True``\n",
        "1. Đối với mạng RNN/GRU/LSTM, nếu model bị overfit, ta có thể áp dụng **Dropout** bằng cách truyền vào 2 tham số ``dropout=0.1`` và ``recurrent_dropout=0.1``. Ví dụ:\n",
        "```\n",
        "model.add(LSTM(100, dropout=0.1, recurrent_dropout=0.1))\n",
        "```\n",
        "1. Khi gọi hàm ``fit`` nhớ lấy ra biến ``history``"
      ]
    },
    {
      "cell_type": "code",
      "metadata": {
        "id": "yNdquP-Qa6jn"
      },
      "source": [
        "tf.keras.backend.clear_session()\n",
        "tf.random.set_seed(42)\n",
        "np.random.seed(42)\n",
        "\n",
        "\n",
        "\n",
        "model = tf.keras.models.Sequential([\n",
        "  tf.keras.layers.GRU(100, input_shape=[None, 1], return_sequences=True),\n",
        "  tf.keras.layers.GRU(100), \n",
        "  tf.keras.layers.Dense(1),\n",
        "])\n",
        "\n",
        "optimizer = tf.keras.optimizers.SGD(lr=1e-4, momentum=0.7)\n",
        "model.compile(loss=tf.keras.losses.Huber(), optimizer='adam', metrics=[\"mae\"])\n",
        "history = model.fit(train_dataset, epochs=2,  verbose=1, validation_data=val_dataset)"
      ],
      "execution_count": null,
      "outputs": []
    },
    {
      "cell_type": "markdown",
      "metadata": {
        "id": "eVaYq4cQQ1Qr"
      },
      "source": [
        "**Vẽ Learning Curve**"
      ]
    },
    {
      "cell_type": "code",
      "metadata": {
        "id": "eSOce8yNQydt"
      },
      "source": [
        "plt.plot(history.history['loss'], 'b')\n",
        "plt.plot(history.history['val_loss'], 'r')\n",
        "plt.title('Training and Validation Loss')\n",
        "plt.xlabel(\"Epochs\")\n",
        "plt.ylabel(\"Loss\")\n",
        "plt.legend([\"Loss\", \"Validation Loss\"])\n",
        "plt.figure()\n",
        "plt.show()"
      ],
      "execution_count": null,
      "outputs": []
    },
    {
      "cell_type": "markdown",
      "metadata": {
        "id": "wSsIPMWaMO5F"
      },
      "source": [
        "**Inference**"
      ]
    },
    {
      "cell_type": "markdown",
      "metadata": {
        "id": "XvuaTwgfMf9d"
      },
      "source": [
        "Hàm để forecast cho trên tập test"
      ]
    },
    {
      "cell_type": "code",
      "metadata": {
        "id": "gwZIsIA7a-4F"
      },
      "source": [
        "def model_forecast(model, series, window_size):\n",
        "    series = tf.expand_dims(series, axis=-1) \n",
        "    ds = tf.data.Dataset.from_tensor_slices(series)\n",
        "    ds = ds.window(window_size, shift=1, drop_remainder=True)\n",
        "    ds = ds.flat_map(lambda w: w.batch(window_size))\n",
        "    ds = ds.batch(32).prefetch(1)\n",
        "    forecast = model.predict(ds)\n",
        "    return forecast"
      ],
      "execution_count": null,
      "outputs": []
    },
    {
      "cell_type": "code",
      "metadata": {
        "id": "M465Ag4UbBaR"
      },
      "source": [
        "forecast = model_forecast(model, x_test, window_size)[:,0]"
      ],
      "execution_count": null,
      "outputs": []
    },
    {
      "cell_type": "markdown",
      "metadata": {
        "id": "7EAD1jZRPaQ9"
      },
      "source": [
        "Ở đây ta vẽ 2 biểu đồ là dự báo trên toàn bộ tập Test và dự báo trên 60 ngày cuối cùng\n",
        "\n",
        "**Chú ý** do lượng dữ liệu trên tập test không chia đều cho 60 (window_size) nên 1 vài điểm dữ liệu sẽ bị mất, do đó ta chỉ tính trong khoảng ``time_test[:forecast.shape[0]]``"
      ]
    },
    {
      "cell_type": "code",
      "metadata": {
        "id": "78P1lN4abD0F"
      },
      "source": [
        "# Forecast on whole test set\n",
        "plt.figure(figsize=(20,6))\n",
        "plot_series(time_test[:forecast.shape[0]], x_test[:forecast.shape[0]])\n",
        "plot_series(time_test[:forecast.shape[0]], forecast)\n",
        "plt.show()\n",
        "# Forecast on last 60 days\n",
        "plt.figure(figsize=(20,6))\n",
        "plot_series(time_test[-window_size:], x_test[-window_size:])\n",
        "plot_series(time_test[-window_size:], forecast[-window_size:])\n",
        "plt.show()"
      ],
      "execution_count": null,
      "outputs": []
    }
  ]
}