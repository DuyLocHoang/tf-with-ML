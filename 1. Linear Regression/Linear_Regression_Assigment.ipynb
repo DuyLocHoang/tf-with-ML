{
  "nbformat": 4,
  "nbformat_minor": 0,
  "metadata": {
    "colab": {
      "name": "Linear_Regression_Github.ipynb",
      "provenance": [],
      "collapsed_sections": []
    },
    "kernelspec": {
      "name": "python3",
      "display_name": "Python 3"
    }
  },
  "cells": [
    {
      "cell_type": "markdown",
      "metadata": {
        "id": "dbRsS-OQ8T4X"
      },
      "source": [
        "#Question 1"
      ]
    },
    {
      "cell_type": "markdown",
      "metadata": {
        "id": "cv5Y_Rw4b8W8"
      },
      "source": [
        "AI không chỉ có ML & Deep Learning mà còn có rất nhiều chủ đề quan trọng khác. Ví dụ trong Venn diagram.\n",
        "![alt text](https://i.imgur.com/9zT8vuz.png)"
      ]
    },
    {
      "cell_type": "markdown",
      "metadata": {
        "id": "MJWZ_PI58Tma"
      },
      "source": [
        "# Question 2"
      ]
    },
    {
      "cell_type": "markdown",
      "metadata": {
        "id": "TA0wPrbD8viS"
      },
      "source": [
        "TEPFA = Khung chuẩn cho 1 mô hình Machine Learning, bao gồm:\n",
        "\n",
        "\n",
        "*   **T-(Task)** nhiệm vụ mà máy tính phải thực hiện, cần xác định input $X$ và output $Y$ là gì.\n",
        "*   **E-(Experience)** trải nghiệm mà ta cung cấp cho máy tính, ví dụ dữ liệu $D$ gồm các cặp $\\{(x^t,y^t)\\}_{t=1}^n$ mẫu.\n",
        "*   **P-(Performance)** chuẩn đánh giá so sánh sự khác biệt giữa đầu ra $\\hat{y}$ dự báo bởi AI và nhãn $y$, tính trên cả tập dữ liệu $D$.\n",
        "*   **F-(Function Space)** Không gian hàm số mà máy tính phải tối ưu, ví dụ các hàm tuyến tính, các mô hình học sâu (deep learning)\n",
        "*   **A-(Algorithm)** giải thuật để tìm ra hàm số tối ưu trong không gian hàm $F$, ví dụ sử dụng gradient.\n",
        "\n",
        "TEPFA trong Linear Regression: xem thêm trong slides bài giảng session 2.\n",
        "\n",
        "*   Task: Tính giá trị đầu ra là 1 số thực $y$ cho mỗi đầu vào $x$.\n",
        "*   Experience: Tập dữ liệu X và nhãn Y\n",
        "*   Performance: Dùng Mean Squared Error hoặc Mean Absolute Error để đánh giá sai số giữa (Y dự đoán) và (Y thực tế)\n",
        "*   Function Space: Không gian hàm tuyến tính $\\hat{y} = w^\\top x +b$. Ta cần tìm bộ trọng số $(w,b)$ để sai số trên tập huấn luyện nhỏ nhất.\n",
        "*   Algorithm: Gradient Descent\n",
        "\n",
        "\n"
      ]
    },
    {
      "cell_type": "markdown",
      "metadata": {
        "id": "GjbWoRcpeUdj"
      },
      "source": [
        "# Coding\n"
      ]
    },
    {
      "cell_type": "markdown",
      "metadata": {
        "id": "JFEkebkFbIdi"
      },
      "source": [
        "Let \n",
        "$$y = 5x^3 + 3x^2 -2x + 10\\times noise + 2$$\n",
        "\n",
        "Generate a dataset using this function and fit a linear regression model on the generated dataset.\n",
        "Visualize the training data and the trained model\n",
        "Save the trained model and submit the file. You will need to search (Google) how to do this in sklearn.\n",
        "\n",
        "**Note**: \n",
        "- ``x`` and ``noise`` must be generated from the standard normal distribution using ``np.random.rand``\n",
        "- **Random Seed** and **Random State** must be set to ``42``\n",
        "\n",
        "Tạo dataset theo hàm bậc 3 ở trên, tìm mô hình hồi quy tuyến tính tốt nhất cho dataset này, vẽ hình minh họa, rồi lưu mô hình thành file nộp."
      ]
    },
    {
      "cell_type": "code",
      "metadata": {
        "id": "A12797nEYXTU"
      },
      "source": [
        "import numpy as np \n",
        "# for splitting data into train & test set\n",
        "from sklearn.model_selection import train_test_split\n",
        "# for creating Linear Regression model \n",
        "from sklearn.linear_model import LinearRegression \n",
        "# Metrics for evaluating model performance\n",
        "from sklearn.metrics import mean_absolute_error as MAE\n",
        "from sklearn.metrics import mean_squared_error as MSE\n",
        "# Draw chart\n",
        "import matplotlib.pyplot as plt\n"
      ],
      "execution_count": null,
      "outputs": []
    },
    {
      "cell_type": "code",
      "metadata": {
        "id": "FfvSN1o_XL3Z"
      },
      "source": [
        "# Set random seed to make sure results are the same\n",
        "np.random.seed(42)\n",
        "# Random from the “standard normal” distribution\n",
        "x = np.random.randn(4000,1)\n",
        "# Random noise\n",
        "noise = np.random.randn(4000,1)\n",
        "y = 5 * (x**3) + 3 * (x**2) - 2 * x + 10 * noise + 2\n"
      ],
      "execution_count": null,
      "outputs": []
    },
    {
      "cell_type": "code",
      "metadata": {
        "id": "690yYubRYez7",
        "colab": {
          "base_uri": "https://localhost:8080/",
          "height": 282
        },
        "outputId": "fcae775c-e10b-454f-8db3-93331ae42275"
      },
      "source": [
        "plt.scatter(x,y) # Plot the whole dataset"
      ],
      "execution_count": null,
      "outputs": [
        {
          "output_type": "execute_result",
          "data": {
            "text/plain": [
              "<matplotlib.collections.PathCollection at 0x7f28d8431cf8>"
            ]
          },
          "metadata": {
            "tags": []
          },
          "execution_count": 3
        },
        {
          "output_type": "display_data",
          "data": {
            "image/png": "[encoded data removed]",
            "text/plain": [
              "<Figure size 432x288 with 1 Axes>"
            ]
          },
          "metadata": {
            "tags": [],
            "needs_background": "light"
          }
        }
      ]
    },
    {
      "cell_type": "markdown",
      "metadata": {
        "id": "cSbauL5KNK0y"
      },
      "source": [
        "**Train Test Split**"
      ]
    },
    {
      "cell_type": "code",
      "metadata": {
        "id": "gNM-w1B7Ylyc",
        "colab": {
          "base_uri": "https://localhost:8080/"
        },
        "outputId": "26c9822a-1f83-4b0e-8df4-99262d6866c8"
      },
      "source": [
        "x_train, x_test, y_train, y_test = train_test_split(x,y,test_size=0.2,shuffle=True,random_state=42)\n",
        "print('Shape of x train',x_train.shape)\n",
        "print('Shape of y train',y_train.shape)\n",
        "print('Shape of x test',x_test.shape)\n",
        "print('Shape of y test',y_test.shape)"
      ],
      "execution_count": null,
      "outputs": [
        {
          "output_type": "stream",
          "text": [
            "Shape of x train (3200, 1)\n",
            "Shape of y train (3200, 1)\n",
            "Shape of x test (800, 1)\n",
            "Shape of y test (800, 1)\n"
          ],
          "name": "stdout"
        }
      ]
    },
    {
      "cell_type": "markdown",
      "metadata": {
        "id": "-K_5i-GqNN7j"
      },
      "source": [
        "**Define and Train Linear Regression Model**"
      ]
    },
    {
      "cell_type": "code",
      "metadata": {
        "id": "3ANtyJomY2Ie",
        "colab": {
          "base_uri": "https://localhost:8080/"
        },
        "outputId": "78dcf288-8335-49f2-b817-d8251a3b672e"
      },
      "source": [
        "model = LinearRegression()\n",
        "model.fit(x_train, y_train)"
      ],
      "execution_count": null,
      "outputs": [
        {
          "output_type": "execute_result",
          "data": {
            "text/plain": [
              "LinearRegression(copy_X=True, fit_intercept=True, n_jobs=None, normalize=False)"
            ]
          },
          "metadata": {
            "tags": []
          },
          "execution_count": 6
        }
      ]
    },
    {
      "cell_type": "code",
      "metadata": {
        "id": "wXcHGDkrZAGs",
        "colab": {
          "base_uri": "https://localhost:8080/"
        },
        "outputId": "86df25f6-f1eb-4de9-cf7b-0194dd098af5"
      },
      "source": [
        "# print the intercept and coefficients\n",
        "print('Bias:',model.intercept_)\n",
        "print('Weight:',model.coef_)"
      ],
      "execution_count": null,
      "outputs": [
        {
          "output_type": "stream",
          "text": [
            "Bias: [4.66815921]\n",
            "Weight: [[13.31146727]]\n"
          ],
          "name": "stdout"
        }
      ]
    },
    {
      "cell_type": "markdown",
      "metadata": {
        "id": "xM2gCmtWNb5l"
      },
      "source": [
        "**Make a prediction**"
      ]
    },
    {
      "cell_type": "code",
      "metadata": {
        "id": "4WaHtKZLbk-F",
        "colab": {
          "base_uri": "https://localhost:8080/"
        },
        "outputId": "ae5cc207-1419-4bc3-a604-ee09fa5f6a69"
      },
      "source": [
        "y_pred = model.predict(x_test)\n",
        "print('Y predicted shape:', y_pred.shape)"
      ],
      "execution_count": null,
      "outputs": [
        {
          "output_type": "stream",
          "text": [
            "Y predicted shape: (800, 1)\n"
          ],
          "name": "stdout"
        }
      ]
    },
    {
      "cell_type": "code",
      "metadata": {
        "id": "UX1ESTmafLUI",
        "colab": {
          "base_uri": "https://localhost:8080/",
          "height": 265
        },
        "outputId": "7a794b8b-6451-490b-e5ce-32791b173b4b"
      },
      "source": [
        "# plot test set and trained model\n",
        "plt.scatter(x_test, y_test, s=10, c='red') # plot x_test and y_testmake_friedman1\n",
        "plt.plot(x_test, y_pred, c='green') # plot x_test and y_pred\n",
        "plt.show()"
      ],
      "execution_count": null,
      "outputs": [
        {
          "output_type": "display_data",
          "data": {
            "image/png": "[encoded data removed]",
            "text/plain": [
              "<Figure size 432x288 with 1 Axes>"
            ]
          },
          "metadata": {
            "tags": [],
            "needs_background": "light"
          }
        }
      ]
    },
    {
      "cell_type": "code",
      "metadata": {
        "id": "bEUihswvh-ne",
        "colab": {
          "base_uri": "https://localhost:8080/"
        },
        "outputId": "59e45447-cdb7-4cd7-aa74-6e1f3c05e3cb"
      },
      "source": [
        "print('Mean Absolute Error on Test Set:', MAE(y_test, y_pred))\n",
        "print('Mean Squared Error on Test Set:', MSE(y_test, y_pred))"
      ],
      "execution_count": null,
      "outputs": [
        {
          "output_type": "stream",
          "text": [
            "Mean Absolute Error on Test Set: 11.711119296431775\n",
            "Mean Squared Error on Test Set: 249.4077751778655\n"
          ],
          "name": "stdout"
        }
      ]
    },
    {
      "cell_type": "markdown",
      "metadata": {
        "id": "yJyGHiFov5k9"
      },
      "source": [
        "# Bonus: Non-Linear Model"
      ]
    },
    {
      "cell_type": "code",
      "metadata": {
        "id": "GnDTq8JCv49g"
      },
      "source": [
        "from tensorflow.keras.layers import *\n",
        "from tensorflow.keras.models import Sequential"
      ],
      "execution_count": null,
      "outputs": []
    },
    {
      "cell_type": "code",
      "metadata": {
        "id": "3mSyThHR0dMB"
      },
      "source": [
        "x_train, x_test, y_train, y_test = train_test_split(x, y, test_size=0.2, shuffle=True, random_state=42)"
      ],
      "execution_count": null,
      "outputs": []
    },
    {
      "cell_type": "code",
      "metadata": {
        "id": "vfJ1JCTOzDa2"
      },
      "source": [
        "from sklearn.preprocessing import StandardScaler\n",
        "\n",
        "scaler = StandardScaler()\n",
        "y_train = scaler.fit_transform(y_train)\n",
        "y_test = scaler.transform(y_test)"
      ],
      "execution_count": null,
      "outputs": []
    },
    {
      "cell_type": "markdown",
      "metadata": {
        "id": "-PWez98Rd2a0"
      },
      "source": [
        "Chú ý xem hình vẽ bên dưới khác hình vẽ bên trên như thế nào"
      ]
    },
    {
      "cell_type": "code",
      "metadata": {
        "id": "zKotZaP8zUev",
        "colab": {
          "base_uri": "https://localhost:8080/",
          "height": 610
        },
        "outputId": "e292226b-f25c-4192-e891-2b565d9a31b2"
      },
      "source": [
        "plt.figure(figsize=(10,10))\n",
        "plt.scatter(x_train, y_train)"
      ],
      "execution_count": null,
      "outputs": [
        {
          "output_type": "execute_result",
          "data": {
            "text/plain": [
              "<matplotlib.collections.PathCollection at 0x7f2892ec0160>"
            ]
          },
          "metadata": {
            "tags": []
          },
          "execution_count": 48
        },
        {
          "output_type": "display_data",
          "data": {
            "image/png": "[encoded data removed]",
            "text/plain": [
              "<Figure size 720x720 with 1 Axes>"
            ]
          },
          "metadata": {
            "tags": [],
            "needs_background": "light"
          }
        }
      ]
    },
    {
      "cell_type": "code",
      "metadata": {
        "id": "O-n9imTCwZBi",
        "colab": {
          "base_uri": "https://localhost:8080/"
        },
        "outputId": "c9104252-2a0e-4984-e379-c1570a75cdc7"
      },
      "source": [
        "model = Sequential()\n",
        "model.add(Dense(300, activation='relu', input_shape=x.shape[1:]))\n",
        "model.add(Dense(300, activation='relu'))\n",
        "model.add(Dense(1, activation='linear'))\n",
        "\n",
        "model.compile(loss='mse', optimizer='adam', metrics=['mae'])\n",
        "model.fit(x_train, y_train, epochs=200, verbose=0, batch_size=x_train.shape[0])"
      ],
      "execution_count": null,
      "outputs": [
        {
          "output_type": "execute_result",
          "data": {
            "text/plain": [
              "<tensorflow.python.keras.callbacks.History at 0x7f2892e9c320>"
            ]
          },
          "metadata": {
            "tags": []
          },
          "execution_count": 49
        }
      ]
    },
    {
      "cell_type": "code",
      "metadata": {
        "id": "xgt2iotr09Rf",
        "colab": {
          "base_uri": "https://localhost:8080/"
        },
        "outputId": "67e0b3aa-b4d5-42d4-d169-98e8d4b412e5"
      },
      "source": [
        "model.evaluate(x_test,y_test, batch_size=x_test.shape[0])"
      ],
      "execution_count": null,
      "outputs": [
        {
          "output_type": "stream",
          "text": [
            "WARNING:tensorflow:8 out of the last 8 calls to <function Model.make_test_function.<locals>.test_function at 0x7f2892d75840> triggered tf.function retracing. Tracing is expensive and the excessive number of tracings could be due to (1) creating @tf.function repeatedly in a loop, (2) passing tensors with different shapes, (3) passing Python objects instead of tensors. For (1), please define your @tf.function outside of the loop. For (2), @tf.function has experimental_relax_shapes=True option that relaxes argument shapes that can avoid unnecessary retracing. For (3), please refer to https://www.tensorflow.org/tutorials/customization/performance#python_or_tensor_args and https://www.tensorflow.org/api_docs/python/tf/function for  more details.\n",
            "1/1 [==============================] - 0s 2ms/step - loss: 0.2280 - mae: 0.3807\n"
          ],
          "name": "stdout"
        },
        {
          "output_type": "execute_result",
          "data": {
            "text/plain": [
              "[0.22799964249134064, 0.3807425796985626]"
            ]
          },
          "metadata": {
            "tags": []
          },
          "execution_count": 50
        }
      ]
    },
    {
      "cell_type": "code",
      "metadata": {
        "id": "pBYgVgxJwkMA",
        "colab": {
          "base_uri": "https://localhost:8080/",
          "height": 592
        },
        "outputId": "e02d411d-bbb6-4048-ba25-a143dcfb764f"
      },
      "source": [
        "y_pred = model.predict(x_test)\n",
        "plt.figure(figsize=(10,10))\n",
        "plt.scatter(x_test, y_test, s=10, c='red')\n",
        "plt.scatter(x_test, y_pred, c='green')\n",
        "plt.show()"
      ],
      "execution_count": null,
      "outputs": [
        {
          "output_type": "display_data",
          "data": {
            "image/png": "[encoded data removed]",
            "text/plain": [
              "<Figure size 720x720 with 1 Axes>"
            ]
          },
          "metadata": {
            "tags": [],
            "needs_background": "light"
          }
        }
      ]
    },
    {
      "cell_type": "code",
      "metadata": {
        "id": "lHf8XBdpcLi_"
      },
      "source": [
        ""
      ],
      "execution_count": null,
      "outputs": []
    }
  ]
}